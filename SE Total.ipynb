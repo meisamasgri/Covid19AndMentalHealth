{
 "cells": [
  {
   "cell_type": "code",
   "execution_count": 1,
   "metadata": {
    "collapsed": true
   },
   "outputs": [
    {
     "name": "stderr",
     "output_type": "stream",
     "text": [
      "C:\\Users\\meisamasgri\\AppData\\Local\\Temp\\ipykernel_28600\\3226220387.py:35: SettingWithCopyWarning: \n",
      "A value is trying to be set on a copy of a slice from a DataFrame\n",
      "\n",
      "See the caveats in the documentation: https://pandas.pydata.org/pandas-docs/stable/user_guide/indexing.html#returning-a-view-versus-a-copy\n",
      "  df1.dropna(inplace=True)\n",
      "C:\\Users\\meisamasgri\\AppData\\Local\\Temp\\ipykernel_28600\\3226220387.py:37: SettingWithCopyWarning: \n",
      "A value is trying to be set on a copy of a slice from a DataFrame\n",
      "\n",
      "See the caveats in the documentation: https://pandas.pydata.org/pandas-docs/stable/user_guide/indexing.html#returning-a-view-versus-a-copy\n",
      "  df2.dropna(inplace=True)\n",
      "C:\\Users\\meisamasgri\\AppData\\Local\\Temp\\ipykernel_28600\\3226220387.py:39: SettingWithCopyWarning: \n",
      "A value is trying to be set on a copy of a slice from a DataFrame\n",
      "\n",
      "See the caveats in the documentation: https://pandas.pydata.org/pandas-docs/stable/user_guide/indexing.html#returning-a-view-versus-a-copy\n",
      "  df3.dropna(inplace=True)\n",
      "C:\\Users\\meisamasgri\\AppData\\Local\\Temp\\ipykernel_28600\\3226220387.py:41: FutureWarning: The frame.append method is deprecated and will be removed from pandas in a future version. Use pandas.concat instead.\n",
      "  df = df1.append(df2,ignore_index = True).append(df3,ignore_index = True)\n"
     ]
    }
   ],
   "source": [
    "#IMPORTING DATASET(.CSV) INTO PANDAS DATAFRAME\n",
    "import alt as alt\n",
    "import pandas as pd\n",
    "\n",
    "dataset1 = pd.read_csv('01_april_30_covid_impact_survey.csv',\n",
    "                       sep=',',\n",
    "                       index_col=False,\n",
    "                       dtype='unicode')\n",
    "dataset1.columns = map(str.upper, dataset1.columns)\n",
    "\n",
    "dataset2 = pd.read_csv('02_May_12_covid_impact_survey.csv',\n",
    "                       sep=',',\n",
    "                       index_col=False,\n",
    "                       dtype='unicode')\n",
    "\n",
    "dataset3 = pd.read_csv('03_june_9_covid_impact_survey.csv',\n",
    "                       sep=',',\n",
    "                       index_col=False,\n",
    "                       dtype='unicode')\n",
    "dataset3.columns = map(str.upper, dataset3.columns)\n",
    "\n",
    "#Selected Features\n",
    "selected_features = ['SOC1','SOC2A','SOC2B','SOC3A','SOC3B','SOC4A','SOC4B',\n",
    "                      'SOC5A','SOC5B','SOC5C','SOC5D','SOC5E',\n",
    "                      'PHYS1A','PHYS1B','PHYS1C','PHYS1D','PHYS1E','PHYS1F','PHYS1G','PHYS1H','PHYS1I','PHYS1J','PHYS1K','PHYS1L','PHYS1M','PHYS1N','PHYS1O','PHYS1P','PHYS1Q',\n",
    "                      'PHYS2_1','PHYS2_2','PHYS2_3','PHYS2_4','PHYS2_5','PHYS2_6','PHYS2_7','PHYS2_8','PHYS2_9','PHYS2_10','PHYS2_11','PHYS2_12','PHYS2_13','PHYS2_14','PHYS2_15','PHYS2_16','PHYS2_17','PHYS2_18','PHYS2_19',\n",
    "                      'PHYS7_1','PHYS7_2','PHYS7_3','PHYS7_4',\n",
    "                      'PHYS8',\n",
    "                      'PHYS10A','PHYS10B','PHYS10C','PHYS10D','PHYS10E',\n",
    "                      'AGE7','GENDER','RACETH','ECON4A','ECON4B','ECON3','HHINCOME','EDUCATION','HHSIZE1','HH_BANNER',\n",
    "                      ]\n",
    "\n",
    "\n",
    "df1 = dataset1[selected_features]\n",
    "df1.dropna(inplace=True)\n",
    "df2 = dataset2[selected_features]\n",
    "df2.dropna(inplace=True)\n",
    "df3 = dataset3[selected_features]\n",
    "df3.dropna(inplace=True)\n",
    "\n",
    "df = df1.append(df2,ignore_index = True).append(df3,ignore_index = True)\n",
    "# df.isna().sum()\n",
    "\n",
    "#Exporting Selected Features from datasets\n",
    "from pathlib import Path\n",
    "\n",
    "filepath1 = Path('C:\\python\\df1.csv')\n",
    "filepath1.parent.mkdir(parents=True, exist_ok=True)\n",
    "df1.to_csv(filepath1)\n",
    "\n",
    "filepath2 = Path('C:\\python\\df2.csv')\n",
    "filepath2.parent.mkdir(parents=True, exist_ok=True)\n",
    "df2.to_csv(filepath2)\n",
    "\n",
    "filepath3 = Path('C:\\python\\df3.csv')\n",
    "filepath3.parent.mkdir(parents=True, exist_ok=True)\n",
    "df3.to_csv(filepath3)\n",
    "\n",
    "filepath = Path('C:\\python\\df.csv')\n",
    "filepath.parent.mkdir(parents=True, exist_ok=True)\n",
    "df.to_csv(filepath)\n"
   ]
  },
  {
   "cell_type": "code",
   "execution_count": 30,
   "outputs": [
    {
     "data": {
      "text/plain": "(0) No     5119\n(1) Yes    2374\nName: PHYS2_1, dtype: int64"
     },
     "execution_count": 30,
     "metadata": {},
     "output_type": "execute_result"
    }
   ],
   "source": [
    "df3['PHYS2_1'].value_counts()"
   ],
   "metadata": {
    "collapsed": false,
    "pycharm": {
     "name": "#%%\n"
    }
   }
  },
  {
   "cell_type": "code",
   "execution_count": 34,
   "outputs": [
    {
     "name": "stderr",
     "output_type": "stream",
     "text": [
      "C:\\Users\\meisamasgri\\AppData\\Local\\Temp\\ipykernel_28600\\747032344.py:60: FutureWarning: The frame.append method is deprecated and will be removed from pandas in a future version. Use pandas.concat instead.\n",
      "  output = output.append(data)\n"
     ]
    },
    {
     "data": {
      "text/plain": "  unique_values  1st survey  1st survey %  2nd survey  2nd survey %  \\\n0        (0) No        5636      0.642572        5811      0.648839   \n\n   3rd survey  3rd survey %  \n0        5119      0.683171  ",
      "text/html": "<div>\n<style scoped>\n    .dataframe tbody tr th:only-of-type {\n        vertical-align: middle;\n    }\n\n    .dataframe tbody tr th {\n        vertical-align: top;\n    }\n\n    .dataframe thead th {\n        text-align: right;\n    }\n</style>\n<table border=\"1\" class=\"dataframe\">\n  <thead>\n    <tr style=\"text-align: right;\">\n      <th></th>\n      <th>unique_values</th>\n      <th>1st survey</th>\n      <th>1st survey %</th>\n      <th>2nd survey</th>\n      <th>2nd survey %</th>\n      <th>3rd survey</th>\n      <th>3rd survey %</th>\n    </tr>\n  </thead>\n  <tbody>\n    <tr>\n      <th>0</th>\n      <td>(0) No</td>\n      <td>5636</td>\n      <td>0.642572</td>\n      <td>5811</td>\n      <td>0.648839</td>\n      <td>5119</td>\n      <td>0.683171</td>\n    </tr>\n  </tbody>\n</table>\n</div>"
     },
     "execution_count": 34,
     "metadata": {},
     "output_type": "execute_result"
    }
   ],
   "source": [
    "input = ['PHYS2_1']\n",
    "# input= selected_features\n",
    "output = pd.DataFrame([])\n",
    "for i in range(len(input)):\n",
    "    # print(df1[input[i]].value_counts())\n",
    "    data1=[]\n",
    "    data2=[]\n",
    "    data3=[]\n",
    "    data=[]\n",
    "\n",
    "\n",
    "    feature1 = df1[input[i]]\n",
    "    data1=feature1.value_counts()\\\n",
    "        .rename_axis('unique_values')\\\n",
    "        .reset_index(name='1st survey')\\\n",
    "        .sort_values('unique_values')\\\n",
    "        .reset_index(drop=True)\n",
    "\n",
    "    data11=feature1.value_counts(normalize=True)\\\n",
    "        .rename_axis('unique_values')\\\n",
    "        .reset_index(name='1st survey %')\\\n",
    "        .sort_values('unique_values')\\\n",
    "        .reset_index(drop=True)\n",
    "\n",
    "    feature2 = df2[input[i]]\n",
    "    data2=feature2.value_counts()\\\n",
    "        .rename_axis('unique_values')\\\n",
    "        .reset_index(name='2nd survey')\\\n",
    "        .sort_values('unique_values')\\\n",
    "        .reset_index(drop=True)\n",
    "\n",
    "    data22=feature2.value_counts(normalize=True)\\\n",
    "        .rename_axis('unique_values')\\\n",
    "        .reset_index(name='2nd survey %')\\\n",
    "        .sort_values('unique_values')\\\n",
    "        .reset_index(drop=True)\n",
    "\n",
    "    feature3 = df3[input[i]]\n",
    "    data3=feature3.value_counts()\\\n",
    "        .rename_axis('unique_values')\\\n",
    "        .reset_index(name='3rd survey')\\\n",
    "        .sort_values('unique_values')\\\n",
    "        .reset_index(drop=True)\n",
    "\n",
    "    data33=feature3.value_counts(normalize=True)\\\n",
    "        .rename_axis('unique_values')\\\n",
    "        .reset_index(name='3rd survey %')\\\n",
    "        .sort_values('unique_values')\\\n",
    "        .reset_index(drop=True)\n",
    "\n",
    "    data = pd.concat([data1,\n",
    "                      data11['1st survey %'],\n",
    "                      data2['2nd survey'],\n",
    "                      data22['2nd survey %'],\n",
    "                      data3['3rd survey'],\n",
    "                      data33['3rd survey %']],\n",
    "                     axis = 1)\n",
    "\n",
    "    data.drop(data.tail(1).index,inplace=True)\n",
    "    output = output.append(data)\n",
    "\n",
    "filepath = Path('C:\\python\\out2.csv')\n",
    "filepath.parent.mkdir(parents=True, exist_ok=True)\n",
    "output.to_csv(filepath)\n",
    "output\n",
    "\n"
   ],
   "metadata": {
    "collapsed": false,
    "pycharm": {
     "name": "#%%\n"
    }
   }
  },
  {
   "cell_type": "code",
   "execution_count": null,
   "outputs": [],
   "source": [],
   "metadata": {
    "collapsed": false,
    "pycharm": {
     "name": "#%%\n"
    }
   }
  }
 ],
 "metadata": {
  "kernelspec": {
   "display_name": "Python 3",
   "language": "python",
   "name": "python3"
  },
  "language_info": {
   "codemirror_mode": {
    "name": "ipython",
    "version": 2
   },
   "file_extension": ".py",
   "mimetype": "text/x-python",
   "name": "python",
   "nbconvert_exporter": "python",
   "pygments_lexer": "ipython2",
   "version": "2.7.6"
  }
 },
 "nbformat": 4,
 "nbformat_minor": 0
}