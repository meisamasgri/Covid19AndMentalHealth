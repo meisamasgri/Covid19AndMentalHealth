{
 "cells": [
  {
   "cell_type": "code",
   "execution_count": 8,
   "metadata": {
    "collapsed": true
   },
   "outputs": [
    {
     "name": "stderr",
     "output_type": "stream",
     "text": [
      "C:\\Users\\meisamasgri\\AppData\\Local\\Temp\\ipykernel_23748\\734406096.py:35: SettingWithCopyWarning: \n",
      "A value is trying to be set on a copy of a slice from a DataFrame\n",
      "\n",
      "See the caveats in the documentation: https://pandas.pydata.org/pandas-docs/stable/user_guide/indexing.html#returning-a-view-versus-a-copy\n",
      "  df1.dropna(inplace=True)\n",
      "C:\\Users\\meisamasgri\\AppData\\Local\\Temp\\ipykernel_23748\\734406096.py:37: SettingWithCopyWarning: \n",
      "A value is trying to be set on a copy of a slice from a DataFrame\n",
      "\n",
      "See the caveats in the documentation: https://pandas.pydata.org/pandas-docs/stable/user_guide/indexing.html#returning-a-view-versus-a-copy\n",
      "  df2.dropna(inplace=True)\n",
      "C:\\Users\\meisamasgri\\AppData\\Local\\Temp\\ipykernel_23748\\734406096.py:39: SettingWithCopyWarning: \n",
      "A value is trying to be set on a copy of a slice from a DataFrame\n",
      "\n",
      "See the caveats in the documentation: https://pandas.pydata.org/pandas-docs/stable/user_guide/indexing.html#returning-a-view-versus-a-copy\n",
      "  df3.dropna(inplace=True)\n",
      "C:\\Users\\meisamasgri\\AppData\\Local\\Temp\\ipykernel_23748\\734406096.py:41: FutureWarning: The frame.append method is deprecated and will be removed from pandas in a future version. Use pandas.concat instead.\n",
      "  df = df1.append(df2,ignore_index = True).append(df3,ignore_index = True)\n"
     ]
    }
   ],
   "source": [
    "#IMPORTING DATASET(.CSV) INTO PANDAS DATAFRAME\n",
    "import alt as alt\n",
    "import pandas as pd\n",
    "\n",
    "dataset1 = pd.read_csv('01_april_30_covid_impact_survey.csv',\n",
    "                       sep=',',\n",
    "                       index_col=False,\n",
    "                       dtype='unicode')\n",
    "dataset1.columns = map(str.upper, dataset1.columns)\n",
    "\n",
    "dataset2 = pd.read_csv('02_May_12_covid_impact_survey.csv',\n",
    "                       sep=',',\n",
    "                       index_col=False,\n",
    "                       dtype='unicode')\n",
    "\n",
    "dataset3 = pd.read_csv('03_june_9_covid_impact_survey.csv',\n",
    "                       sep=',',\n",
    "                       index_col=False,\n",
    "                       dtype='unicode')\n",
    "dataset3.columns = map(str.upper, dataset3.columns)\n",
    "\n",
    "#Selected Features\n",
    "selected_features = ['SOC1','SOC2A','SOC2B','SOC3A','SOC3B','SOC4A','SOC4B',\n",
    "                      'SOC5A','SOC5B','SOC5C','SOC5D','SOC5E',\n",
    "                      'PHYS1A','PHYS1B','PHYS1C','PHYS1D','PHYS1E','PHYS1F','PHYS1G','PHYS1H','PHYS1I','PHYS1J','PHYS1K','PHYS1L','PHYS1M','PHYS1N','PHYS1O','PHYS1P','PHYS1Q',\n",
    "                      'PHYS2_1','PHYS2_2','PHYS2_3','PHYS2_4','PHYS2_5','PHYS2_6','PHYS2_7','PHYS2_8','PHYS2_9','PHYS2_10','PHYS2_11','PHYS2_12','PHYS2_13','PHYS2_14','PHYS2_15','PHYS2_16','PHYS2_17','PHYS2_18','PHYS2_19',\n",
    "                      'PHYS7_1','PHYS7_2','PHYS7_3','PHYS7_4',\n",
    "                      'PHYS8',\n",
    "                      'PHYS10A','PHYS10B','PHYS10C','PHYS10D','PHYS10E',\n",
    "                      'AGE7','GENDER','RACETH','ECON4A','ECON4B','ECON3','HHINCOME','EDUCATION','HHSIZE1','HH_BANNER','LANGUAGE'\n",
    "                      ]\n",
    "\n",
    "\n",
    "df1 = dataset1[selected_features]\n",
    "df1.dropna(inplace=True)\n",
    "df2 = dataset2[selected_features]\n",
    "df2.dropna(inplace=True)\n",
    "df3 = dataset3[selected_features]\n",
    "df3.dropna(inplace=True)\n",
    "\n",
    "df = df1.append(df2,ignore_index = True).append(df3,ignore_index = True)\n",
    "# df.isna().sum()\n",
    "\n",
    "#Exporting Selected Features from datasets\n",
    "from pathlib import Path\n",
    "\n",
    "filepath1 = Path('C:\\python\\df1.csv')\n",
    "filepath1.parent.mkdir(parents=True, exist_ok=True)\n",
    "df1.to_csv(filepath1)\n",
    "\n",
    "filepath2 = Path('C:\\python\\df2.csv')\n",
    "filepath2.parent.mkdir(parents=True, exist_ok=True)\n",
    "df2.to_csv(filepath2)\n",
    "\n",
    "filepath3 = Path('C:\\python\\df3.csv')\n",
    "filepath3.parent.mkdir(parents=True, exist_ok=True)\n",
    "df3.to_csv(filepath3)\n",
    "\n",
    "filepath = Path('C:\\python\\df.csv')\n",
    "filepath.parent.mkdir(parents=True, exist_ok=True)\n",
    "df.to_csv(filepath)\n"
   ]
  },
  {
   "cell_type": "code",
   "execution_count": 9,
   "outputs": [
    {
     "data": {
      "text/plain": "(0) No     5119\n(1) Yes    2374\nName: PHYS2_1, dtype: int64"
     },
     "execution_count": 9,
     "metadata": {},
     "output_type": "execute_result"
    }
   ],
   "source": [
    "df3['PHYS2_1'].value_counts()"
   ],
   "metadata": {
    "collapsed": false,
    "pycharm": {
     "name": "#%%\n"
    }
   }
  },
  {
   "cell_type": "code",
   "execution_count": 17,
   "outputs": [
    {
     "name": "stderr",
     "output_type": "stream",
     "text": [
      "C:\\Users\\meisamasgri\\AppData\\Local\\Temp\\ipykernel_23748\\3606677621.py:2: SettingWithCopyWarning: \n",
      "A value is trying to be set on a copy of a slice from a DataFrame\n",
      "\n",
      "See the caveats in the documentation: https://pandas.pydata.org/pandas-docs/stable/user_guide/indexing.html#returning-a-view-versus-a-copy\n",
      "  data.drop(data.loc[df['SOC5A']== '(98) SKIPPED ON WEB'].index, inplace=True)\n",
      "C:\\Users\\meisamasgri\\AppData\\Local\\Temp\\ipykernel_23748\\3606677621.py:3: SettingWithCopyWarning: \n",
      "A value is trying to be set on a copy of a slice from a DataFrame\n",
      "\n",
      "See the caveats in the documentation: https://pandas.pydata.org/pandas-docs/stable/user_guide/indexing.html#returning-a-view-versus-a-copy\n",
      "  data.drop(data.loc[df['SOC5B']== '(98) SKIPPED ON WEB'].index, inplace=True)\n",
      "C:\\Users\\meisamasgri\\AppData\\Local\\Temp\\ipykernel_23748\\3606677621.py:4: SettingWithCopyWarning: \n",
      "A value is trying to be set on a copy of a slice from a DataFrame\n",
      "\n",
      "See the caveats in the documentation: https://pandas.pydata.org/pandas-docs/stable/user_guide/indexing.html#returning-a-view-versus-a-copy\n",
      "  data.drop(data.loc[df['SOC5C']== '(98) SKIPPED ON WEB'].index, inplace=True)\n",
      "C:\\Users\\meisamasgri\\AppData\\Local\\Temp\\ipykernel_23748\\3606677621.py:5: SettingWithCopyWarning: \n",
      "A value is trying to be set on a copy of a slice from a DataFrame\n",
      "\n",
      "See the caveats in the documentation: https://pandas.pydata.org/pandas-docs/stable/user_guide/indexing.html#returning-a-view-versus-a-copy\n",
      "  data.drop(data.loc[df['SOC5D']== '(98) SKIPPED ON WEB'].index, inplace=True)\n",
      "C:\\Users\\meisamasgri\\AppData\\Local\\Temp\\ipykernel_23748\\3606677621.py:6: SettingWithCopyWarning: \n",
      "A value is trying to be set on a copy of a slice from a DataFrame\n",
      "\n",
      "See the caveats in the documentation: https://pandas.pydata.org/pandas-docs/stable/user_guide/indexing.html#returning-a-view-versus-a-copy\n",
      "  data.drop(data.loc[df['SOC5E']== '(98) SKIPPED ON WEB'].index, inplace=True)\n",
      "C:\\Users\\meisamasgri\\AppData\\Local\\Temp\\ipykernel_23748\\3606677621.py:7: SettingWithCopyWarning: \n",
      "A value is trying to be set on a copy of a slice from a DataFrame\n",
      "\n",
      "See the caveats in the documentation: https://pandas.pydata.org/pandas-docs/stable/user_guide/indexing.html#returning-a-view-versus-a-copy\n",
      "  data.drop(data.loc[df['SOC5A']== \"(77) DON'T KNOW\"].index, inplace=True)\n",
      "C:\\Users\\meisamasgri\\AppData\\Local\\Temp\\ipykernel_23748\\3606677621.py:8: SettingWithCopyWarning: \n",
      "A value is trying to be set on a copy of a slice from a DataFrame\n",
      "\n",
      "See the caveats in the documentation: https://pandas.pydata.org/pandas-docs/stable/user_guide/indexing.html#returning-a-view-versus-a-copy\n",
      "  data.drop(data.loc[df['SOC5B']== \"(77) DON'T KNOW\"].index, inplace=True)\n",
      "C:\\Users\\meisamasgri\\AppData\\Local\\Temp\\ipykernel_23748\\3606677621.py:9: SettingWithCopyWarning: \n",
      "A value is trying to be set on a copy of a slice from a DataFrame\n",
      "\n",
      "See the caveats in the documentation: https://pandas.pydata.org/pandas-docs/stable/user_guide/indexing.html#returning-a-view-versus-a-copy\n",
      "  data.drop(data.loc[df['SOC5C']== \"(77) DON'T KNOW\"].index, inplace=True)\n",
      "C:\\Users\\meisamasgri\\AppData\\Local\\Temp\\ipykernel_23748\\3606677621.py:10: SettingWithCopyWarning: \n",
      "A value is trying to be set on a copy of a slice from a DataFrame\n",
      "\n",
      "See the caveats in the documentation: https://pandas.pydata.org/pandas-docs/stable/user_guide/indexing.html#returning-a-view-versus-a-copy\n",
      "  data.drop(data.loc[df['SOC5D']== \"(77) DON'T KNOW\"].index, inplace=True)\n",
      "C:\\Users\\meisamasgri\\AppData\\Local\\Temp\\ipykernel_23748\\3606677621.py:11: SettingWithCopyWarning: \n",
      "A value is trying to be set on a copy of a slice from a DataFrame\n",
      "\n",
      "See the caveats in the documentation: https://pandas.pydata.org/pandas-docs/stable/user_guide/indexing.html#returning-a-view-versus-a-copy\n",
      "  data.drop(data.loc[df['SOC5E']== \"(77) DON'T KNOW\"].index, inplace=True)\n",
      "C:\\Users\\meisamasgri\\AppData\\Local\\Temp\\ipykernel_23748\\3606677621.py:12: SettingWithCopyWarning: \n",
      "A value is trying to be set on a copy of a slice from a DataFrame\n",
      "\n",
      "See the caveats in the documentation: https://pandas.pydata.org/pandas-docs/stable/user_guide/indexing.html#returning-a-view-versus-a-copy\n",
      "  data.drop(data.loc[df['SOC5A']== \"(99) REFUSED\"].index, inplace=True)\n",
      "C:\\Users\\meisamasgri\\AppData\\Local\\Temp\\ipykernel_23748\\3606677621.py:13: SettingWithCopyWarning: \n",
      "A value is trying to be set on a copy of a slice from a DataFrame\n",
      "\n",
      "See the caveats in the documentation: https://pandas.pydata.org/pandas-docs/stable/user_guide/indexing.html#returning-a-view-versus-a-copy\n",
      "  data.drop(data.loc[df['SOC5B']== \"(99) REFUSED\"].index, inplace=True)\n",
      "C:\\Users\\meisamasgri\\AppData\\Local\\Temp\\ipykernel_23748\\3606677621.py:14: SettingWithCopyWarning: \n",
      "A value is trying to be set on a copy of a slice from a DataFrame\n",
      "\n",
      "See the caveats in the documentation: https://pandas.pydata.org/pandas-docs/stable/user_guide/indexing.html#returning-a-view-versus-a-copy\n",
      "  data.drop(data.loc[df['SOC5C']== \"(99) REFUSED\"].index, inplace=True)\n",
      "C:\\Users\\meisamasgri\\AppData\\Local\\Temp\\ipykernel_23748\\3606677621.py:15: SettingWithCopyWarning: \n",
      "A value is trying to be set on a copy of a slice from a DataFrame\n",
      "\n",
      "See the caveats in the documentation: https://pandas.pydata.org/pandas-docs/stable/user_guide/indexing.html#returning-a-view-versus-a-copy\n",
      "  data.drop(data.loc[df['SOC5D']== \"(99) REFUSED\"].index, inplace=True)\n",
      "C:\\Users\\meisamasgri\\AppData\\Local\\Temp\\ipykernel_23748\\3606677621.py:16: SettingWithCopyWarning: \n",
      "A value is trying to be set on a copy of a slice from a DataFrame\n",
      "\n",
      "See the caveats in the documentation: https://pandas.pydata.org/pandas-docs/stable/user_guide/indexing.html#returning-a-view-versus-a-copy\n",
      "  data.drop(data.loc[df['SOC5E']== \"(99) REFUSED\"].index, inplace=True)\n"
     ]
    },
    {
     "data": {
      "text/plain": "(1) Not at all or less than 1 day    15469\n(2) 1-2 days                          5433\n(3) 3-4 days                          2275\n(4) 5-7 days                          1625\nName: SOC5A, dtype: int64"
     },
     "execution_count": 17,
     "metadata": {},
     "output_type": "execute_result"
    }
   ],
   "source": [
    "data = df[['SOC5A','SOC5B','SOC5C','SOC5D','SOC5E']]\n",
    "data.drop(data.loc[df['SOC5A']== '(98) SKIPPED ON WEB'].index, inplace=True)\n",
    "data.drop(data.loc[df['SOC5B']== '(98) SKIPPED ON WEB'].index, inplace=True)\n",
    "data.drop(data.loc[df['SOC5C']== '(98) SKIPPED ON WEB'].index, inplace=True)\n",
    "data.drop(data.loc[df['SOC5D']== '(98) SKIPPED ON WEB'].index, inplace=True)\n",
    "data.drop(data.loc[df['SOC5E']== '(98) SKIPPED ON WEB'].index, inplace=True)\n",
    "data.drop(data.loc[df['SOC5A']== \"(77) DON'T KNOW\"].index, inplace=True)\n",
    "data.drop(data.loc[df['SOC5B']== \"(77) DON'T KNOW\"].index, inplace=True)\n",
    "data.drop(data.loc[df['SOC5C']== \"(77) DON'T KNOW\"].index, inplace=True)\n",
    "data.drop(data.loc[df['SOC5D']== \"(77) DON'T KNOW\"].index, inplace=True)\n",
    "data.drop(data.loc[df['SOC5E']== \"(77) DON'T KNOW\"].index, inplace=True)\n",
    "data.drop(data.loc[df['SOC5A']== \"(99) REFUSED\"].index, inplace=True)\n",
    "data.drop(data.loc[df['SOC5B']== \"(99) REFUSED\"].index, inplace=True)\n",
    "data.drop(data.loc[df['SOC5C']== \"(99) REFUSED\"].index, inplace=True)\n",
    "data.drop(data.loc[df['SOC5D']== \"(99) REFUSED\"].index, inplace=True)\n",
    "data.drop(data.loc[df['SOC5E']== \"(99) REFUSED\"].index, inplace=True)\n",
    "\n",
    "\n",
    "data['SOC5A'].value_counts()\n",
    "\n"
   ],
   "metadata": {
    "collapsed": false,
    "pycharm": {
     "name": "#%%\n"
    }
   }
  },
  {
   "cell_type": "code",
   "execution_count": 13,
   "outputs": [
    {
     "data": {
      "text/plain": "SOC5A                              SOC5B                              SOC5C                              SOC5D                              SOC5E                            \n(1) Not at all or less than 1 day  (1) Not at all or less than 1 day  (1) Not at all or less than 1 day  (1) Not at all or less than 1 day  (1) Not at all or less than 1 day    9233\n                                                                                                         (2) 1-2 days                       (1) Not at all or less than 1 day     948\n                                                                      (2) 1-2 days                       (1) Not at all or less than 1 day  (1) Not at all or less than 1 day     899\n                                   (2) 1-2 days                       (1) Not at all or less than 1 day  (1) Not at all or less than 1 day  (1) Not at all or less than 1 day     882\n(2) 1-2 days                       (1) Not at all or less than 1 day  (1) Not at all or less than 1 day  (1) Not at all or less than 1 day  (1) Not at all or less than 1 day     847\n                                                                                                                                                                                 ... \n                                   (3) 3-4 days                       (98) SKIPPED ON WEB                (2) 1-2 days                       (1) Not at all or less than 1 day       1\n                                                                      (4) 5-7 days                       (2) 1-2 days                       (4) 5-7 days                            1\n                                                                                                                                            (3) 3-4 days                            1\n                                                                                                         (1) Not at all or less than 1 day  (3) 3-4 days                            1\n(99) REFUSED                       (99) REFUSED                       (99) REFUSED                       (99) REFUSED                       (1) Not at all or less than 1 day       1\nLength: 996, dtype: int64"
     },
     "execution_count": 13,
     "metadata": {},
     "output_type": "execute_result"
    }
   ],
   "source": [
    "df[['SOC5A','SOC5B','SOC5C','SOC5D','SOC5E']].value_counts()"
   ],
   "metadata": {
    "collapsed": false,
    "pycharm": {
     "name": "#%%\n"
    }
   }
  },
  {
   "cell_type": "code",
   "execution_count": 2,
   "outputs": [
    {
     "name": "stderr",
     "output_type": "stream",
     "text": [
      "C:\\Users\\meisamasgri\\AppData\\Local\\Temp\\ipykernel_23748\\1610711399.py:60: FutureWarning: The frame.append method is deprecated and will be removed from pandas in a future version. Use pandas.concat instead.\n",
      "  output = output.append(data)\n"
     ]
    },
    {
     "data": {
      "text/plain": "                 unique_values  1st survey  1st survey %  2nd survey  \\\n0     $10,000 to under $20,000         617      0.070345         606   \n1   $100,000 to under $150,000        1338      0.152548        1401   \n2             $150,000 or more        1134      0.129290        1091   \n3     $20,000 to under $30,000         801      0.091324         830   \n4     $30,000 to under $40,000         775      0.088359         780   \n5     $40,000 to under $50,000         669      0.076274         704   \n6     $50,000 to under $75,000        1576      0.179683        1627   \n7    $75,000 to under $100,000        1226      0.139779        1291   \n8                   DON'T KNOW          25      0.002850          16   \n9                      REFUSED          69      0.007867          74   \n10              SKIPPED ON WEB         119      0.013567         122   \n\n    2nd survey %  3rd survey  3rd survey %  \n0       0.067664         585      0.078073  \n1       0.156431        1126      0.150274  \n2       0.121818         830      0.110770  \n3       0.092675         727      0.097024  \n4       0.087092         683      0.091152  \n5       0.078607         569      0.075938  \n6       0.181666        1320      0.176164  \n7       0.144149        1048      0.139864  \n8       0.001787          13      0.001735  \n9       0.008263          41      0.005472  \n10      0.013622         105      0.014013  ",
      "text/html": "<div>\n<style scoped>\n    .dataframe tbody tr th:only-of-type {\n        vertical-align: middle;\n    }\n\n    .dataframe tbody tr th {\n        vertical-align: top;\n    }\n\n    .dataframe thead th {\n        text-align: right;\n    }\n</style>\n<table border=\"1\" class=\"dataframe\">\n  <thead>\n    <tr style=\"text-align: right;\">\n      <th></th>\n      <th>unique_values</th>\n      <th>1st survey</th>\n      <th>1st survey %</th>\n      <th>2nd survey</th>\n      <th>2nd survey %</th>\n      <th>3rd survey</th>\n      <th>3rd survey %</th>\n    </tr>\n  </thead>\n  <tbody>\n    <tr>\n      <th>0</th>\n      <td>$10,000 to under $20,000</td>\n      <td>617</td>\n      <td>0.070345</td>\n      <td>606</td>\n      <td>0.067664</td>\n      <td>585</td>\n      <td>0.078073</td>\n    </tr>\n    <tr>\n      <th>1</th>\n      <td>$100,000 to under $150,000</td>\n      <td>1338</td>\n      <td>0.152548</td>\n      <td>1401</td>\n      <td>0.156431</td>\n      <td>1126</td>\n      <td>0.150274</td>\n    </tr>\n    <tr>\n      <th>2</th>\n      <td>$150,000 or more</td>\n      <td>1134</td>\n      <td>0.129290</td>\n      <td>1091</td>\n      <td>0.121818</td>\n      <td>830</td>\n      <td>0.110770</td>\n    </tr>\n    <tr>\n      <th>3</th>\n      <td>$20,000 to under $30,000</td>\n      <td>801</td>\n      <td>0.091324</td>\n      <td>830</td>\n      <td>0.092675</td>\n      <td>727</td>\n      <td>0.097024</td>\n    </tr>\n    <tr>\n      <th>4</th>\n      <td>$30,000 to under $40,000</td>\n      <td>775</td>\n      <td>0.088359</td>\n      <td>780</td>\n      <td>0.087092</td>\n      <td>683</td>\n      <td>0.091152</td>\n    </tr>\n    <tr>\n      <th>5</th>\n      <td>$40,000 to under $50,000</td>\n      <td>669</td>\n      <td>0.076274</td>\n      <td>704</td>\n      <td>0.078607</td>\n      <td>569</td>\n      <td>0.075938</td>\n    </tr>\n    <tr>\n      <th>6</th>\n      <td>$50,000 to under $75,000</td>\n      <td>1576</td>\n      <td>0.179683</td>\n      <td>1627</td>\n      <td>0.181666</td>\n      <td>1320</td>\n      <td>0.176164</td>\n    </tr>\n    <tr>\n      <th>7</th>\n      <td>$75,000 to under $100,000</td>\n      <td>1226</td>\n      <td>0.139779</td>\n      <td>1291</td>\n      <td>0.144149</td>\n      <td>1048</td>\n      <td>0.139864</td>\n    </tr>\n    <tr>\n      <th>8</th>\n      <td>DON'T KNOW</td>\n      <td>25</td>\n      <td>0.002850</td>\n      <td>16</td>\n      <td>0.001787</td>\n      <td>13</td>\n      <td>0.001735</td>\n    </tr>\n    <tr>\n      <th>9</th>\n      <td>REFUSED</td>\n      <td>69</td>\n      <td>0.007867</td>\n      <td>74</td>\n      <td>0.008263</td>\n      <td>41</td>\n      <td>0.005472</td>\n    </tr>\n    <tr>\n      <th>10</th>\n      <td>SKIPPED ON WEB</td>\n      <td>119</td>\n      <td>0.013567</td>\n      <td>122</td>\n      <td>0.013622</td>\n      <td>105</td>\n      <td>0.014013</td>\n    </tr>\n  </tbody>\n</table>\n</div>"
     },
     "execution_count": 2,
     "metadata": {},
     "output_type": "execute_result"
    }
   ],
   "source": [
    "input = ['HHINCOME']\n",
    "# input= selected_features\n",
    "output = pd.DataFrame([])\n",
    "for i in range(len(input)):\n",
    "    # print(df1[input[i]].value_counts())\n",
    "    data1=[]\n",
    "    data2=[]\n",
    "    data3=[]\n",
    "    data=[]\n",
    "\n",
    "\n",
    "    feature1 = df1[input[i]]\n",
    "    data1=feature1.value_counts()\\\n",
    "        .rename_axis('unique_values')\\\n",
    "        .reset_index(name='1st survey')\\\n",
    "        .sort_values('unique_values')\\\n",
    "        .reset_index(drop=True)\n",
    "\n",
    "    data11=feature1.value_counts(normalize=True)\\\n",
    "        .rename_axis('unique_values')\\\n",
    "        .reset_index(name='1st survey %')\\\n",
    "        .sort_values('unique_values')\\\n",
    "        .reset_index(drop=True)\n",
    "\n",
    "    feature2 = df2[input[i]]\n",
    "    data2=feature2.value_counts()\\\n",
    "        .rename_axis('unique_values')\\\n",
    "        .reset_index(name='2nd survey')\\\n",
    "        .sort_values('unique_values')\\\n",
    "        .reset_index(drop=True)\n",
    "\n",
    "    data22=feature2.value_counts(normalize=True)\\\n",
    "        .rename_axis('unique_values')\\\n",
    "        .reset_index(name='2nd survey %')\\\n",
    "        .sort_values('unique_values')\\\n",
    "        .reset_index(drop=True)\n",
    "\n",
    "    feature3 = df3[input[i]]\n",
    "    data3=feature3.value_counts()\\\n",
    "        .rename_axis('unique_values')\\\n",
    "        .reset_index(name='3rd survey')\\\n",
    "        .sort_values('unique_values')\\\n",
    "        .reset_index(drop=True)\n",
    "\n",
    "    data33=feature3.value_counts(normalize=True)\\\n",
    "        .rename_axis('unique_values')\\\n",
    "        .reset_index(name='3rd survey %')\\\n",
    "        .sort_values('unique_values')\\\n",
    "        .reset_index(drop=True)\n",
    "\n",
    "    data = pd.concat([data1,\n",
    "                      data11['1st survey %'],\n",
    "                      data2['2nd survey'],\n",
    "                      data22['2nd survey %'],\n",
    "                      data3['3rd survey'],\n",
    "                      data33['3rd survey %']],\n",
    "                     axis = 1)\n",
    "\n",
    "    data.drop(data.tail(1).index,inplace=True)\n",
    "    output = output.append(data)\n",
    "\n",
    "filepath = Path('C:\\python\\out2.csv')\n",
    "filepath.parent.mkdir(parents=True, exist_ok=True)\n",
    "output.to_csv(filepath)\n",
    "output\n",
    "\n"
   ],
   "metadata": {
    "collapsed": false,
    "pycharm": {
     "name": "#%%\n"
    }
   }
  },
  {
   "cell_type": "code",
   "execution_count": null,
   "outputs": [],
   "source": [
    "input = ['HHINCOME']\n",
    "# input= selected_features\n",
    "output = pd.DataFrame([])\n",
    "for i in range(len(input)):\n",
    "    # print(df1[input[i]].value_counts())\n",
    "    data1=[]\n",
    "    data2=[]\n",
    "    data3=[]\n",
    "    data=[]\n",
    "\n",
    "\n",
    "    feature1 = df1[input[i]]\n",
    "    data1=feature1.value_counts()\\\n",
    "        .rename_axis('unique_values')\\\n",
    "        .reset_index(name='1st survey')\\\n",
    "        .sort_values('unique_values')\\\n",
    "        .reset_index(drop=True)\n",
    "\n",
    "    data11=feature1.value_counts(normalize=True)\\\n",
    "        .rename_axis('unique_values')\\\n",
    "        .reset_index(name='1st survey %')\\\n",
    "        .sort_values('unique_values')\\\n",
    "        .reset_index(drop=True)\n",
    "\n",
    "    feature2 = df2[input[i]]\n",
    "    data2=feature2.value_counts()\\\n",
    "        .rename_axis('unique_values')\\\n",
    "        .reset_index(name='2nd survey')\\\n",
    "        .sort_values('unique_values')\\\n",
    "        .reset_index(drop=True)\n",
    "\n",
    "    data22=feature2.value_counts(normalize=True)\\\n",
    "        .rename_axis('unique_values')\\\n",
    "        .reset_index(name='2nd survey %')\\\n",
    "        .sort_values('unique_values')\\\n",
    "        .reset_index(drop=True)\n",
    "\n",
    "    feature3 = df3[input[i]]\n",
    "    data3=feature3.value_counts()\\\n",
    "        .rename_axis('unique_values')\\\n",
    "        .reset_index(name='3rd survey')\\\n",
    "        .sort_values('unique_values')\\\n",
    "        .reset_index(drop=True)\n",
    "\n",
    "    data33=feature3.value_counts(normalize=True)\\\n",
    "        .rename_axis('unique_values')\\\n",
    "        .reset_index(name='3rd survey %')\\\n",
    "        .sort_values('unique_values')\\\n",
    "        .reset_index(drop=True)\n",
    "\n",
    "    data = pd.concat([data1,\n",
    "                      data11['1st survey %'],\n",
    "                      data2['2nd survey'],\n",
    "                      data22['2nd survey %'],\n",
    "                      data3['3rd survey'],\n",
    "                      data33['3rd survey %']],\n",
    "                     axis = 1)\n",
    "\n",
    "    data.drop(data.tail(1).index,inplace=True)\n",
    "    output = output.append(data)\n",
    "\n",
    "filepath = Path('C:\\python\\outs.csv')\n",
    "filepath.parent.mkdir(parents=True, exist_ok=True)\n",
    "output.to_csv(filepath)\n",
    "output\n",
    "\n"
   ],
   "metadata": {
    "collapsed": false,
    "pycharm": {
     "name": "#%%\n"
    }
   }
  },
  {
   "cell_type": "code",
   "execution_count": null,
   "outputs": [],
   "source": [],
   "metadata": {
    "collapsed": false,
    "pycharm": {
     "name": "#%%\n"
    }
   }
  },
  {
   "cell_type": "code",
   "execution_count": 5,
   "outputs": [
    {
     "data": {
      "text/plain": "(1) English    7396\n(2) Spanish      97\nName: LANGUAGE, dtype: int64"
     },
     "execution_count": 5,
     "metadata": {},
     "output_type": "execute_result"
    }
   ],
   "source": [
    "feature3.value_counts()"
   ],
   "metadata": {
    "collapsed": false,
    "pycharm": {
     "name": "#%%\n"
    }
   }
  },
  {
   "cell_type": "code",
   "execution_count": null,
   "outputs": [],
   "source": [],
   "metadata": {
    "collapsed": false,
    "pycharm": {
     "name": "#%%\n"
    }
   }
  }
 ],
 "metadata": {
  "kernelspec": {
   "display_name": "Python 3",
   "language": "python",
   "name": "python3"
  },
  "language_info": {
   "codemirror_mode": {
    "name": "ipython",
    "version": 2
   },
   "file_extension": ".py",
   "mimetype": "text/x-python",
   "name": "python",
   "nbconvert_exporter": "python",
   "pygments_lexer": "ipython2",
   "version": "2.7.6"
  }
 },
 "nbformat": 4,
 "nbformat_minor": 0
}