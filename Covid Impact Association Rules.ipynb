{
 "cells": [
  {
   "cell_type": "code",
   "execution_count": 1,
   "metadata": {
    "collapsed": true
   },
   "outputs": [],
   "source": [
    "#IMPORTING DATASET(.CSV) INTO PANDAS DATAFRAME\n",
    "import pandas as pd\n",
    "\n",
    "dataset1 = pd.read_csv('01_april_30_covid_impact_survey.csv',\n",
    "                       sep=',',\n",
    "                       index_col=False,\n",
    "                       dtype='unicode')\n",
    "dataset1.columns = map(str.upper, dataset1.columns)\n",
    "\n",
    "dataset2 = pd.read_csv('02_May_12_covid_impact_survey.csv',\n",
    "                       sep=',',\n",
    "                       index_col=False,\n",
    "                       dtype='unicode')\n",
    "\n",
    "dataset3 = pd.read_csv('03_june_9_covid_impact_survey.csv',\n",
    "                       sep=',',\n",
    "                       index_col=False,\n",
    "                       dtype='unicode')\n",
    "dataset3.columns = map(str.upper, dataset3.columns)"
   ]
  },
  {
   "cell_type": "code",
   "execution_count": 2,
   "outputs": [
    {
     "name": "stderr",
     "output_type": "stream",
     "text": [
      "C:\\Users\\meisamasgri\\AppData\\Local\\Temp\\ipykernel_15368\\2751176498.py:14: SettingWithCopyWarning: \n",
      "A value is trying to be set on a copy of a slice from a DataFrame\n",
      "\n",
      "See the caveats in the documentation: https://pandas.pydata.org/pandas-docs/stable/user_guide/indexing.html#returning-a-view-versus-a-copy\n",
      "  df1.dropna(inplace=True)\n",
      "C:\\Users\\meisamasgri\\AppData\\Local\\Temp\\ipykernel_15368\\2751176498.py:16: SettingWithCopyWarning: \n",
      "A value is trying to be set on a copy of a slice from a DataFrame\n",
      "\n",
      "See the caveats in the documentation: https://pandas.pydata.org/pandas-docs/stable/user_guide/indexing.html#returning-a-view-versus-a-copy\n",
      "  df2.dropna(inplace=True)\n",
      "C:\\Users\\meisamasgri\\AppData\\Local\\Temp\\ipykernel_15368\\2751176498.py:18: SettingWithCopyWarning: \n",
      "A value is trying to be set on a copy of a slice from a DataFrame\n",
      "\n",
      "See the caveats in the documentation: https://pandas.pydata.org/pandas-docs/stable/user_guide/indexing.html#returning-a-view-versus-a-copy\n",
      "  df3.dropna(inplace=True)\n",
      "C:\\Users\\meisamasgri\\AppData\\Local\\Temp\\ipykernel_15368\\2751176498.py:20: FutureWarning: The frame.append method is deprecated and will be removed from pandas in a future version. Use pandas.concat instead.\n",
      "  df = df1.append(df2,ignore_index = True).append(df3,ignore_index = True)\n"
     ]
    }
   ],
   "source": [
    "#Selected Features\n",
    "selected_features = ['SOC1','SOC2A','SOC2B','SOC3A','SOC3B','SOC4A','SOC4B',\n",
    "                      'SOC5A','SOC5B','SOC5C','SOC5D','SOC5E',\n",
    "                      'PHYS1A','PHYS1B','PHYS1C','PHYS1D','PHYS1E','PHYS1F','PHYS1G','PHYS1H','PHYS1I','PHYS1J','PHYS1K','PHYS1L','PHYS1M','PHYS1N','PHYS1O','PHYS1P','PHYS1Q',\n",
    "                      'PHYS2_1','PHYS2_2','PHYS2_3','PHYS2_4','PHYS2_5','PHYS2_6','PHYS2_7','PHYS2_8','PHYS2_9','PHYS2_10','PHYS2_11','PHYS2_12','PHYS2_13','PHYS2_14','PHYS2_15','PHYS2_16','PHYS2_17','PHYS2_18','PHYS2_19',\n",
    "                      'PHYS7_1','PHYS7_2','PHYS7_3','PHYS7_4',\n",
    "                      'PHYS8',\n",
    "                      'PHYS10A','PHYS10B','PHYS10C','PHYS10D','PHYS10E',\n",
    "                      'GENDER','ECON4A','ECON4B','HHINCOME','EDUCATION','HHSIZE1','HH_BANNER',\n",
    "                      ]\n",
    "\n",
    "\n",
    "df1 = dataset1[selected_features]\n",
    "df1.dropna(inplace=True)\n",
    "df2 = dataset2[selected_features]\n",
    "df2.dropna(inplace=True)\n",
    "df3 = dataset3[selected_features]\n",
    "df3.dropna(inplace=True)\n",
    "\n",
    "df = df1.append(df2,ignore_index = True).append(df3,ignore_index = True)"
   ],
   "metadata": {
    "collapsed": false,
    "pycharm": {
     "name": "#%%\n"
    }
   }
  },
  {
   "cell_type": "code",
   "execution_count": 3,
   "outputs": [],
   "source": [
    "df['SOC1']=df['SOC1'].apply(lambda x: 'SOC1='+x)\n",
    "df['SOC2A']=df['SOC2A'].apply(lambda x: 'SOC2A='+x)\n",
    "df['SOC2B']=df['SOC2B'].apply(lambda x: 'SOC2B='+x)\n",
    "df['SOC3A']=df['SOC3A'].apply(lambda x: 'SOC3A='+x)\n",
    "df['SOC3B']=df['SOC3B'].apply(lambda x: 'SOC3B='+x)\n",
    "df['SOC4A']=df['SOC4A'].apply(lambda x: 'SOC4A='+x)\n",
    "df['SOC4B']=df['SOC4B'].apply(lambda x: 'SOC4B='+x)\n",
    "df['SOC5A']=df['SOC5A'].apply(lambda x: 'SOC5A='+x)\n",
    "df['SOC5B']=df['SOC5B'].apply(lambda x: 'SOC5B='+x)\n",
    "df['SOC5C']=df['SOC5C'].apply(lambda x: 'SOC5C='+x)\n",
    "df['SOC5D']=df['SOC5D'].apply(lambda x: 'SOC5D='+x)\n",
    "df['SOC5E']=df['SOC5E'].apply(lambda x: 'SOC5E='+x)\n",
    "df['PHYS1A']=df['PHYS1A'].apply(lambda x: 'PHYS1A='+x)\n",
    "df['PHYS1B']=df['PHYS1B'].apply(lambda x: 'PHYS1B='+x)\n",
    "df['PHYS1C']=df['PHYS1C'].apply(lambda x: 'PHYS1C='+x)\n",
    "df['PHYS1D']=df['PHYS1D'].apply(lambda x: 'PHYS1D='+x)\n",
    "df['PHYS1E']=df['PHYS1E'].apply(lambda x: 'PHYS1E='+x)\n",
    "df['PHYS1F']=df['PHYS1F'].apply(lambda x: 'PHYS1F='+x)\n",
    "df['PHYS1G']=df['PHYS1G'].apply(lambda x: 'PHYS1G='+x)\n",
    "df['PHYS1H']=df['PHYS1H'].apply(lambda x: 'PHYS1H='+x)\n",
    "df['PHYS1I']=df['PHYS1I'].apply(lambda x: 'PHYS1I='+x)\n",
    "df['PHYS1J']=df['PHYS1J'].apply(lambda x: 'PHYS1J='+x)\n",
    "df['PHYS1K']=df['PHYS1K'].apply(lambda x: 'PHYS1K='+x)\n",
    "df['PHYS1L']=df['PHYS1L'].apply(lambda x: 'PHYS1L='+x)\n",
    "df['PHYS1M']=df['PHYS1M'].apply(lambda x: 'PHYS1M='+x)\n",
    "df['PHYS1N']=df['PHYS1N'].apply(lambda x: 'PHYS1N='+x)\n",
    "df['PHYS1O']=df['PHYS1O'].apply(lambda x: 'PHYS1O='+x)\n",
    "df['PHYS1P']=df['PHYS1P'].apply(lambda x: 'PHYS1P='+x)\n",
    "df['PHYS1Q']=df['PHYS1Q'].apply(lambda x: 'PHYS1Q='+x)\n",
    "df['PHYS2_1']=df['PHYS2_1'].apply(lambda x: 'PHYS2_1='+x)\n",
    "df['PHYS2_2']=df['PHYS2_2'].apply(lambda x: 'PHYS2_2='+x)\n",
    "df['PHYS2_3']=df['PHYS2_3'].apply(lambda x: 'PHYS2_3='+x)\n",
    "df['PHYS2_4']=df['PHYS2_4'].apply(lambda x: 'PHYS2_4='+x)\n",
    "df['PHYS2_5']=df['PHYS2_5'].apply(lambda x: 'PHYS2_5='+x)\n",
    "df['PHYS2_6']=df['PHYS2_6'].apply(lambda x: 'PHYS2_6='+x)\n",
    "df['PHYS2_7']=df['PHYS2_7'].apply(lambda x: 'PHYS2_7='+x)\n",
    "df['PHYS2_8']=df['PHYS2_8'].apply(lambda x: 'PHYS2_8='+x)\n",
    "df['PHYS2_9']=df['PHYS2_9'].apply(lambda x: 'PHYS2_9='+x)\n",
    "df['PHYS2_10']=df['PHYS2_10'].apply(lambda x: 'PHYS2_10='+x)\n",
    "df['PHYS2_11']=df['PHYS2_11'].apply(lambda x: 'PHYS2_11='+x)\n",
    "df['PHYS2_12']=df['PHYS2_12'].apply(lambda x: 'PHYS2_12='+x)\n",
    "df['PHYS2_13']=df['PHYS2_13'].apply(lambda x: 'PHYS2_13='+x)\n",
    "df['PHYS2_14']=df['PHYS2_14'].apply(lambda x: 'PHYS2_14='+x)\n",
    "df['PHYS2_15']=df['PHYS2_15'].apply(lambda x: 'PHYS2_15='+x)\n",
    "df['PHYS2_16']=df['PHYS2_16'].apply(lambda x: 'PHYS2_16='+x)\n",
    "df['PHYS2_17']=df['PHYS2_17'].apply(lambda x: 'PHYS2_17='+x)\n",
    "df['PHYS2_18']=df['PHYS2_18'].apply(lambda x: 'PHYS2_18='+x)\n",
    "df['PHYS2_19']=df['PHYS2_19'].apply(lambda x: 'PHYS2_19='+x)\n",
    "df['PHYS7_1']=df['PHYS7_1'].apply(lambda x: 'PHYS7_1='+x)\n",
    "df['PHYS7_2']=df['PHYS7_2'].apply(lambda x: 'PHYS7_2='+x)\n",
    "df['PHYS7_3']=df['PHYS7_3'].apply(lambda x: 'PHYS7_3='+x)\n",
    "df['PHYS7_4']=df['PHYS7_4'].apply(lambda x: 'PHYS7_4='+x)\n",
    "df['PHYS8']=df['PHYS8'].apply(lambda x: 'PHYS8='+x)\n",
    "df['PHYS10A']=df['PHYS10A'].apply(lambda x: 'PHYS10A='+x)\n",
    "df['PHYS10B']=df['PHYS10B'].apply(lambda x: 'PHYS10B='+x)\n",
    "df['PHYS10C']=df['PHYS10C'].apply(lambda x: 'PHYS10C='+x)\n",
    "df['PHYS10D']=df['PHYS10D'].apply(lambda x: 'PHYS10D='+x)\n",
    "df['PHYS10E']=df['PHYS10E'].apply(lambda x: 'PHYS10E='+x)\n",
    "df['GENDER']=df['GENDER'].apply(lambda x: 'GENDER='+x)\n",
    "df['ECON4A']=df['ECON4A'].apply(lambda x: 'ECON4A='+x)\n",
    "df['ECON4B']=df['ECON4B'].apply(lambda x: 'ECON4B='+x)\n",
    "df['HHINCOME']=df['HHINCOME'].apply(lambda x: 'HHINCOME='+x)\n",
    "df['EDUCATION']=df['EDUCATION'].apply(lambda x: 'EDUCATION='+x)\n",
    "df['HHSIZE1']=df['HHSIZE1'].apply(lambda x: 'HHSIZE1='+x)\n",
    "df['HH_BANNER']=df['HH_BANNER'].apply(lambda x: 'HH_BANNER='+x)"
   ],
   "metadata": {
    "collapsed": false,
    "pycharm": {
     "name": "#%%\n"
    }
   }
  },
  {
   "cell_type": "code",
   "execution_count": 5,
   "outputs": [],
   "source": [
    "#CONVERTING DATASET INTO TRANSACTIONAL TRUE/FALSE DATAFRAME FOR APRIORI\n",
    "from mlxtend.preprocessing import TransactionEncoder\n",
    "\n",
    "dataset =  df.T.apply(lambda x: x.dropna().tolist()).values.tolist()\n",
    "te = TransactionEncoder()\n",
    "te_ary=te.fit(dataset).transform(dataset)\n",
    "df2 = pd.DataFrame(te_ary, columns=te.columns_)"
   ],
   "metadata": {
    "collapsed": false,
    "pycharm": {
     "name": "#%%\n"
    }
   }
  },
  {
   "cell_type": "code",
   "execution_count": 14,
   "outputs": [
    {
     "data": {
      "text/plain": "       support                                           itemsets\n0     0.015385                      (ECON4A=(1) Extremely likely)\n1     0.015385                           (ECON4A=(2) Very likely)\n2     0.015385                     (ECON4A=(3) Moderately likely)\n3     0.015385                        (ECON4A=(4) Not too likely)\n4     0.015385                     (ECON4A=(5) Not likely at all)\n...        ...                                                ...\n9918  0.015385  (HHINCOME=REFUSED, HHINCOME=$10,000 to under $...\n9919  0.015385  (HHINCOME=REFUSED, HHINCOME=$10,000 to under $...\n9920  0.015385  (HHINCOME=REFUSED, HHINCOME=$10,000 to under $...\n9921  0.015385  (HHINCOME=REFUSED, HHINCOME=DON'T KNOW, HHINCO...\n9922  0.015385  (HHINCOME=REFUSED, HHINCOME=$10,000 to under $...\n\n[9923 rows x 2 columns]",
      "text/html": "<div>\n<style scoped>\n    .dataframe tbody tr th:only-of-type {\n        vertical-align: middle;\n    }\n\n    .dataframe tbody tr th {\n        vertical-align: top;\n    }\n\n    .dataframe thead th {\n        text-align: right;\n    }\n</style>\n<table border=\"1\" class=\"dataframe\">\n  <thead>\n    <tr style=\"text-align: right;\">\n      <th></th>\n      <th>support</th>\n      <th>itemsets</th>\n    </tr>\n  </thead>\n  <tbody>\n    <tr>\n      <th>0</th>\n      <td>0.015385</td>\n      <td>(ECON4A=(1) Extremely likely)</td>\n    </tr>\n    <tr>\n      <th>1</th>\n      <td>0.015385</td>\n      <td>(ECON4A=(2) Very likely)</td>\n    </tr>\n    <tr>\n      <th>2</th>\n      <td>0.015385</td>\n      <td>(ECON4A=(3) Moderately likely)</td>\n    </tr>\n    <tr>\n      <th>3</th>\n      <td>0.015385</td>\n      <td>(ECON4A=(4) Not too likely)</td>\n    </tr>\n    <tr>\n      <th>4</th>\n      <td>0.015385</td>\n      <td>(ECON4A=(5) Not likely at all)</td>\n    </tr>\n    <tr>\n      <th>...</th>\n      <td>...</td>\n      <td>...</td>\n    </tr>\n    <tr>\n      <th>9918</th>\n      <td>0.015385</td>\n      <td>(HHINCOME=REFUSED, HHINCOME=$10,000 to under $...</td>\n    </tr>\n    <tr>\n      <th>9919</th>\n      <td>0.015385</td>\n      <td>(HHINCOME=REFUSED, HHINCOME=$10,000 to under $...</td>\n    </tr>\n    <tr>\n      <th>9920</th>\n      <td>0.015385</td>\n      <td>(HHINCOME=REFUSED, HHINCOME=$10,000 to under $...</td>\n    </tr>\n    <tr>\n      <th>9921</th>\n      <td>0.015385</td>\n      <td>(HHINCOME=REFUSED, HHINCOME=DON'T KNOW, HHINCO...</td>\n    </tr>\n    <tr>\n      <th>9922</th>\n      <td>0.015385</td>\n      <td>(HHINCOME=REFUSED, HHINCOME=$10,000 to under $...</td>\n    </tr>\n  </tbody>\n</table>\n<p>9923 rows × 2 columns</p>\n</div>"
     },
     "execution_count": 14,
     "metadata": {},
     "output_type": "execute_result"
    }
   ],
   "source": [
    "#FINDING FREQUENT ITEM SETS USING APRIORI\n",
    "from mlxtend.frequent_patterns import apriori\n",
    "frequent_itemsets = apriori(df2 , min_support=0.01 , use_colnames=True)\n",
    "frequent_itemsets"
   ],
   "metadata": {
    "collapsed": false,
    "pycharm": {
     "name": "#%%\n"
    }
   }
  },
  {
   "cell_type": "code",
   "execution_count": null,
   "outputs": [],
   "source": [],
   "metadata": {
    "collapsed": false,
    "pycharm": {
     "name": "#%%\n"
    }
   }
  }
 ],
 "metadata": {
  "kernelspec": {
   "display_name": "Python 3",
   "language": "python",
   "name": "python3"
  },
  "language_info": {
   "codemirror_mode": {
    "name": "ipython",
    "version": 2
   },
   "file_extension": ".py",
   "mimetype": "text/x-python",
   "name": "python",
   "nbconvert_exporter": "python",
   "pygments_lexer": "ipython2",
   "version": "2.7.6"
  }
 },
 "nbformat": 4,
 "nbformat_minor": 0
}