{
 "cells": [
  {
   "cell_type": "code",
   "execution_count": 121,
   "metadata": {
    "collapsed": true
   },
   "outputs": [
    {
     "name": "stderr",
     "output_type": "stream",
     "text": [
      "C:\\Users\\meisamasgri\\AppData\\Local\\Temp\\ipykernel_5032\\919149335.py:35: SettingWithCopyWarning: \n",
      "A value is trying to be set on a copy of a slice from a DataFrame\n",
      "\n",
      "See the caveats in the documentation: https://pandas.pydata.org/pandas-docs/stable/user_guide/indexing.html#returning-a-view-versus-a-copy\n",
      "  df1.dropna(inplace=True)\n",
      "C:\\Users\\meisamasgri\\AppData\\Local\\Temp\\ipykernel_5032\\919149335.py:37: SettingWithCopyWarning: \n",
      "A value is trying to be set on a copy of a slice from a DataFrame\n",
      "\n",
      "See the caveats in the documentation: https://pandas.pydata.org/pandas-docs/stable/user_guide/indexing.html#returning-a-view-versus-a-copy\n",
      "  df2.dropna(inplace=True)\n",
      "C:\\Users\\meisamasgri\\AppData\\Local\\Temp\\ipykernel_5032\\919149335.py:39: SettingWithCopyWarning: \n",
      "A value is trying to be set on a copy of a slice from a DataFrame\n",
      "\n",
      "See the caveats in the documentation: https://pandas.pydata.org/pandas-docs/stable/user_guide/indexing.html#returning-a-view-versus-a-copy\n",
      "  df3.dropna(inplace=True)\n",
      "C:\\Users\\meisamasgri\\AppData\\Local\\Temp\\ipykernel_5032\\919149335.py:41: FutureWarning: The frame.append method is deprecated and will be removed from pandas in a future version. Use pandas.concat instead.\n",
      "  df = df1.append(df2,ignore_index = True).append(df3,ignore_index = True)\n"
     ]
    }
   ],
   "source": [
    "#IMPORTING DATASET(.CSV) INTO PANDAS DATAFRAME\n",
    "import alt as alt\n",
    "import pandas as pd\n",
    "\n",
    "dataset1 = pd.read_csv('01_april_30_covid_impact_survey.csv',\n",
    "                       sep=',',\n",
    "                       index_col=False,\n",
    "                       dtype='unicode')\n",
    "dataset1.columns = map(str.upper, dataset1.columns)\n",
    "\n",
    "dataset2 = pd.read_csv('02_May_12_covid_impact_survey.csv',\n",
    "                       sep=',',\n",
    "                       index_col=False,\n",
    "                       dtype='unicode')\n",
    "\n",
    "dataset3 = pd.read_csv('03_june_9_covid_impact_survey.csv',\n",
    "                       sep=',',\n",
    "                       index_col=False,\n",
    "                       dtype='unicode')\n",
    "dataset3.columns = map(str.upper, dataset3.columns)\n",
    "\n",
    "#Selected Features\n",
    "selected_features = ['SOC1','SOC2A','SOC2B','SOC3A','SOC3B','SOC4A','SOC4B',\n",
    "                      'SOC5A','SOC5B','SOC5C','SOC5D','SOC5E',\n",
    "                      'PHYS1A','PHYS1B','PHYS1C','PHYS1D','PHYS1E','PHYS1F','PHYS1G','PHYS1H','PHYS1I','PHYS1J','PHYS1K','PHYS1L','PHYS1M','PHYS1N','PHYS1O','PHYS1P','PHYS1Q',\n",
    "                      'PHYS2_1','PHYS2_2','PHYS2_3','PHYS2_4','PHYS2_5','PHYS2_6','PHYS2_7','PHYS2_8','PHYS2_9','PHYS2_10','PHYS2_11','PHYS2_12','PHYS2_13','PHYS2_14','PHYS2_15','PHYS2_16','PHYS2_17','PHYS2_18','PHYS2_19',\n",
    "                      'PHYS7_1','PHYS7_2','PHYS7_3','PHYS7_4',\n",
    "                      'PHYS8',\n",
    "                      'PHYS10A','PHYS10B','PHYS10C','PHYS10D','PHYS10E',\n",
    "                      'AGE7','GENDER','RACETH','ECON4A','ECON4B','HHINCOME','EDUCATION','HHSIZE1','HH_BANNER',\n",
    "                      ]\n",
    "\n",
    "\n",
    "df1 = dataset1[selected_features]\n",
    "df1.dropna(inplace=True)\n",
    "df2 = dataset2[selected_features]\n",
    "df2.dropna(inplace=True)\n",
    "df3 = dataset3[selected_features]\n",
    "df3.dropna(inplace=True)\n",
    "\n",
    "df = df1.append(df2,ignore_index = True).append(df3,ignore_index = True)\n",
    "# df.isna().sum()\n",
    "\n",
    "#Exporting Selected Features from datasets\n",
    "from pathlib import Path\n",
    "\n",
    "filepath1 = Path('C:\\python\\df1.csv')\n",
    "filepath1.parent.mkdir(parents=True, exist_ok=True)\n",
    "df1.to_csv(filepath1)\n",
    "\n",
    "filepath2 = Path('C:\\python\\df2.csv')\n",
    "filepath2.parent.mkdir(parents=True, exist_ok=True)\n",
    "df2.to_csv(filepath2)\n",
    "\n",
    "filepath3 = Path('C:\\python\\df3.csv')\n",
    "filepath3.parent.mkdir(parents=True, exist_ok=True)\n",
    "df3.to_csv(filepath3)\n",
    "\n",
    "filepath = Path('C:\\python\\df.csv')\n",
    "filepath.parent.mkdir(parents=True, exist_ok=True)\n",
    "df.to_csv(filepath)"
   ]
  },
  {
   "cell_type": "code",
   "execution_count": 64,
   "outputs": [
    {
     "data": {
      "text/plain": "SOC1         0\nSOC2A        0\nSOC2B        0\nSOC3A        0\nSOC3B        0\n            ..\nECON4B       0\nHHINCOME     0\nEDUCATION    0\nHHSIZE1      0\nHH_BANNER    0\nLength: 67, dtype: int64"
     },
     "execution_count": 64,
     "metadata": {},
     "output_type": "execute_result"
    }
   ],
   "source": [
    "df.isna().sum()"
   ],
   "metadata": {
    "collapsed": false,
    "pycharm": {
     "name": "#%%\n"
    }
   }
  },
  {
   "cell_type": "code",
   "execution_count": null,
   "outputs": [],
   "source": [
    "#SE1: Changes in Social Relationships Before(SOC2B) and After(SOC2A) Covid Pandemic\n",
    "import matplotlib.pyplot as plt\n",
    "import seaborn as sns\n",
    "SE1 = pd.crosstab(df['SOC2B'],\n",
    "                  df['SOC2A'],\n",
    "                 margins = False)\n",
    "\n",
    "fig, ax = plt.subplots(figsize=(10, 10))\n",
    "s= sns.heatmap(SE1, annot=True)\n",
    "s.set(xlabel='Social (After Covid Pandemic)', ylabel='Social (Before Covid Pandemic')\n",
    "plt.savefig(\"C:\\python\\SE01-CROSS.png\",\n",
    "            bbox_inches =\"tight\",\n",
    "            pad_inches = 1,\n",
    "            transparent = True,\n",
    "            orientation ='landscape')"
   ],
   "metadata": {
    "collapsed": false,
    "pycharm": {
     "name": "#%%\n",
     "is_executing": true
    }
   }
  },
  {
   "cell_type": "code",
   "execution_count": 62,
   "outputs": [
    {
     "name": "stderr",
     "output_type": "stream",
     "text": [
      "C:\\Users\\meisamasgri\\AppData\\Local\\Temp\\ipykernel_5032\\2184661682.py:2: SettingWithCopyWarning: \n",
      "A value is trying to be set on a copy of a slice from a DataFrame\n",
      "\n",
      "See the caveats in the documentation: https://pandas.pydata.org/pandas-docs/stable/user_guide/indexing.html#returning-a-view-versus-a-copy\n",
      "  se1_apr.drop(se1_apr.loc[df['SOC2B']== '(77) Not sure'].index, inplace=True)\n"
     ]
    },
    {
     "data": {
      "text/plain": "SOC2B                    SOC2A                  \n(2) A few times a week   (2) A few times a week     1856\n(3) A few times a month  (3) A few times a month    1535\n(1) Basically every day  (1) Basically every day     656\n(5) Not at all           (5) Not at all              637\n(4) Once a month         (4) Once a month            631\n(2) A few times a week   (3) A few times a month     531\n(1) Basically every day  (2) A few times a week      390\n(3) A few times a month  (2) A few times a week      362\n                         (4) Once a month            325\n(4) Once a month         (5) Not at all              244\n(2) A few times a week   (1) Basically every day     241\n(4) Once a month         (3) A few times a month     220\n(5) Not at all           (4) Once a month            165\n(3) A few times a month  (5) Not at all              163\n(5) Not at all           (3) A few times a month     118\n(2) A few times a week   (4) Once a month             96\n(4) Once a month         (2) A few times a week       76\n(1) Basically every day  (3) A few times a month      75\n(2) A few times a week   (5) Not at all               58\n(3) A few times a month  (1) Basically every day      43\n(5) Not at all           (2) A few times a week       40\n(77) Not sure            (77) Not sure                26\n                         (5) Not at all               18\n(1) Basically every day  (5) Not at all               18\n(3) A few times a month  (77) Not sure                16\n(77) Not sure            (4) Once a month             16\n(1) Basically every day  (4) Once a month             15\n(77) Not sure            (3) A few times a month      14\n(5) Not at all           (77) Not sure                14\n(4) Once a month         (77) Not sure                10\n(77) Not sure            (2) A few times a week        9\n(98) SKIPPED ON WEB      (2) A few times a week        8\n(4) Once a month         (1) Basically every day       7\n(2) A few times a week   (77) Not sure                 6\n(3) A few times a month  (98) SKIPPED ON WEB           6\n(98) SKIPPED ON WEB      (5) Not at all                5\n(5) Not at all           (1) Basically every day       4\n(98) SKIPPED ON WEB      (3) A few times a month       4\n(77) Not sure            (1) Basically every day       3\n(4) Once a month         (98) SKIPPED ON WEB           3\n(2) A few times a week   (98) SKIPPED ON WEB           2\n(5) Not at all           (98) SKIPPED ON WEB           2\n(1) Basically every day  (77) Not sure                 1\n                         (98) SKIPPED ON WEB           1\n(98) SKIPPED ON WEB      (1) Basically every day       1\n(2) A few times a week   (99) REFUSED                  1\n(98) SKIPPED ON WEB      (4) Once a month              1\n                         (77) Not sure                 1\n                         (98) SKIPPED ON WEB           1\ndtype: int64"
     },
     "execution_count": 62,
     "metadata": {},
     "output_type": "execute_result"
    }
   ],
   "source": [
    "# se1_apr = df1[['SOC2B','SOC2A']]\n",
    "# se1_apr.drop(se1_apr.loc[df['SOC2B']== '(77) Not sure'].index, inplace=True)\n",
    "# se1_apr.value_counts()\n",
    "\n"
   ],
   "metadata": {
    "collapsed": false,
    "pycharm": {
     "name": "#%%\n"
    }
   }
  },
  {
   "cell_type": "code",
   "execution_count": 61,
   "outputs": [
    {
     "data": {
      "text/plain": "   april_before  april_after  may_before  may_after  june_before  june_after\n0     13.259606    10.990765   13.153193  11.813310    13.305752   13.185640\n1     32.219815    31.581348   33.217954  33.050469    33.951688   34.832510\n2     28.172386    28.810854   27.679768  28.662349    26.865074   27.719205\n3     13.658648    14.376924   13.398839  12.539080    12.651808   12.131323\n4     11.332801    13.156995   11.076373  12.795891    11.584145   11.090351\n5      1.094516     0.889294    1.205895   0.926753     1.427999    0.880822\n6      0.262228     0.182419    0.267977   0.212148     0.213533    0.160149",
      "text/html": "<div>\n<style scoped>\n    .dataframe tbody tr th:only-of-type {\n        vertical-align: middle;\n    }\n\n    .dataframe tbody tr th {\n        vertical-align: top;\n    }\n\n    .dataframe thead th {\n        text-align: right;\n    }\n</style>\n<table border=\"1\" class=\"dataframe\">\n  <thead>\n    <tr style=\"text-align: right;\">\n      <th></th>\n      <th>april_before</th>\n      <th>april_after</th>\n      <th>may_before</th>\n      <th>may_after</th>\n      <th>june_before</th>\n      <th>june_after</th>\n    </tr>\n  </thead>\n  <tbody>\n    <tr>\n      <th>0</th>\n      <td>13.259606</td>\n      <td>10.990765</td>\n      <td>13.153193</td>\n      <td>11.813310</td>\n      <td>13.305752</td>\n      <td>13.185640</td>\n    </tr>\n    <tr>\n      <th>1</th>\n      <td>32.219815</td>\n      <td>31.581348</td>\n      <td>33.217954</td>\n      <td>33.050469</td>\n      <td>33.951688</td>\n      <td>34.832510</td>\n    </tr>\n    <tr>\n      <th>2</th>\n      <td>28.172386</td>\n      <td>28.810854</td>\n      <td>27.679768</td>\n      <td>28.662349</td>\n      <td>26.865074</td>\n      <td>27.719205</td>\n    </tr>\n    <tr>\n      <th>3</th>\n      <td>13.658648</td>\n      <td>14.376924</td>\n      <td>13.398839</td>\n      <td>12.539080</td>\n      <td>12.651808</td>\n      <td>12.131323</td>\n    </tr>\n    <tr>\n      <th>4</th>\n      <td>11.332801</td>\n      <td>13.156995</td>\n      <td>11.076373</td>\n      <td>12.795891</td>\n      <td>11.584145</td>\n      <td>11.090351</td>\n    </tr>\n    <tr>\n      <th>5</th>\n      <td>1.094516</td>\n      <td>0.889294</td>\n      <td>1.205895</td>\n      <td>0.926753</td>\n      <td>1.427999</td>\n      <td>0.880822</td>\n    </tr>\n    <tr>\n      <th>6</th>\n      <td>0.262228</td>\n      <td>0.182419</td>\n      <td>0.267977</td>\n      <td>0.212148</td>\n      <td>0.213533</td>\n      <td>0.160149</td>\n    </tr>\n  </tbody>\n</table>\n</div>"
     },
     "execution_count": 61,
     "metadata": {},
     "output_type": "execute_result"
    }
   ],
   "source": [
    "# SE1 : Changes in Social Relationships Before(SOC2B) and After(SOC2A) Covid Pandemic\n",
    "import numpy as np\n",
    "# SE1 = pd.get_dummies(df[['SOC2B','SOC2A']])\n",
    "#\n",
    "# SE1 = pd.get_dummies(df[['SOC2B','SOC2A']])\n",
    "\n",
    "se1_1=df1[['SOC2B','SOC2A']]\n",
    "\n",
    "se1_apr = df1[['SOC2B','SOC2A']]\n",
    "# se1_apr = se1_apr[se1_apr.SOC2B != '(77) Not sure']]\n",
    "\n",
    "# se1_apr.drop(se1_apr.loc[df['SOC2B']== '(77) Not sure'].index, inplace=True)\n",
    "\n",
    "data1B=se1_1['SOC2B'].value_counts(normalize=True)\\\n",
    "    .rename_axis('unique_values')\\\n",
    "    .reset_index(name='april_before')\\\n",
    "    .sort_values('unique_values')\\\n",
    "    .reset_index(drop=True)\n",
    "\n",
    "data1A=se1_1['SOC2A'].value_counts(normalize=True)\\\n",
    "    .rename_axis('unique_values')\\\n",
    "    .reset_index(name='april_after')\\\n",
    "    .sort_values('unique_values')\\\n",
    "    .reset_index(drop=True)\n",
    "\n",
    "se1_2=df2[['SOC2B','SOC2A']]\n",
    "data2B=se1_2['SOC2B'].value_counts(normalize=True)\\\n",
    "    .rename_axis('unique_values')\\\n",
    "    .reset_index(name='may_before')\\\n",
    "    .sort_values('unique_values')\\\n",
    "    .reset_index(drop=True)\n",
    "data2A=se1_2['SOC2A'].value_counts(normalize=True)\\\n",
    "    .rename_axis('unique_values')\\\n",
    "    .reset_index(name='may_after')\\\n",
    "    .sort_values('unique_values')\\\n",
    "    .reset_index(drop=True)\n",
    "\n",
    "se1_3=df3[['SOC2B','SOC2A']]\n",
    "data3B=se1_3['SOC2B'].value_counts(normalize=True)\\\n",
    "    .rename_axis('unique_values')\\\n",
    "    .reset_index(name='june_before')\\\n",
    "    .sort_values('unique_values')\\\n",
    "    .reset_index(drop=True)\n",
    "data3A=se1_3['SOC2A'].value_counts(normalize=True)\\\n",
    "    .rename_axis('unique_values')\\\n",
    "    .reset_index(name='june_after')\\\n",
    "    .sort_values('unique_values')\\\n",
    "    .reset_index(drop=True)\n",
    "\n",
    "data1 = pd.concat([data1B,data1A['april_after'],data2B['may_before'],data2A['may_after'],data3B['june_before'],data3A['june_after']], axis = 1)\n",
    "data1.drop(data1.tail(1).index,inplace=True)\n",
    "x= data1.iloc[: , 1:]*100\n",
    "data1 = pd.concat([data1B['unique_values'],x], axis = 1)\n",
    "\n",
    "x\n",
    "\n",
    "\n"
   ],
   "metadata": {
    "collapsed": false,
    "pycharm": {
     "name": "#%%\n"
    }
   }
  },
  {
   "cell_type": "code",
   "execution_count": 83,
   "outputs": [
    {
     "name": "stderr",
     "output_type": "stream",
     "text": [
      "C:\\Users\\meisamasgri\\AppData\\Local\\Temp\\ipykernel_5032\\1287179214.py:3: SettingWithCopyWarning: \n",
      "A value is trying to be set on a copy of a slice from a DataFrame\n",
      "\n",
      "See the caveats in the documentation: https://pandas.pydata.org/pandas-docs/stable/user_guide/indexing.html#returning-a-view-versus-a-copy\n",
      "  se2_age.drop(se2_age.loc[df['SOC2B']== '(77) Not sure'].index, inplace=True)\n",
      "C:\\Users\\meisamasgri\\AppData\\Local\\Temp\\ipykernel_5032\\1287179214.py:4: SettingWithCopyWarning: \n",
      "A value is trying to be set on a copy of a slice from a DataFrame\n",
      "\n",
      "See the caveats in the documentation: https://pandas.pydata.org/pandas-docs/stable/user_guide/indexing.html#returning-a-view-versus-a-copy\n",
      "  se2_age.drop(se2_age.loc[df['SOC2B']== '(98) SKIPPED ON WEB'].index, inplace=True)\n",
      "C:\\Users\\meisamasgri\\AppData\\Local\\Temp\\ipykernel_5032\\1287179214.py:5: SettingWithCopyWarning: \n",
      "A value is trying to be set on a copy of a slice from a DataFrame\n",
      "\n",
      "See the caveats in the documentation: https://pandas.pydata.org/pandas-docs/stable/user_guide/indexing.html#returning-a-view-versus-a-copy\n",
      "  se2_age.drop(se2_age.loc[df['SOC2A']== '(77) Not sure'].index, inplace=True)\n",
      "C:\\Users\\meisamasgri\\AppData\\Local\\Temp\\ipykernel_5032\\1287179214.py:6: SettingWithCopyWarning: \n",
      "A value is trying to be set on a copy of a slice from a DataFrame\n",
      "\n",
      "See the caveats in the documentation: https://pandas.pydata.org/pandas-docs/stable/user_guide/indexing.html#returning-a-view-versus-a-copy\n",
      "  se2_age.drop(se2_age.loc[df['SOC2A']== '(98) SKIPPED ON WEB'].index, inplace=True)\n",
      "C:\\Users\\meisamasgri\\AppData\\Local\\Temp\\ipykernel_5032\\1287179214.py:7: SettingWithCopyWarning: \n",
      "A value is trying to be set on a copy of a slice from a DataFrame\n",
      "\n",
      "See the caveats in the documentation: https://pandas.pydata.org/pandas-docs/stable/user_guide/indexing.html#returning-a-view-versus-a-copy\n",
      "  se2_age.drop(se2_age.loc[df['SOC2A']== '(99) REFUSED'].index, inplace=True)\n",
      "C:\\Users\\meisamasgri\\AppData\\Local\\Temp\\ipykernel_5032\\1287179214.py:8: SettingWithCopyWarning: \n",
      "A value is trying to be set on a copy of a slice from a DataFrame\n",
      "\n",
      "See the caveats in the documentation: https://pandas.pydata.org/pandas-docs/stable/user_guide/indexing.html#returning-a-view-versus-a-copy\n",
      "  se2_age.drop(se2_age.loc[df['AGE7']== '(88) Removed for disclosure risk'].index, inplace=True)\n",
      "C:\\Users\\meisamasgri\\AppData\\Local\\Temp\\ipykernel_5032\\1287179214.py:10: SettingWithCopyWarning: \n",
      "A value is trying to be set on a copy of a slice from a DataFrame.\n",
      "Try using .loc[row_indexer,col_indexer] = value instead\n",
      "\n",
      "See the caveats in the documentation: https://pandas.pydata.org/pandas-docs/stable/user_guide/indexing.html#returning-a-view-versus-a-copy\n",
      "  se2_age['SOC2B']=se2_age['SOC2B'].str[1:]\n",
      "C:\\Users\\meisamasgri\\AppData\\Local\\Temp\\ipykernel_5032\\1287179214.py:11: SettingWithCopyWarning: \n",
      "A value is trying to be set on a copy of a slice from a DataFrame.\n",
      "Try using .loc[row_indexer,col_indexer] = value instead\n",
      "\n",
      "See the caveats in the documentation: https://pandas.pydata.org/pandas-docs/stable/user_guide/indexing.html#returning-a-view-versus-a-copy\n",
      "  se2_age['SOC2B'] = se2_age['SOC2B'].str.split(')').str[0].astype(int)\n",
      "C:\\Users\\meisamasgri\\AppData\\Local\\Temp\\ipykernel_5032\\1287179214.py:12: SettingWithCopyWarning: \n",
      "A value is trying to be set on a copy of a slice from a DataFrame.\n",
      "Try using .loc[row_indexer,col_indexer] = value instead\n",
      "\n",
      "See the caveats in the documentation: https://pandas.pydata.org/pandas-docs/stable/user_guide/indexing.html#returning-a-view-versus-a-copy\n",
      "  se2_age['SOC2A']=se2_age['SOC2A'].str[1:]\n",
      "C:\\Users\\meisamasgri\\AppData\\Local\\Temp\\ipykernel_5032\\1287179214.py:13: SettingWithCopyWarning: \n",
      "A value is trying to be set on a copy of a slice from a DataFrame.\n",
      "Try using .loc[row_indexer,col_indexer] = value instead\n",
      "\n",
      "See the caveats in the documentation: https://pandas.pydata.org/pandas-docs/stable/user_guide/indexing.html#returning-a-view-versus-a-copy\n",
      "  se2_age['SOC2A'] = se2_age['SOC2A'].str.split(')').str[0].astype(int)\n"
     ]
    }
   ],
   "source": [
    "se2_age=df[['SOC2B','SOC2A','AGE7']]\n",
    "\n",
    "se2_age.drop(se2_age.loc[df['SOC2B']== '(77) Not sure'].index, inplace=True)\n",
    "se2_age.drop(se2_age.loc[df['SOC2B']== '(98) SKIPPED ON WEB'].index, inplace=True)\n",
    "se2_age.drop(se2_age.loc[df['SOC2A']== '(77) Not sure'].index, inplace=True)\n",
    "se2_age.drop(se2_age.loc[df['SOC2A']== '(98) SKIPPED ON WEB'].index, inplace=True)\n",
    "se2_age.drop(se2_age.loc[df['SOC2A']== '(99) REFUSED'].index, inplace=True)\n",
    "se2_age.drop(se2_age.loc[df['AGE7']== '(88) Removed for disclosure risk'].index, inplace=True)\n",
    "\n",
    "se2_age['SOC2B']=se2_age['SOC2B'].str[1:]\n",
    "se2_age['SOC2B'] = se2_age['SOC2B'].str.split(')').str[0].astype(int)\n",
    "se2_age['SOC2A']=se2_age['SOC2A'].str[1:]\n",
    "se2_age['SOC2A'] = se2_age['SOC2A'].str.split(')').str[0].astype(int)\n",
    "# se2_age.value_counts()\n",
    "# se2_age.isna().sum()\n",
    "# se2_age['SOC2A'].values()\n",
    "\n"
   ],
   "metadata": {
    "collapsed": false,
    "pycharm": {
     "name": "#%%\n"
    }
   }
  },
  {
   "cell_type": "code",
   "execution_count": 133,
   "outputs": [
    {
     "data": {
      "text/plain": "<Figure size 720x432 with 1 Axes>",
      "image/png": "[encoded data removed]"
     },
     "metadata": {
      "needs_background": "light"
     },
     "output_type": "display_data"
    }
   ],
   "source": [
    "se2_age['SOC2A'].unique()\n",
    "\n",
    "\n",
    "# df = pd.DataFrame(np.random.rand(10,4), columns=list('ABCD'))\n",
    "# df['E'] = [1, 2, 1, 1, 1, 2, 1, 2, 2, 1]\n",
    "# #\n",
    "mask_e1 = se2_age['AGE7'] == \"(1) 18-24\"\n",
    "mask_e2 = se2_age['AGE7'] == \"(2) 25-34\"\n",
    "mask_e3 = se2_age['AGE7'] == \"(3) 35-44\"\n",
    "mask_e4 = se2_age['AGE7'] == \"(4) 45-54\"\n",
    "mask_e5 = se2_age['AGE7'] == \"(5) 55-64\"\n",
    "mask_e6 = se2_age['AGE7'] == \"(6) 65-74\"\n",
    "mask_e7 = se2_age['AGE7'] == \"(7) 75+\"\n",
    "\n",
    "data_to_plot = [se2_age[mask_e1]['SOC2B'], se2_age[mask_e1]['SOC2A'],\n",
    "                se2_age[mask_e2]['SOC2B'], se2_age[mask_e2]['SOC2A'],\n",
    "                se2_age[mask_e3]['SOC2B'], se2_age[mask_e3]['SOC2A'],\n",
    "                se2_age[mask_e4]['SOC2B'], se2_age[mask_e4]['SOC2A'],\n",
    "                se2_age[mask_e5]['SOC2B'], se2_age[mask_e5]['SOC2A'],\n",
    "                se2_age[mask_e6]['SOC2B'], se2_age[mask_e6]['SOC2A'],\n",
    "                se2_age[mask_e7]['SOC2B'], se2_age[mask_e7]['SOC2A']\n",
    "                ]\n",
    "# #\n",
    "# # # prepare data\n",
    "# data_to_plot = [df[mask_e]['A'], df[~mask_e]['A'],\n",
    "#                 df[mask_e]['B'], df[~mask_e]['B'],\n",
    "#                 df[mask_e]['C'], df[~mask_e]['C'],\n",
    "#                 df[mask_e]['D'], df[~mask_e]['D']]\n",
    "\n",
    "# se2_age.boxplot(by ='AGE7', column =['SOC2B'], grid = False)\n",
    "# se2_age.boxplot(by ='AGE7', column =['SOC2B'], grid = False)\n",
    "plt.figure(figsize=(10, 6))\n",
    "box = plt.boxplot(data_to_plot,\n",
    "                  positions=[1, 1.6, 2.5, 3.1, 4, 4.6, 5.5, 6.1,7,7.6,8.5,9.1,10,10.6],\n",
    "                  labels=['1','2','3','4','5','6','7','8','9','10','11','12','13','14'],showmeans=True)\n",
    "\n",
    "# data_to_plot\n",
    "# se2_age[mask_e1]['SOC2B']"
   ],
   "metadata": {
    "collapsed": false,
    "pycharm": {
     "name": "#%%\n"
    }
   }
  },
  {
   "cell_type": "code",
   "execution_count": 141,
   "outputs": [
    {
     "ename": "KeyError",
     "evalue": "'Means'",
     "output_type": "error",
     "traceback": [
      "\u001B[1;31m---------------------------------------------------------------------------\u001B[0m",
      "\u001B[1;31mKeyError\u001B[0m                                  Traceback (most recent call last)",
      "Input \u001B[1;32mIn [141]\u001B[0m, in \u001B[0;36m<cell line: 2>\u001B[1;34m()\u001B[0m\n\u001B[0;32m      1\u001B[0m \u001B[38;5;66;03m# B = plt.boxplot(data)\u001B[39;00m\n\u001B[1;32m----> 2\u001B[0m [item\u001B[38;5;241m.\u001B[39mget_ydata() \u001B[38;5;28;01mfor\u001B[39;00m item \u001B[38;5;129;01min\u001B[39;00m \u001B[43mbox\u001B[49m\u001B[43m[\u001B[49m\u001B[38;5;124;43m'\u001B[39;49m\u001B[38;5;124;43mMeans\u001B[39;49m\u001B[38;5;124;43m'\u001B[39;49m\u001B[43m]\u001B[49m]\n",
      "\u001B[1;31mKeyError\u001B[0m: 'Means'"
     ]
    }
   ],
   "source": [
    "# B = plt.boxplot(data)\n",
    "[item.get_ydata() for item in box['Means']]\n",
    "\n",
    "\n",
    "# def get_box_plot_data(labels, bp):\n",
    "#     rows_list = []\n",
    "#\n",
    "#     for i in range(len(labels)):\n",
    "#         dict1 = {}\n",
    "#         dict1['label'] = labels[i]\n",
    "#         dict1['lower_whisker'] = bp['whiskers'][i*2].get_ydata()[1]\n",
    "#         dict1['lower_quartile'] = bp['boxes'][i].get_ydata()[1]\n",
    "#         dict1['median'] = bp['medians'][i].get_ydata()[1]\n",
    "#         dict1['upper_quartile'] = bp['boxes'][i].get_ydata()[2]\n",
    "#         dict1['upper_whisker'] = bp['whiskers'][(i*2)+1].get_ydata()[1]\n",
    "#         rows_list.append(dict1)\n",
    "#\n",
    "#     return pd.DataFrame(rows_list)\n",
    "#\n",
    "# get_box_plot_data(['1','2','3','4','5','6','7','8','9','10','11','12','13','14'],box)"
   ],
   "metadata": {
    "collapsed": false,
    "pycharm": {
     "name": "#%%\n"
    }
   }
  },
  {
   "cell_type": "code",
   "execution_count": null,
   "outputs": [],
   "source": [
    "# se2_age['AGE7'].unique()\n",
    "# plt.subplot(1,2,1)\n",
    "se2_age.boxplot(by ='AGE7', column =['SOC2B'], grid = False)\n",
    "# plt.subplot(1,2,2)\n"
   ],
   "metadata": {
    "collapsed": false,
    "pycharm": {
     "name": "#%%\n",
     "is_executing": true
    }
   }
  },
  {
   "cell_type": "code",
   "execution_count": 156,
   "outputs": [
    {
     "data": {
      "text/plain": "25219    False\n15570    False\n15595    False\n15610    False\n15621    False\n         ...  \n23157    False\n2967     False\n12715    False\n4116     False\n16878    False\nName: AGE7, Length: 24670, dtype: bool"
     },
     "execution_count": 156,
     "metadata": {},
     "output_type": "execute_result"
    }
   ],
   "source": [
    "# ticks = se2_age['AGE7'].str.split(')').str[1].unique();\n",
    "# for i in range(len(ticks)):\n",
    "#     print(i)\n",
    "#\n",
    "#\n",
    "# ticks[6]\n",
    "ticks = se2_age['AGE7'].str.split(')').str[1].unique();\n",
    "\n",
    "# data_b = se2_age[['SOC2B','AGE7']]\n",
    "# data_a = se2_age[['SOC2A','AGE7']]\n",
    "mask=[]\n",
    "data_b=[]\n",
    "data_a=[]\n",
    "\n",
    "for i in range(len(ticks)):\n",
    "    mask = se2_age['AGE7'] == ticks[i]\n",
    "    data_b.append(se2_age[mask]['SOC2B'])\n",
    "    data_a.append(se2_age[mask]['SOC2A'])\n",
    "\n"
   ],
   "metadata": {
    "collapsed": false,
    "pycharm": {
     "name": "#%%\n"
    }
   }
  },
  {
   "cell_type": "code",
   "execution_count": 163,
   "outputs": [
    {
     "data": {
      "text/plain": "<Figure size 432x288 with 1 Axes>",
      "image/png": "[encoded data removed]"
     },
     "metadata": {
      "needs_background": "light"
     },
     "output_type": "display_data"
    }
   ],
   "source": [
    "se2_age=df[['SOC2B','SOC2A','AGE7']]\n",
    "\n",
    "se2_age.drop(se2_age.loc[df['SOC2B']== '(77) Not sure'].index, inplace=True)\n",
    "se2_age.drop(se2_age.loc[df['SOC2B']== '(98) SKIPPED ON WEB'].index, inplace=True)\n",
    "se2_age.drop(se2_age.loc[df['SOC2A']== '(77) Not sure'].index, inplace=True)\n",
    "se2_age.drop(se2_age.loc[df['SOC2A']== '(98) SKIPPED ON WEB'].index, inplace=True)\n",
    "se2_age.drop(se2_age.loc[df['SOC2A']== '(99) REFUSED'].index, inplace=True)\n",
    "se2_age.drop(se2_age.loc[df['AGE7']== '(88) Removed for disclosure risk'].index, inplace=True)\n",
    "\n",
    "se2_age['SOC2B']=se2_age['SOC2B'].str[1:]\n",
    "se2_age['SOC2B'] = se2_age['SOC2B'].str.split(')').str[0].astype(int)\n",
    "se2_age['SOC2A']=se2_age['SOC2A'].str[1:]\n",
    "se2_age['SOC2A'] = se2_age['SOC2A'].str.split(')').str[0].astype(int)\n",
    "\n",
    "ticks = se2_age['AGE7'].str.split(')').str[1].unique();\n",
    "cols = se2_age['AGE7'].unique();\n",
    "mask=[]\n",
    "data_b=[]\n",
    "data_a=[]\n",
    "\n",
    "for i in range(len(ticks)):\n",
    "    mask = se2_age['AGE7'] == cols[i]\n",
    "    data_b.append(se2_age[mask]['SOC2B'])\n",
    "    data_a.append(se2_age[mask]['SOC2A'])\n",
    "\n",
    "bpl = plt.boxplot(data_b,\n",
    "                  positions=np.array(range(len(data_a)))*2.0-0.4,\n",
    "                  sym='',\n",
    "                  widths=0.6,\n",
    "                  showmeans=True,\n",
    "                  meanprops={\"marker\":\"o\",\n",
    "                             \"markerfacecolor\":\"white\",\n",
    "                             \"markeredgecolor\":\"black\",\n",
    "                             \"markersize\":\"2\"})\n",
    "\n",
    "bpr = plt.boxplot(data_a,\n",
    "                  positions=np.array(range(len(data_b)))*2.0+0.4,\n",
    "                  sym='',\n",
    "                  widths=0.6,\n",
    "                  showmeans=True,\n",
    "                  meanprops={\"marker\":\"o\",\n",
    "                             \"markerfacecolor\":\"white\",\n",
    "                             \"markeredgecolor\":\"black\",\n",
    "                             \"markersize\":\"2\"})\n",
    "\n",
    "\n",
    "def set_box_color(bp, color):\n",
    "    plt.setp(bp['boxes'], color=color)\n",
    "    plt.setp(bp['whiskers'], color=color)\n",
    "    plt.setp(bp['caps'], color=color)\n",
    "    plt.setp(bp['medians'], color=color)\n",
    "\n",
    "set_box_color(bpl, '#2C7BB6') # colors are from http://colorbrewer2.org/\n",
    "set_box_color(bpr, '#D7191C')\n",
    "\n",
    "plt.plot([], c='#2C7BB6', label='Before Pandemic')\n",
    "plt.plot([], c='#D7191C', label='Last Month')\n",
    "plt.legend()\n",
    "plt.ylabel('Social Relationship 1=max 5=min')\n",
    "plt.xlabel('Age')\n",
    "plt.title('Changes Between SOC2B & SOC2A With Age')\n",
    "\n",
    "plt.xticks(range(0, len(ticks) * 2, 2), ticks)\n",
    "plt.xlim(-2, len(ticks)*2)\n",
    "plt.ylim(0, 6)\n",
    "plt.tight_layout()\n",
    "plt.savefig('C:\\python\\se2-age.png',format='png', dpi=600)"
   ],
   "metadata": {
    "collapsed": false,
    "pycharm": {
     "name": "#%%\n"
    }
   }
  },
  {
   "cell_type": "code",
   "execution_count": 208,
   "outputs": [
    {
     "name": "stderr",
     "output_type": "stream",
     "text": [
      "C:\\Users\\meisamasgri\\AppData\\Local\\Temp\\ipykernel_5032\\1618012543.py:3: SettingWithCopyWarning: \n",
      "A value is trying to be set on a copy of a slice from a DataFrame\n",
      "\n",
      "See the caveats in the documentation: https://pandas.pydata.org/pandas-docs/stable/user_guide/indexing.html#returning-a-view-versus-a-copy\n",
      "  se2_sex.drop(se2_sex.loc[df['SOC2B']== '(77) Not sure'].index, inplace=True)\n",
      "C:\\Users\\meisamasgri\\AppData\\Local\\Temp\\ipykernel_5032\\1618012543.py:4: SettingWithCopyWarning: \n",
      "A value is trying to be set on a copy of a slice from a DataFrame\n",
      "\n",
      "See the caveats in the documentation: https://pandas.pydata.org/pandas-docs/stable/user_guide/indexing.html#returning-a-view-versus-a-copy\n",
      "  se2_sex.drop(se2_sex.loc[df['SOC2B']== '(98) SKIPPED ON WEB'].index, inplace=True)\n",
      "C:\\Users\\meisamasgri\\AppData\\Local\\Temp\\ipykernel_5032\\1618012543.py:5: SettingWithCopyWarning: \n",
      "A value is trying to be set on a copy of a slice from a DataFrame\n",
      "\n",
      "See the caveats in the documentation: https://pandas.pydata.org/pandas-docs/stable/user_guide/indexing.html#returning-a-view-versus-a-copy\n",
      "  se2_sex.drop(se2_sex.loc[df['SOC2A']== '(77) Not sure'].index, inplace=True)\n",
      "C:\\Users\\meisamasgri\\AppData\\Local\\Temp\\ipykernel_5032\\1618012543.py:6: SettingWithCopyWarning: \n",
      "A value is trying to be set on a copy of a slice from a DataFrame\n",
      "\n",
      "See the caveats in the documentation: https://pandas.pydata.org/pandas-docs/stable/user_guide/indexing.html#returning-a-view-versus-a-copy\n",
      "  se2_sex.drop(se2_sex.loc[df['SOC2A']== '(98) SKIPPED ON WEB'].index, inplace=True)\n",
      "C:\\Users\\meisamasgri\\AppData\\Local\\Temp\\ipykernel_5032\\1618012543.py:7: SettingWithCopyWarning: \n",
      "A value is trying to be set on a copy of a slice from a DataFrame\n",
      "\n",
      "See the caveats in the documentation: https://pandas.pydata.org/pandas-docs/stable/user_guide/indexing.html#returning-a-view-versus-a-copy\n",
      "  se2_sex.drop(se2_sex.loc[df['SOC2A']== '(99) REFUSED'].index, inplace=True)\n",
      "C:\\Users\\meisamasgri\\AppData\\Local\\Temp\\ipykernel_5032\\1618012543.py:8: SettingWithCopyWarning: \n",
      "A value is trying to be set on a copy of a slice from a DataFrame\n",
      "\n",
      "See the caveats in the documentation: https://pandas.pydata.org/pandas-docs/stable/user_guide/indexing.html#returning-a-view-versus-a-copy\n",
      "  se2_sex.drop(se2_sex.loc[df['GENDER']== '(98) SKIPPED ON WEB'].index, inplace=True)\n",
      "C:\\Users\\meisamasgri\\AppData\\Local\\Temp\\ipykernel_5032\\1618012543.py:10: SettingWithCopyWarning: \n",
      "A value is trying to be set on a copy of a slice from a DataFrame.\n",
      "Try using .loc[row_indexer,col_indexer] = value instead\n",
      "\n",
      "See the caveats in the documentation: https://pandas.pydata.org/pandas-docs/stable/user_guide/indexing.html#returning-a-view-versus-a-copy\n",
      "  se2_sex['SOC2B']=se2_sex['SOC2B'].str[1:]\n",
      "C:\\Users\\meisamasgri\\AppData\\Local\\Temp\\ipykernel_5032\\1618012543.py:11: SettingWithCopyWarning: \n",
      "A value is trying to be set on a copy of a slice from a DataFrame.\n",
      "Try using .loc[row_indexer,col_indexer] = value instead\n",
      "\n",
      "See the caveats in the documentation: https://pandas.pydata.org/pandas-docs/stable/user_guide/indexing.html#returning-a-view-versus-a-copy\n",
      "  se2_sex['SOC2B'] = se2_sex['SOC2B'].str.split(')').str[0].astype(int)\n",
      "C:\\Users\\meisamasgri\\AppData\\Local\\Temp\\ipykernel_5032\\1618012543.py:12: SettingWithCopyWarning: \n",
      "A value is trying to be set on a copy of a slice from a DataFrame.\n",
      "Try using .loc[row_indexer,col_indexer] = value instead\n",
      "\n",
      "See the caveats in the documentation: https://pandas.pydata.org/pandas-docs/stable/user_guide/indexing.html#returning-a-view-versus-a-copy\n",
      "  se2_sex['SOC2A']=se2_sex['SOC2A'].str[1:]\n",
      "C:\\Users\\meisamasgri\\AppData\\Local\\Temp\\ipykernel_5032\\1618012543.py:13: SettingWithCopyWarning: \n",
      "A value is trying to be set on a copy of a slice from a DataFrame.\n",
      "Try using .loc[row_indexer,col_indexer] = value instead\n",
      "\n",
      "See the caveats in the documentation: https://pandas.pydata.org/pandas-docs/stable/user_guide/indexing.html#returning-a-view-versus-a-copy\n",
      "  se2_sex['SOC2A'] = se2_sex['SOC2A'].str.split(')').str[0].astype(int)\n"
     ]
    },
    {
     "data": {
      "text/plain": "<Figure size 432x288 with 1 Axes>",
      "image/png": "[encoded data removed]"
     },
     "metadata": {
      "needs_background": "light"
     },
     "output_type": "display_data"
    }
   ],
   "source": [
    "se2_sex=df[['SOC2B','SOC2A','GENDER']]\n",
    "\n",
    "se2_sex.drop(se2_sex.loc[df['SOC2B']== '(77) Not sure'].index, inplace=True)\n",
    "se2_sex.drop(se2_sex.loc[df['SOC2B']== '(98) SKIPPED ON WEB'].index, inplace=True)\n",
    "se2_sex.drop(se2_sex.loc[df['SOC2A']== '(77) Not sure'].index, inplace=True)\n",
    "se2_sex.drop(se2_sex.loc[df['SOC2A']== '(98) SKIPPED ON WEB'].index, inplace=True)\n",
    "se2_sex.drop(se2_sex.loc[df['SOC2A']== '(99) REFUSED'].index, inplace=True)\n",
    "se2_sex.drop(se2_sex.loc[df['GENDER']== '(98) SKIPPED ON WEB'].index, inplace=True)\n",
    "\n",
    "se2_sex['SOC2B']=se2_sex['SOC2B'].str[1:]\n",
    "se2_sex['SOC2B'] = se2_sex['SOC2B'].str.split(')').str[0].astype(int)\n",
    "se2_sex['SOC2A']=se2_sex['SOC2A'].str[1:]\n",
    "se2_sex['SOC2A'] = se2_sex['SOC2A'].str.split(')').str[0].astype(int)\n",
    "\n",
    "ticks = se2_sex['GENDER'].str.split(')').str[1].unique();\n",
    "cols = se2_sex['GENDER'].unique();\n",
    "mask=[]\n",
    "data_b=[]\n",
    "data_a=[]\n",
    "\n",
    "for i in range(len(ticks)):\n",
    "    mask = se2_sex['GENDER'] == cols[i]\n",
    "    data_b.append(se2_sex[mask]['SOC2B'])\n",
    "    data_a.append(se2_sex[mask]['SOC2A'])\n",
    "\n",
    "bpl = plt.boxplot(data_b,\n",
    "                  positions=np.array(range(len(data_a)))*2.0-0.4,\n",
    "                  sym='',\n",
    "                  widths=0.6,\n",
    "                  showmeans=True,\n",
    "                  meanprops={\"marker\":\"o\",\n",
    "                             \"markerfacecolor\":\"white\",\n",
    "                             \"markeredgecolor\":\"black\",\n",
    "                             \"markersize\":\"2\"})\n",
    "\n",
    "bpr = plt.boxplot(data_a,\n",
    "                  positions=np.array(range(len(data_b)))*2.0+0.4,\n",
    "                  sym='',\n",
    "                  widths=0.6,\n",
    "                  showmeans=True,\n",
    "                  meanprops={\"marker\":\"o\",\n",
    "                             \"markerfacecolor\":\"white\",\n",
    "                             \"markeredgecolor\":\"black\",\n",
    "                             \"markersize\":\"2\"})\n",
    "\n",
    "\n",
    "def set_box_color(bp, color):\n",
    "    plt.setp(bp['boxes'], color=color)\n",
    "    plt.setp(bp['whiskers'], color=color)\n",
    "    plt.setp(bp['caps'], color=color)\n",
    "    plt.setp(bp['medians'], color=color)\n",
    "\n",
    "set_box_color(bpl, '#2C7BB6') # colors are from http://colorbrewer2.org/\n",
    "set_box_color(bpr, '#D7191C')\n",
    "\n",
    "plt.plot([], c='#2C7BB6', label='Before Pandemic')\n",
    "plt.plot([], c='#D7191C', label='Last Month')\n",
    "plt.legend()\n",
    "plt.ylabel('Social Relationship 1=max 5=min')\n",
    "plt.xlabel('sex')\n",
    "plt.title('Changes Between SOC2B & SOC2A With Gender')\n",
    "\n",
    "plt.xticks(range(0, len(ticks) * 2, 2), ticks)\n",
    "plt.xlim(-2, len(ticks)*2)\n",
    "plt.ylim(0, 6)\n",
    "plt.tight_layout()\n",
    "plt.savefig('C:\\python\\se2-sex.png',format='png', dpi=600)"
   ],
   "metadata": {
    "collapsed": false,
    "pycharm": {
     "name": "#%%\n"
    }
   }
  },
  {
   "cell_type": "code",
   "execution_count": null,
   "outputs": [],
   "source": [],
   "metadata": {
    "collapsed": false,
    "pycharm": {
     "name": "#%%\n"
    }
   }
  },
  {
   "cell_type": "code",
   "execution_count": 207,
   "outputs": [
    {
     "name": "stderr",
     "output_type": "stream",
     "text": [
      "C:\\Users\\meisamasgri\\AppData\\Local\\Temp\\ipykernel_5032\\1833924094.py:5: SettingWithCopyWarning: \n",
      "A value is trying to be set on a copy of a slice from a DataFrame\n",
      "\n",
      "See the caveats in the documentation: https://pandas.pydata.org/pandas-docs/stable/user_guide/indexing.html#returning-a-view-versus-a-copy\n",
      "  se2_inc.drop(se2_inc.loc[df['SOC2B']== '(77) Not sure'].index, inplace=True)\n",
      "C:\\Users\\meisamasgri\\AppData\\Local\\Temp\\ipykernel_5032\\1833924094.py:6: SettingWithCopyWarning: \n",
      "A value is trying to be set on a copy of a slice from a DataFrame\n",
      "\n",
      "See the caveats in the documentation: https://pandas.pydata.org/pandas-docs/stable/user_guide/indexing.html#returning-a-view-versus-a-copy\n",
      "  se2_inc.drop(se2_inc.loc[df['SOC2B']== '(98) SKIPPED ON WEB'].index, inplace=True)\n",
      "C:\\Users\\meisamasgri\\AppData\\Local\\Temp\\ipykernel_5032\\1833924094.py:7: SettingWithCopyWarning: \n",
      "A value is trying to be set on a copy of a slice from a DataFrame\n",
      "\n",
      "See the caveats in the documentation: https://pandas.pydata.org/pandas-docs/stable/user_guide/indexing.html#returning-a-view-versus-a-copy\n",
      "  se2_inc.drop(se2_inc.loc[df['SOC2A']== '(77) Not sure'].index, inplace=True)\n",
      "C:\\Users\\meisamasgri\\AppData\\Local\\Temp\\ipykernel_5032\\1833924094.py:8: SettingWithCopyWarning: \n",
      "A value is trying to be set on a copy of a slice from a DataFrame\n",
      "\n",
      "See the caveats in the documentation: https://pandas.pydata.org/pandas-docs/stable/user_guide/indexing.html#returning-a-view-versus-a-copy\n",
      "  se2_inc.drop(se2_inc.loc[df['SOC2A']== '(98) SKIPPED ON WEB'].index, inplace=True)\n",
      "C:\\Users\\meisamasgri\\AppData\\Local\\Temp\\ipykernel_5032\\1833924094.py:9: SettingWithCopyWarning: \n",
      "A value is trying to be set on a copy of a slice from a DataFrame\n",
      "\n",
      "See the caveats in the documentation: https://pandas.pydata.org/pandas-docs/stable/user_guide/indexing.html#returning-a-view-versus-a-copy\n",
      "  se2_inc.drop(se2_inc.loc[df['SOC2A']== '(99) REFUSED'].index, inplace=True)\n",
      "C:\\Users\\meisamasgri\\AppData\\Local\\Temp\\ipykernel_5032\\1833924094.py:10: SettingWithCopyWarning: \n",
      "A value is trying to be set on a copy of a slice from a DataFrame\n",
      "\n",
      "See the caveats in the documentation: https://pandas.pydata.org/pandas-docs/stable/user_guide/indexing.html#returning-a-view-versus-a-copy\n",
      "  se2_inc.drop(se2_inc.loc[df['HHINCOME']== 'REFUSED'].index, inplace=True)\n",
      "C:\\Users\\meisamasgri\\AppData\\Local\\Temp\\ipykernel_5032\\1833924094.py:11: SettingWithCopyWarning: \n",
      "A value is trying to be set on a copy of a slice from a DataFrame\n",
      "\n",
      "See the caveats in the documentation: https://pandas.pydata.org/pandas-docs/stable/user_guide/indexing.html#returning-a-view-versus-a-copy\n",
      "  se2_inc.drop(se2_inc.loc[df['HHINCOME']== 'SKIPPED ON WEB'].index, inplace=True)\n",
      "C:\\Users\\meisamasgri\\AppData\\Local\\Temp\\ipykernel_5032\\1833924094.py:12: SettingWithCopyWarning: \n",
      "A value is trying to be set on a copy of a slice from a DataFrame\n",
      "\n",
      "See the caveats in the documentation: https://pandas.pydata.org/pandas-docs/stable/user_guide/indexing.html#returning-a-view-versus-a-copy\n",
      "  se2_inc.drop(se2_inc.loc[df['HHINCOME']== \"DON'T KNOW\"].index, inplace=True)\n",
      "C:\\Users\\meisamasgri\\AppData\\Local\\Temp\\ipykernel_5032\\1833924094.py:25: SettingWithCopyWarning: \n",
      "A value is trying to be set on a copy of a slice from a DataFrame.\n",
      "Try using .loc[row_indexer,col_indexer] = value instead\n",
      "\n",
      "See the caveats in the documentation: https://pandas.pydata.org/pandas-docs/stable/user_guide/indexing.html#returning-a-view-versus-a-copy\n",
      "  se2_inc['SOC2B']=se2_inc['SOC2B'].str[1:]\n",
      "C:\\Users\\meisamasgri\\AppData\\Local\\Temp\\ipykernel_5032\\1833924094.py:26: SettingWithCopyWarning: \n",
      "A value is trying to be set on a copy of a slice from a DataFrame.\n",
      "Try using .loc[row_indexer,col_indexer] = value instead\n",
      "\n",
      "See the caveats in the documentation: https://pandas.pydata.org/pandas-docs/stable/user_guide/indexing.html#returning-a-view-versus-a-copy\n",
      "  se2_inc['SOC2B'] = se2_inc['SOC2B'].str.split(')').str[0].astype(int)\n",
      "C:\\Users\\meisamasgri\\AppData\\Local\\Temp\\ipykernel_5032\\1833924094.py:27: SettingWithCopyWarning: \n",
      "A value is trying to be set on a copy of a slice from a DataFrame.\n",
      "Try using .loc[row_indexer,col_indexer] = value instead\n",
      "\n",
      "See the caveats in the documentation: https://pandas.pydata.org/pandas-docs/stable/user_guide/indexing.html#returning-a-view-versus-a-copy\n",
      "  se2_inc['SOC2A']=se2_inc['SOC2A'].str[1:]\n",
      "C:\\Users\\meisamasgri\\AppData\\Local\\Temp\\ipykernel_5032\\1833924094.py:28: SettingWithCopyWarning: \n",
      "A value is trying to be set on a copy of a slice from a DataFrame.\n",
      "Try using .loc[row_indexer,col_indexer] = value instead\n",
      "\n",
      "See the caveats in the documentation: https://pandas.pydata.org/pandas-docs/stable/user_guide/indexing.html#returning-a-view-versus-a-copy\n",
      "  se2_inc['SOC2A'] = se2_inc['SOC2A'].str.split(')').str[0].astype(int)\n"
     ]
    },
    {
     "data": {
      "text/plain": "<Figure size 432x288 with 1 Axes>",
      "image/png": "[encoded data removed]"
     },
     "metadata": {
      "needs_background": "light"
     },
     "output_type": "display_data"
    }
   ],
   "source": [
    "se2_inc=df[['SOC2B','SOC2A','HHINCOME']]\n",
    "\n",
    "# se2_inc['HHINCOME'].unique()\n",
    "\n",
    "se2_inc.drop(se2_inc.loc[df['SOC2B']== '(77) Not sure'].index, inplace=True)\n",
    "se2_inc.drop(se2_inc.loc[df['SOC2B']== '(98) SKIPPED ON WEB'].index, inplace=True)\n",
    "se2_inc.drop(se2_inc.loc[df['SOC2A']== '(77) Not sure'].index, inplace=True)\n",
    "se2_inc.drop(se2_inc.loc[df['SOC2A']== '(98) SKIPPED ON WEB'].index, inplace=True)\n",
    "se2_inc.drop(se2_inc.loc[df['SOC2A']== '(99) REFUSED'].index, inplace=True)\n",
    "se2_inc.drop(se2_inc.loc[df['HHINCOME']== 'REFUSED'].index, inplace=True)\n",
    "se2_inc.drop(se2_inc.loc[df['HHINCOME']== 'SKIPPED ON WEB'].index, inplace=True)\n",
    "se2_inc.drop(se2_inc.loc[df['HHINCOME']== \"DON'T KNOW\"].index, inplace=True)\n",
    "df['HHINCOME'] = df['HHINCOME'].replace(['Under $10,000'],'1-$<10K')\n",
    "df['HHINCOME'] = df['HHINCOME'].replace(['$10,000 to under $20,000'],'2-10K<$<20K')\n",
    "df['HHINCOME'] = df['HHINCOME'].replace(['$20,000 to under $30,000'],'3-20K<$<30K')\n",
    "df['HHINCOME'] = df['HHINCOME'].replace(['$30,000 to under $40,000'],'4-30K<$<40K')\n",
    "df['HHINCOME'] = df['HHINCOME'].replace(['$40,000 to under $50,000'],'5-40K<$<50K')\n",
    "df['HHINCOME'] = df['HHINCOME'].replace(['$50,000 to under $75,000'],'6-50K<$<75K')\n",
    "df['HHINCOME'] = df['HHINCOME'].replace(['$75,000 to under $100,000'],'7-75K<$<100K')\n",
    "df['HHINCOME'] = df['HHINCOME'].replace(['$100,000 to under $150,000'],'8-100K<$<150K')\n",
    "df['HHINCOME'] = df['HHINCOME'].replace(['$150,000 or more'],'9-$>150K')\n",
    "\n",
    "\n",
    "\n",
    "se2_inc['SOC2B']=se2_inc['SOC2B'].str[1:]\n",
    "se2_inc['SOC2B'] = se2_inc['SOC2B'].str.split(')').str[0].astype(int)\n",
    "se2_inc['SOC2A']=se2_inc['SOC2A'].str[1:]\n",
    "se2_inc['SOC2A'] = se2_inc['SOC2A'].str.split(')').str[0].astype(int)\n",
    "\n",
    "ticks = se2_inc['HHINCOME'].sort_values().unique()\n",
    "cols = se2_inc['HHINCOME'].unique()\n",
    "mask=[]\n",
    "data_b=[]\n",
    "data_a=[]\n",
    "\n",
    "for i in range(len(ticks)):\n",
    "    mask = se2_inc['HHINCOME'] == cols[i]\n",
    "    data_b.append(se2_inc[mask]['SOC2B'])\n",
    "    data_a.append(se2_inc[mask]['SOC2A'])\n",
    "\n",
    "bpl = plt.boxplot(data_b,\n",
    "                  positions=np.array(range(len(data_a)))*2.0-0.4,\n",
    "                  sym='',\n",
    "                  widths=0.6,\n",
    "                  showmeans=True,\n",
    "                  meanprops={\"marker\":\"o\",\n",
    "                             \"markerfacecolor\":\"white\",\n",
    "                             \"markeredgecolor\":\"black\",\n",
    "                             \"markersize\":\"2\"})\n",
    "\n",
    "bpr = plt.boxplot(data_a,\n",
    "                  positions=np.array(range(len(data_b)))*2.0+0.4,\n",
    "                  sym='',\n",
    "                  widths=0.6,\n",
    "                  showmeans=True,\n",
    "                  meanprops={\"marker\":\"o\",\n",
    "                             \"markerfacecolor\":\"white\",\n",
    "                             \"markeredgecolor\":\"black\",\n",
    "                             \"markersize\":\"2\"})\n",
    "\n",
    "\n",
    "def set_box_color(bp, color):\n",
    "    plt.setp(bp['boxes'], color=color)\n",
    "    plt.setp(bp['whiskers'], color=color)\n",
    "    plt.setp(bp['caps'], color=color)\n",
    "    plt.setp(bp['medians'], color=color)\n",
    "\n",
    "set_box_color(bpl, '#2C7BB6') # colors are from http://colorbrewer2.org/\n",
    "set_box_color(bpr, '#D7191C')\n",
    "\n",
    "plt.plot([], c='#2C7BB6', label='Before Pandemic')\n",
    "plt.plot([], c='#D7191C', label='Last Month')\n",
    "plt.legend()\n",
    "plt.ylabel('Social Relationship 1=max 5=min')\n",
    "plt.xlabel('inc')\n",
    "plt.xticks(fontsize=4)\n",
    "plt.title('Changes Between SOC2B & SOC2A With Income')\n",
    "\n",
    "\n",
    "plt.xticks(range(0, len(ticks) * 2, 2), ticks)\n",
    "plt.xlim(-2, len(ticks)*2)\n",
    "plt.ylim(0, 6)\n",
    "plt.tight_layout()\n",
    "plt.savefig('C:\\python\\se2-inc.png',format='png', dpi=600)\n",
    "\n"
   ],
   "metadata": {
    "collapsed": false,
    "pycharm": {
     "name": "#%%\n"
    }
   }
  },
  {
   "cell_type": "code",
   "execution_count": 215,
   "outputs": [
    {
     "name": "stderr",
     "output_type": "stream",
     "text": [
      "C:\\Users\\meisamasgri\\AppData\\Local\\Temp\\ipykernel_5032\\6603176.py:6: SettingWithCopyWarning: \n",
      "A value is trying to be set on a copy of a slice from a DataFrame\n",
      "\n",
      "See the caveats in the documentation: https://pandas.pydata.org/pandas-docs/stable/user_guide/indexing.html#returning-a-view-versus-a-copy\n",
      "  se2_edu.drop(se2_edu.loc[df['SOC2B']== '(77) Not sure'].index, inplace=True)\n",
      "C:\\Users\\meisamasgri\\AppData\\Local\\Temp\\ipykernel_5032\\6603176.py:7: SettingWithCopyWarning: \n",
      "A value is trying to be set on a copy of a slice from a DataFrame\n",
      "\n",
      "See the caveats in the documentation: https://pandas.pydata.org/pandas-docs/stable/user_guide/indexing.html#returning-a-view-versus-a-copy\n",
      "  se2_edu.drop(se2_edu.loc[df['SOC2B']== '(98) SKIPPED ON WEB'].index, inplace=True)\n",
      "C:\\Users\\meisamasgri\\AppData\\Local\\Temp\\ipykernel_5032\\6603176.py:8: SettingWithCopyWarning: \n",
      "A value is trying to be set on a copy of a slice from a DataFrame\n",
      "\n",
      "See the caveats in the documentation: https://pandas.pydata.org/pandas-docs/stable/user_guide/indexing.html#returning-a-view-versus-a-copy\n",
      "  se2_edu.drop(se2_edu.loc[df['SOC2A']== '(77) Not sure'].index, inplace=True)\n",
      "C:\\Users\\meisamasgri\\AppData\\Local\\Temp\\ipykernel_5032\\6603176.py:9: SettingWithCopyWarning: \n",
      "A value is trying to be set on a copy of a slice from a DataFrame\n",
      "\n",
      "See the caveats in the documentation: https://pandas.pydata.org/pandas-docs/stable/user_guide/indexing.html#returning-a-view-versus-a-copy\n",
      "  se2_edu.drop(se2_edu.loc[df['SOC2A']== '(98) SKIPPED ON WEB'].index, inplace=True)\n",
      "C:\\Users\\meisamasgri\\AppData\\Local\\Temp\\ipykernel_5032\\6603176.py:10: SettingWithCopyWarning: \n",
      "A value is trying to be set on a copy of a slice from a DataFrame\n",
      "\n",
      "See the caveats in the documentation: https://pandas.pydata.org/pandas-docs/stable/user_guide/indexing.html#returning-a-view-versus-a-copy\n",
      "  se2_edu.drop(se2_edu.loc[df['SOC2A']== '(99) REFUSED'].index, inplace=True)\n",
      "C:\\Users\\meisamasgri\\AppData\\Local\\Temp\\ipykernel_5032\\6603176.py:11: SettingWithCopyWarning: \n",
      "A value is trying to be set on a copy of a slice from a DataFrame\n",
      "\n",
      "See the caveats in the documentation: https://pandas.pydata.org/pandas-docs/stable/user_guide/indexing.html#returning-a-view-versus-a-copy\n",
      "  se2_edu.drop(se2_edu.loc[df['EDUCATION']== '(99) REFUSED'].index, inplace=True)\n",
      "C:\\Users\\meisamasgri\\AppData\\Local\\Temp\\ipykernel_5032\\6603176.py:12: SettingWithCopyWarning: \n",
      "A value is trying to be set on a copy of a slice from a DataFrame\n",
      "\n",
      "See the caveats in the documentation: https://pandas.pydata.org/pandas-docs/stable/user_guide/indexing.html#returning-a-view-versus-a-copy\n",
      "  se2_edu.drop(se2_edu.loc[df['EDUCATION']== '(98) SKIPPED ON WEB'].index, inplace=True)\n",
      "C:\\Users\\meisamasgri\\AppData\\Local\\Temp\\ipykernel_5032\\6603176.py:13: SettingWithCopyWarning: \n",
      "A value is trying to be set on a copy of a slice from a DataFrame\n",
      "\n",
      "See the caveats in the documentation: https://pandas.pydata.org/pandas-docs/stable/user_guide/indexing.html#returning-a-view-versus-a-copy\n",
      "  se2_edu.drop(se2_edu.loc[df['EDUCATION']== '(77) Not sure'].index, inplace=True)\n",
      "C:\\Users\\meisamasgri\\AppData\\Local\\Temp\\ipykernel_5032\\6603176.py:17: SettingWithCopyWarning: \n",
      "A value is trying to be set on a copy of a slice from a DataFrame.\n",
      "Try using .loc[row_indexer,col_indexer] = value instead\n",
      "\n",
      "See the caveats in the documentation: https://pandas.pydata.org/pandas-docs/stable/user_guide/indexing.html#returning-a-view-versus-a-copy\n",
      "  se2_edu['SOC2B']=se2_edu['SOC2B'].str[1:]\n",
      "C:\\Users\\meisamasgri\\AppData\\Local\\Temp\\ipykernel_5032\\6603176.py:18: SettingWithCopyWarning: \n",
      "A value is trying to be set on a copy of a slice from a DataFrame.\n",
      "Try using .loc[row_indexer,col_indexer] = value instead\n",
      "\n",
      "See the caveats in the documentation: https://pandas.pydata.org/pandas-docs/stable/user_guide/indexing.html#returning-a-view-versus-a-copy\n",
      "  se2_edu['SOC2B'] = se2_edu['SOC2B'].str.split(')').str[0].astype(int)\n",
      "C:\\Users\\meisamasgri\\AppData\\Local\\Temp\\ipykernel_5032\\6603176.py:19: SettingWithCopyWarning: \n",
      "A value is trying to be set on a copy of a slice from a DataFrame.\n",
      "Try using .loc[row_indexer,col_indexer] = value instead\n",
      "\n",
      "See the caveats in the documentation: https://pandas.pydata.org/pandas-docs/stable/user_guide/indexing.html#returning-a-view-versus-a-copy\n",
      "  se2_edu['SOC2A']=se2_edu['SOC2A'].str[1:]\n",
      "C:\\Users\\meisamasgri\\AppData\\Local\\Temp\\ipykernel_5032\\6603176.py:20: SettingWithCopyWarning: \n",
      "A value is trying to be set on a copy of a slice from a DataFrame.\n",
      "Try using .loc[row_indexer,col_indexer] = value instead\n",
      "\n",
      "See the caveats in the documentation: https://pandas.pydata.org/pandas-docs/stable/user_guide/indexing.html#returning-a-view-versus-a-copy\n",
      "  se2_edu['SOC2A'] = se2_edu['SOC2A'].str.split(')').str[0].astype(int)\n"
     ]
    },
    {
     "data": {
      "text/plain": "<Figure size 432x288 with 1 Axes>",
      "image/png": "[encoded data removed]"
     },
     "metadata": {
      "needs_background": "light"
     },
     "output_type": "display_data"
    }
   ],
   "source": [
    "se2_edu=df[['SOC2B','SOC2A','EDUCATION']]\n",
    "\n",
    "se2_edu['EDUCATION'].unique()\n",
    "\n",
    "\n",
    "se2_edu.drop(se2_edu.loc[df['SOC2B']== '(77) Not sure'].index, inplace=True)\n",
    "se2_edu.drop(se2_edu.loc[df['SOC2B']== '(98) SKIPPED ON WEB'].index, inplace=True)\n",
    "se2_edu.drop(se2_edu.loc[df['SOC2A']== '(77) Not sure'].index, inplace=True)\n",
    "se2_edu.drop(se2_edu.loc[df['SOC2A']== '(98) SKIPPED ON WEB'].index, inplace=True)\n",
    "se2_edu.drop(se2_edu.loc[df['SOC2A']== '(99) REFUSED'].index, inplace=True)\n",
    "se2_edu.drop(se2_edu.loc[df['EDUCATION']== '(99) REFUSED'].index, inplace=True)\n",
    "se2_edu.drop(se2_edu.loc[df['EDUCATION']== '(98) SKIPPED ON WEB'].index, inplace=True)\n",
    "se2_edu.drop(se2_edu.loc[df['EDUCATION']== '(77) Not sure'].index, inplace=True)\n",
    "df['EDUCATION'] = df['EDUCATION'].replace(['(2) HIGH SCHOOL GRADUATE - high school DIPLOMA or the equivalent (GED)'],'(2) HIGH SCHOOL GRADUATE')\n",
    "\n",
    "\n",
    "se2_edu['SOC2B']=se2_edu['SOC2B'].str[1:]\n",
    "se2_edu['SOC2B'] = se2_edu['SOC2B'].str.split(')').str[0].astype(int)\n",
    "se2_edu['SOC2A']=se2_edu['SOC2A'].str[1:]\n",
    "se2_edu['SOC2A'] = se2_edu['SOC2A'].str.split(')').str[0].astype(int)\n",
    "\n",
    "ticks = se2_edu['EDUCATION'].str.split(')').str[1].unique();\n",
    "cols = se2_edu['EDUCATION'].unique();\n",
    "mask=[]\n",
    "data_b=[]\n",
    "data_a=[]\n",
    "\n",
    "for i in range(len(ticks)):\n",
    "    mask = se2_edu['EDUCATION'] == cols[i]\n",
    "    data_b.append(se2_edu[mask]['SOC2B'])\n",
    "    data_a.append(se2_edu[mask]['SOC2A'])\n",
    "\n",
    "bpl = plt.boxplot(data_b,\n",
    "                  positions=np.array(range(len(data_a)))*2.0-0.4,\n",
    "                  sym='',\n",
    "                  widths=0.6,\n",
    "                  showmeans=True,\n",
    "                  meanprops={\"marker\":\"o\",\n",
    "                             \"markerfacecolor\":\"white\",\n",
    "                             \"markeredgecolor\":\"black\",\n",
    "                             \"markersize\":\"2\"})\n",
    "\n",
    "bpr = plt.boxplot(data_a,\n",
    "                  positions=np.array(range(len(data_b)))*2.0+0.4,\n",
    "                  sym='',\n",
    "                  widths=0.6,\n",
    "                  showmeans=True,\n",
    "                  meanprops={\"marker\":\"o\",\n",
    "                             \"markerfacecolor\":\"white\",\n",
    "                             \"markeredgecolor\":\"black\",\n",
    "                             \"markersize\":\"2\"})\n",
    "\n",
    "\n",
    "def set_box_color(bp, color):\n",
    "    plt.setp(bp['boxes'], color=color)\n",
    "    plt.setp(bp['whiskers'], color=color)\n",
    "    plt.setp(bp['caps'], color=color)\n",
    "    plt.setp(bp['medians'], color=color)\n",
    "\n",
    "set_box_color(bpl, '#2C7BB6') # colors are from http://colorbrewer2.org/\n",
    "set_box_color(bpr, '#D7191C')\n",
    "\n",
    "plt.plot([], c='#2C7BB6', label='Before Pandemic')\n",
    "plt.plot([], c='#D7191C', label='Last Month')\n",
    "plt.legend()\n",
    "plt.ylabel('Social Relationship 1=max 5=min')\n",
    "plt.xlabel('edu')\n",
    "plt.xticks(fontsize=4 , rotation=45)\n",
    "plt.title('Changes Between SOC2B & SOC2A With Education')\n",
    "\n",
    "plt.xticks(range(0, len(ticks) * 2, 2), ticks)\n",
    "plt.xlim(-2, len(ticks)*2)\n",
    "plt.ylim(0, 6)\n",
    "plt.tight_layout()\n",
    "plt.savefig('C:\\python\\se2-edu.png',format='png', dpi=600)\n"
   ],
   "metadata": {
    "collapsed": false,
    "pycharm": {
     "name": "#%%\n"
    }
   }
  },
  {
   "cell_type": "code",
   "execution_count": 219,
   "outputs": [
    {
     "name": "stderr",
     "output_type": "stream",
     "text": [
      "C:\\Users\\meisamasgri\\AppData\\Local\\Temp\\ipykernel_5032\\215391197.py:6: SettingWithCopyWarning: \n",
      "A value is trying to be set on a copy of a slice from a DataFrame\n",
      "\n",
      "See the caveats in the documentation: https://pandas.pydata.org/pandas-docs/stable/user_guide/indexing.html#returning-a-view-versus-a-copy\n",
      "  se2_rac.drop(se2_rac.loc[df['SOC2B']== '(77) Not sure'].index, inplace=True)\n",
      "C:\\Users\\meisamasgri\\AppData\\Local\\Temp\\ipykernel_5032\\215391197.py:7: SettingWithCopyWarning: \n",
      "A value is trying to be set on a copy of a slice from a DataFrame\n",
      "\n",
      "See the caveats in the documentation: https://pandas.pydata.org/pandas-docs/stable/user_guide/indexing.html#returning-a-view-versus-a-copy\n",
      "  se2_rac.drop(se2_rac.loc[df['SOC2B']== '(98) SKIPPED ON WEB'].index, inplace=True)\n",
      "C:\\Users\\meisamasgri\\AppData\\Local\\Temp\\ipykernel_5032\\215391197.py:8: SettingWithCopyWarning: \n",
      "A value is trying to be set on a copy of a slice from a DataFrame\n",
      "\n",
      "See the caveats in the documentation: https://pandas.pydata.org/pandas-docs/stable/user_guide/indexing.html#returning-a-view-versus-a-copy\n",
      "  se2_rac.drop(se2_rac.loc[df['SOC2A']== '(77) Not sure'].index, inplace=True)\n",
      "C:\\Users\\meisamasgri\\AppData\\Local\\Temp\\ipykernel_5032\\215391197.py:9: SettingWithCopyWarning: \n",
      "A value is trying to be set on a copy of a slice from a DataFrame\n",
      "\n",
      "See the caveats in the documentation: https://pandas.pydata.org/pandas-docs/stable/user_guide/indexing.html#returning-a-view-versus-a-copy\n",
      "  se2_rac.drop(se2_rac.loc[df['SOC2A']== '(98) SKIPPED ON WEB'].index, inplace=True)\n",
      "C:\\Users\\meisamasgri\\AppData\\Local\\Temp\\ipykernel_5032\\215391197.py:10: SettingWithCopyWarning: \n",
      "A value is trying to be set on a copy of a slice from a DataFrame\n",
      "\n",
      "See the caveats in the documentation: https://pandas.pydata.org/pandas-docs/stable/user_guide/indexing.html#returning-a-view-versus-a-copy\n",
      "  se2_rac.drop(se2_rac.loc[df['SOC2A']== '(99) REFUSED'].index, inplace=True)\n",
      "C:\\Users\\meisamasgri\\AppData\\Local\\Temp\\ipykernel_5032\\215391197.py:11: SettingWithCopyWarning: \n",
      "A value is trying to be set on a copy of a slice from a DataFrame\n",
      "\n",
      "See the caveats in the documentation: https://pandas.pydata.org/pandas-docs/stable/user_guide/indexing.html#returning-a-view-versus-a-copy\n",
      "  se2_rac.drop(se2_rac.loc[df['RACETH']== '(99) REFUSED'].index, inplace=True)\n",
      "C:\\Users\\meisamasgri\\AppData\\Local\\Temp\\ipykernel_5032\\215391197.py:12: SettingWithCopyWarning: \n",
      "A value is trying to be set on a copy of a slice from a DataFrame\n",
      "\n",
      "See the caveats in the documentation: https://pandas.pydata.org/pandas-docs/stable/user_guide/indexing.html#returning-a-view-versus-a-copy\n",
      "  se2_rac.drop(se2_rac.loc[df['RACETH']== '(98) SKIPPED ON WEB'].index, inplace=True)\n",
      "C:\\Users\\meisamasgri\\AppData\\Local\\Temp\\ipykernel_5032\\215391197.py:13: SettingWithCopyWarning: \n",
      "A value is trying to be set on a copy of a slice from a DataFrame\n",
      "\n",
      "See the caveats in the documentation: https://pandas.pydata.org/pandas-docs/stable/user_guide/indexing.html#returning-a-view-versus-a-copy\n",
      "  se2_rac.drop(se2_rac.loc[df['RACETH']== \"(77) DON'T KNOW\"].index, inplace=True)\n",
      "C:\\Users\\meisamasgri\\AppData\\Local\\Temp\\ipykernel_5032\\215391197.py:15: SettingWithCopyWarning: \n",
      "A value is trying to be set on a copy of a slice from a DataFrame.\n",
      "Try using .loc[row_indexer,col_indexer] = value instead\n",
      "\n",
      "See the caveats in the documentation: https://pandas.pydata.org/pandas-docs/stable/user_guide/indexing.html#returning-a-view-versus-a-copy\n",
      "  se2_rac['SOC2B']=se2_rac['SOC2B'].str[1:]\n",
      "C:\\Users\\meisamasgri\\AppData\\Local\\Temp\\ipykernel_5032\\215391197.py:16: SettingWithCopyWarning: \n",
      "A value is trying to be set on a copy of a slice from a DataFrame.\n",
      "Try using .loc[row_indexer,col_indexer] = value instead\n",
      "\n",
      "See the caveats in the documentation: https://pandas.pydata.org/pandas-docs/stable/user_guide/indexing.html#returning-a-view-versus-a-copy\n",
      "  se2_rac['SOC2B'] = se2_rac['SOC2B'].str.split(')').str[0].astype(int)\n",
      "C:\\Users\\meisamasgri\\AppData\\Local\\Temp\\ipykernel_5032\\215391197.py:17: SettingWithCopyWarning: \n",
      "A value is trying to be set on a copy of a slice from a DataFrame.\n",
      "Try using .loc[row_indexer,col_indexer] = value instead\n",
      "\n",
      "See the caveats in the documentation: https://pandas.pydata.org/pandas-docs/stable/user_guide/indexing.html#returning-a-view-versus-a-copy\n",
      "  se2_rac['SOC2A']=se2_rac['SOC2A'].str[1:]\n",
      "C:\\Users\\meisamasgri\\AppData\\Local\\Temp\\ipykernel_5032\\215391197.py:18: SettingWithCopyWarning: \n",
      "A value is trying to be set on a copy of a slice from a DataFrame.\n",
      "Try using .loc[row_indexer,col_indexer] = value instead\n",
      "\n",
      "See the caveats in the documentation: https://pandas.pydata.org/pandas-docs/stable/user_guide/indexing.html#returning-a-view-versus-a-copy\n",
      "  se2_rac['SOC2A'] = se2_rac['SOC2A'].str.split(')').str[0].astype(int)\n"
     ]
    },
    {
     "data": {
      "text/plain": "<Figure size 432x288 with 1 Axes>",
      "image/png": "[encoded data removed]"
     },
     "metadata": {
      "needs_background": "light"
     },
     "output_type": "display_data"
    }
   ],
   "source": [
    "se2_rac=df[['SOC2B','SOC2A','RACETH']]\n",
    "\n",
    "se2_rac['RACETH'].unique()\n",
    "\n",
    "\n",
    "se2_rac.drop(se2_rac.loc[df['SOC2B']== '(77) Not sure'].index, inplace=True)\n",
    "se2_rac.drop(se2_rac.loc[df['SOC2B']== '(98) SKIPPED ON WEB'].index, inplace=True)\n",
    "se2_rac.drop(se2_rac.loc[df['SOC2A']== '(77) Not sure'].index, inplace=True)\n",
    "se2_rac.drop(se2_rac.loc[df['SOC2A']== '(98) SKIPPED ON WEB'].index, inplace=True)\n",
    "se2_rac.drop(se2_rac.loc[df['SOC2A']== '(99) REFUSED'].index, inplace=True)\n",
    "se2_rac.drop(se2_rac.loc[df['RACETH']== '(99) REFUSED'].index, inplace=True)\n",
    "se2_rac.drop(se2_rac.loc[df['RACETH']== '(98) SKIPPED ON WEB'].index, inplace=True)\n",
    "se2_rac.drop(se2_rac.loc[df['RACETH']== \"(77) DON'T KNOW\"].index, inplace=True)\n",
    "\n",
    "se2_rac['SOC2B']=se2_rac['SOC2B'].str[1:]\n",
    "se2_rac['SOC2B'] = se2_rac['SOC2B'].str.split(')').str[0].astype(int)\n",
    "se2_rac['SOC2A']=se2_rac['SOC2A'].str[1:]\n",
    "se2_rac['SOC2A'] = se2_rac['SOC2A'].str.split(')').str[0].astype(int)\n",
    "\n",
    "ticks = se2_rac['RACETH'].str.split(')').str[1].unique();\n",
    "cols = se2_rac['RACETH'].unique();\n",
    "mask=[]\n",
    "data_b=[]\n",
    "data_a=[]\n",
    "\n",
    "for i in range(len(ticks)):\n",
    "    mask = se2_rac['RACETH'] == cols[i]\n",
    "    data_b.append(se2_rac[mask]['SOC2B'])\n",
    "    data_a.append(se2_rac[mask]['SOC2A'])\n",
    "\n",
    "bpl = plt.boxplot(data_b,\n",
    "                  positions=np.array(range(len(data_a)))*2.0-0.4,\n",
    "                  sym='',\n",
    "                  widths=0.6,\n",
    "                  showmeans=True,\n",
    "                  meanprops={\"marker\":\"o\",\n",
    "                             \"markerfacecolor\":\"white\",\n",
    "                             \"markeredgecolor\":\"black\",\n",
    "                             \"markersize\":\"2\"})\n",
    "\n",
    "bpr = plt.boxplot(data_a,\n",
    "                  positions=np.array(range(len(data_b)))*2.0+0.4,\n",
    "                  sym='',\n",
    "                  widths=0.6,\n",
    "                  showmeans=True,\n",
    "                  meanprops={\"marker\":\"o\",\n",
    "                             \"markerfacecolor\":\"white\",\n",
    "                             \"markeredgecolor\":\"black\",\n",
    "                             \"markersize\":\"2\"})\n",
    "\n",
    "\n",
    "def set_box_color(bp, color):\n",
    "    plt.setp(bp['boxes'], color=color)\n",
    "    plt.setp(bp['whiskers'], color=color)\n",
    "    plt.setp(bp['caps'], color=color)\n",
    "    plt.setp(bp['medians'], color=color)\n",
    "\n",
    "set_box_color(bpl, '#2C7BB6') # colors are from http://colorbrewer2.org/\n",
    "set_box_color(bpr, '#D7191C')\n",
    "\n",
    "plt.plot([], c='#2C7BB6', label='Before Pandemic')\n",
    "plt.plot([], c='#D7191C', label='Last Month')\n",
    "plt.legend()\n",
    "plt.ylabel('Social Relationship 1=max 5=min')\n",
    "plt.xlabel('rac')\n",
    "plt.xticks(fontsize=4)\n",
    "plt.title('Changes Between SOC2B & SOC2A With Race')\n",
    "\n",
    "plt.xticks(range(0, len(ticks) * 2, 2), ticks)\n",
    "plt.xlim(-2, len(ticks)*2)\n",
    "plt.ylim(0, 6)\n",
    "plt.tight_layout()\n",
    "plt.savefig('C:\\python\\se2-rac.png',format='png', dpi=600)"
   ],
   "metadata": {
    "collapsed": false,
    "pycharm": {
     "name": "#%%\n"
    }
   }
  },
  {
   "cell_type": "code",
   "execution_count": 128,
   "outputs": [
    {
     "data": {
      "text/plain": "<AxesSubplot:title={'center':'SOC2B'}, xlabel='AGE7'>"
     },
     "execution_count": 128,
     "metadata": {},
     "output_type": "execute_result"
    },
    {
     "data": {
      "text/plain": "<Figure size 432x288 with 1 Axes>",
      "image/png": "[encoded data removed]"
     },
     "metadata": {
      "needs_background": "light"
     },
     "output_type": "display_data"
    }
   ],
   "source": [
    "se2_age[['SOC2B','AGE7']].boxplot(by ='AGE7', column =['SOC2B'], grid = False)\n",
    "se2_age[['SOC2B','AGE7']].time_diff.quantile([0.25,0.5,0.75])\n"
   ],
   "metadata": {
    "collapsed": false,
    "pycharm": {
     "name": "#%%\n"
    }
   }
  },
  {
   "cell_type": "code",
   "execution_count": 132,
   "outputs": [
    {
     "data": {
      "text/plain": "25219     True\n15570     True\n15595     True\n15610     True\n15621     True\n         ...  \n23157    False\n2967     False\n12715    False\n4116     False\n16878    False\nName: AGE7, Length: 24670, dtype: bool"
     },
     "execution_count": 132,
     "metadata": {},
     "output_type": "execute_result"
    }
   ],
   "source": [
    "# se2_age[['SOC2B','AGE7']].SOC2B.quantile([0.25,0.5,0.75])\n",
    "# se2-age1 = se2_age['AGE7'] == \"(1) 18-24\"\n",
    "# mask_e1\n",
    "\n",
    "\n",
    "tips[\"weekend\"] = tips[\"day\"].isin([\"Sat\", \"Sun\"])\n",
    "sns.catplot(x=\"day\", y=\"total_bill\", hue=\"weekend\",\n",
    "            kind=\"box\", dodge=False, data=tips)"
   ],
   "metadata": {
    "collapsed": false,
    "pycharm": {
     "name": "#%%\n"
    }
   }
  },
  {
   "cell_type": "code",
   "execution_count": null,
   "outputs": [],
   "source": [],
   "metadata": {
    "collapsed": false,
    "pycharm": {
     "name": "#%%\n"
    }
   }
  },
  {
   "cell_type": "code",
   "execution_count": 134,
   "outputs": [
    {
     "name": "stderr",
     "output_type": "stream",
     "text": [
      "C:\\Users\\meisamasgri\\AppData\\Local\\Temp\\ipykernel_5032\\3409972692.py:3: SettingWithCopyWarning: \n",
      "A value is trying to be set on a copy of a slice from a DataFrame\n",
      "\n",
      "See the caveats in the documentation: https://pandas.pydata.org/pandas-docs/stable/user_guide/indexing.html#returning-a-view-versus-a-copy\n",
      "  se2_age.drop(se2_age.loc[df['SOC2B']== '(77) Not sure'].index, inplace=True)\n",
      "C:\\Users\\meisamasgri\\AppData\\Local\\Temp\\ipykernel_5032\\3409972692.py:4: SettingWithCopyWarning: \n",
      "A value is trying to be set on a copy of a slice from a DataFrame\n",
      "\n",
      "See the caveats in the documentation: https://pandas.pydata.org/pandas-docs/stable/user_guide/indexing.html#returning-a-view-versus-a-copy\n",
      "  se2_age.drop(se2_age.loc[df['SOC2B']== '(98) SKIPPED ON WEB'].index, inplace=True)\n",
      "C:\\Users\\meisamasgri\\AppData\\Local\\Temp\\ipykernel_5032\\3409972692.py:5: SettingWithCopyWarning: \n",
      "A value is trying to be set on a copy of a slice from a DataFrame\n",
      "\n",
      "See the caveats in the documentation: https://pandas.pydata.org/pandas-docs/stable/user_guide/indexing.html#returning-a-view-versus-a-copy\n",
      "  se2_age.drop(se2_age.loc[df['SOC2A']== '(77) Not sure'].index, inplace=True)\n",
      "C:\\Users\\meisamasgri\\AppData\\Local\\Temp\\ipykernel_5032\\3409972692.py:6: SettingWithCopyWarning: \n",
      "A value is trying to be set on a copy of a slice from a DataFrame\n",
      "\n",
      "See the caveats in the documentation: https://pandas.pydata.org/pandas-docs/stable/user_guide/indexing.html#returning-a-view-versus-a-copy\n",
      "  se2_age.drop(se2_age.loc[df['SOC2A']== '(98) SKIPPED ON WEB'].index, inplace=True)\n",
      "C:\\Users\\meisamasgri\\AppData\\Local\\Temp\\ipykernel_5032\\3409972692.py:7: SettingWithCopyWarning: \n",
      "A value is trying to be set on a copy of a slice from a DataFrame\n",
      "\n",
      "See the caveats in the documentation: https://pandas.pydata.org/pandas-docs/stable/user_guide/indexing.html#returning-a-view-versus-a-copy\n",
      "  se2_age.drop(se2_age.loc[df['SOC2A']== '(99) REFUSED'].index, inplace=True)\n",
      "C:\\Users\\meisamasgri\\AppData\\Local\\Temp\\ipykernel_5032\\3409972692.py:8: SettingWithCopyWarning: \n",
      "A value is trying to be set on a copy of a slice from a DataFrame\n",
      "\n",
      "See the caveats in the documentation: https://pandas.pydata.org/pandas-docs/stable/user_guide/indexing.html#returning-a-view-versus-a-copy\n",
      "  se2_age.drop(se2_age.loc[df['AGE7']== '(88) Removed for disclosure risk'].index, inplace=True)\n",
      "C:\\Users\\meisamasgri\\AppData\\Local\\Temp\\ipykernel_5032\\3409972692.py:10: SettingWithCopyWarning: \n",
      "A value is trying to be set on a copy of a slice from a DataFrame.\n",
      "Try using .loc[row_indexer,col_indexer] = value instead\n",
      "\n",
      "See the caveats in the documentation: https://pandas.pydata.org/pandas-docs/stable/user_guide/indexing.html#returning-a-view-versus-a-copy\n",
      "  se2_age['SOC2B']=se2_age['SOC2B'].str[1:]\n",
      "C:\\Users\\meisamasgri\\AppData\\Local\\Temp\\ipykernel_5032\\3409972692.py:11: SettingWithCopyWarning: \n",
      "A value is trying to be set on a copy of a slice from a DataFrame.\n",
      "Try using .loc[row_indexer,col_indexer] = value instead\n",
      "\n",
      "See the caveats in the documentation: https://pandas.pydata.org/pandas-docs/stable/user_guide/indexing.html#returning-a-view-versus-a-copy\n",
      "  se2_age['SOC2B'] = se2_age['SOC2B'].str.split(')').str[0].astype(int)\n",
      "C:\\Users\\meisamasgri\\AppData\\Local\\Temp\\ipykernel_5032\\3409972692.py:12: SettingWithCopyWarning: \n",
      "A value is trying to be set on a copy of a slice from a DataFrame.\n",
      "Try using .loc[row_indexer,col_indexer] = value instead\n",
      "\n",
      "See the caveats in the documentation: https://pandas.pydata.org/pandas-docs/stable/user_guide/indexing.html#returning-a-view-versus-a-copy\n",
      "  se2_age['SOC2A']=se2_age['SOC2A'].str[1:]\n",
      "C:\\Users\\meisamasgri\\AppData\\Local\\Temp\\ipykernel_5032\\3409972692.py:13: SettingWithCopyWarning: \n",
      "A value is trying to be set on a copy of a slice from a DataFrame.\n",
      "Try using .loc[row_indexer,col_indexer] = value instead\n",
      "\n",
      "See the caveats in the documentation: https://pandas.pydata.org/pandas-docs/stable/user_guide/indexing.html#returning-a-view-versus-a-copy\n",
      "  se2_age['SOC2A'] = se2_age['SOC2A'].str.split(')').str[0].astype(int)\n"
     ]
    },
    {
     "data": {
      "text/plain": "<AxesSubplot:xlabel='AGE7', ylabel='value'>"
     },
     "execution_count": 134,
     "metadata": {},
     "output_type": "execute_result"
    },
    {
     "data": {
      "text/plain": "<Figure size 1008x864 with 1 Axes>",
      "image/png": "[encoded data removed]"
     },
     "metadata": {
      "needs_background": "light"
     },
     "output_type": "display_data"
    }
   ],
   "source": [
    "se2_age=df[['SOC2B','SOC2A','AGE7']]\n",
    "\n",
    "se2_age.drop(se2_age.loc[df['SOC2B']== '(77) Not sure'].index, inplace=True)\n",
    "se2_age.drop(se2_age.loc[df['SOC2B']== '(98) SKIPPED ON WEB'].index, inplace=True)\n",
    "se2_age.drop(se2_age.loc[df['SOC2A']== '(77) Not sure'].index, inplace=True)\n",
    "se2_age.drop(se2_age.loc[df['SOC2A']== '(98) SKIPPED ON WEB'].index, inplace=True)\n",
    "se2_age.drop(se2_age.loc[df['SOC2A']== '(99) REFUSED'].index, inplace=True)\n",
    "se2_age.drop(se2_age.loc[df['AGE7']== '(88) Removed for disclosure risk'].index, inplace=True)\n",
    "\n",
    "se2_age['SOC2B']=se2_age['SOC2B'].str[1:]\n",
    "se2_age['SOC2B'] = se2_age['SOC2B'].str.split(')').str[0].astype(int)\n",
    "se2_age['SOC2A']=se2_age['SOC2A'].str[1:]\n",
    "se2_age['SOC2A'] = se2_age['SOC2A'].str.split(')').str[0].astype(int)\n",
    "\n",
    "plt.figure(figsize=(14,12))\n",
    "se2_age=se2_age.sort_values('AGE7')\n",
    "df_plot = se2_age.melt(id_vars='AGE7', value_vars=[\"SOC2B\", \"SOC2A\"])\n",
    "sns.boxplot(x='AGE7', y='value', hue='variable', data=df_plot , showmeans=True)"
   ],
   "metadata": {
    "collapsed": false,
    "pycharm": {
     "name": "#%%\n"
    }
   }
  },
  {
   "cell_type": "code",
   "execution_count": 135,
   "outputs": [
    {
     "name": "stderr",
     "output_type": "stream",
     "text": [
      "C:\\Users\\meisamasgri\\AppData\\Local\\Temp\\ipykernel_5032\\1938038227.py:3: SettingWithCopyWarning: \n",
      "A value is trying to be set on a copy of a slice from a DataFrame\n",
      "\n",
      "See the caveats in the documentation: https://pandas.pydata.org/pandas-docs/stable/user_guide/indexing.html#returning-a-view-versus-a-copy\n",
      "  se2_gender.drop(se2_gender.loc[df['SOC2B']== '(77) Not sure'].index, inplace=True)\n",
      "C:\\Users\\meisamasgri\\AppData\\Local\\Temp\\ipykernel_5032\\1938038227.py:4: SettingWithCopyWarning: \n",
      "A value is trying to be set on a copy of a slice from a DataFrame\n",
      "\n",
      "See the caveats in the documentation: https://pandas.pydata.org/pandas-docs/stable/user_guide/indexing.html#returning-a-view-versus-a-copy\n",
      "  se2_gender.drop(se2_gender.loc[df['SOC2B']== '(98) SKIPPED ON WEB'].index, inplace=True)\n",
      "C:\\Users\\meisamasgri\\AppData\\Local\\Temp\\ipykernel_5032\\1938038227.py:5: SettingWithCopyWarning: \n",
      "A value is trying to be set on a copy of a slice from a DataFrame\n",
      "\n",
      "See the caveats in the documentation: https://pandas.pydata.org/pandas-docs/stable/user_guide/indexing.html#returning-a-view-versus-a-copy\n",
      "  se2_gender.drop(se2_gender.loc[df['SOC2A']== '(77) Not sure'].index, inplace=True)\n",
      "C:\\Users\\meisamasgri\\AppData\\Local\\Temp\\ipykernel_5032\\1938038227.py:6: SettingWithCopyWarning: \n",
      "A value is trying to be set on a copy of a slice from a DataFrame\n",
      "\n",
      "See the caveats in the documentation: https://pandas.pydata.org/pandas-docs/stable/user_guide/indexing.html#returning-a-view-versus-a-copy\n",
      "  se2_gender.drop(se2_gender.loc[df['SOC2A']== '(98) SKIPPED ON WEB'].index, inplace=True)\n",
      "C:\\Users\\meisamasgri\\AppData\\Local\\Temp\\ipykernel_5032\\1938038227.py:7: SettingWithCopyWarning: \n",
      "A value is trying to be set on a copy of a slice from a DataFrame\n",
      "\n",
      "See the caveats in the documentation: https://pandas.pydata.org/pandas-docs/stable/user_guide/indexing.html#returning-a-view-versus-a-copy\n",
      "  se2_gender.drop(se2_gender.loc[df['SOC2A']== '(99) REFUSED'].index, inplace=True)\n",
      "C:\\Users\\meisamasgri\\AppData\\Local\\Temp\\ipykernel_5032\\1938038227.py:8: SettingWithCopyWarning: \n",
      "A value is trying to be set on a copy of a slice from a DataFrame\n",
      "\n",
      "See the caveats in the documentation: https://pandas.pydata.org/pandas-docs/stable/user_guide/indexing.html#returning-a-view-versus-a-copy\n",
      "  se2_gender.drop(se2_gender.loc[df['GENDER']== '(98) SKIPPED ON WEB'].index, inplace=True)\n",
      "C:\\Users\\meisamasgri\\AppData\\Local\\Temp\\ipykernel_5032\\1938038227.py:10: SettingWithCopyWarning: \n",
      "A value is trying to be set on a copy of a slice from a DataFrame.\n",
      "Try using .loc[row_indexer,col_indexer] = value instead\n",
      "\n",
      "See the caveats in the documentation: https://pandas.pydata.org/pandas-docs/stable/user_guide/indexing.html#returning-a-view-versus-a-copy\n",
      "  se2_gender['SOC2B']=se2_gender['SOC2B'].str[1:]\n",
      "C:\\Users\\meisamasgri\\AppData\\Local\\Temp\\ipykernel_5032\\1938038227.py:11: SettingWithCopyWarning: \n",
      "A value is trying to be set on a copy of a slice from a DataFrame.\n",
      "Try using .loc[row_indexer,col_indexer] = value instead\n",
      "\n",
      "See the caveats in the documentation: https://pandas.pydata.org/pandas-docs/stable/user_guide/indexing.html#returning-a-view-versus-a-copy\n",
      "  se2_gender['SOC2B'] = se2_gender['SOC2B'].str.split(')').str[0].astype(int)\n",
      "C:\\Users\\meisamasgri\\AppData\\Local\\Temp\\ipykernel_5032\\1938038227.py:12: SettingWithCopyWarning: \n",
      "A value is trying to be set on a copy of a slice from a DataFrame.\n",
      "Try using .loc[row_indexer,col_indexer] = value instead\n",
      "\n",
      "See the caveats in the documentation: https://pandas.pydata.org/pandas-docs/stable/user_guide/indexing.html#returning-a-view-versus-a-copy\n",
      "  se2_gender['SOC2A']=se2_gender['SOC2A'].str[1:]\n",
      "C:\\Users\\meisamasgri\\AppData\\Local\\Temp\\ipykernel_5032\\1938038227.py:13: SettingWithCopyWarning: \n",
      "A value is trying to be set on a copy of a slice from a DataFrame.\n",
      "Try using .loc[row_indexer,col_indexer] = value instead\n",
      "\n",
      "See the caveats in the documentation: https://pandas.pydata.org/pandas-docs/stable/user_guide/indexing.html#returning-a-view-versus-a-copy\n",
      "  se2_gender['SOC2A'] = se2_gender['SOC2A'].str.split(')').str[0].astype(int)\n"
     ]
    },
    {
     "data": {
      "text/plain": "<AxesSubplot:xlabel='GENDER', ylabel='value'>"
     },
     "execution_count": 135,
     "metadata": {},
     "output_type": "execute_result"
    },
    {
     "data": {
      "text/plain": "<Figure size 1008x864 with 1 Axes>",
      "image/png": "[encoded data removed]"
     },
     "metadata": {
      "needs_background": "light"
     },
     "output_type": "display_data"
    }
   ],
   "source": [
    "se2_gender=df[['SOC2B','SOC2A','GENDER']]\n",
    "\n",
    "se2_gender.drop(se2_gender.loc[df['SOC2B']== '(77) Not sure'].index, inplace=True)\n",
    "se2_gender.drop(se2_gender.loc[df['SOC2B']== '(98) SKIPPED ON WEB'].index, inplace=True)\n",
    "se2_gender.drop(se2_gender.loc[df['SOC2A']== '(77) Not sure'].index, inplace=True)\n",
    "se2_gender.drop(se2_gender.loc[df['SOC2A']== '(98) SKIPPED ON WEB'].index, inplace=True)\n",
    "se2_gender.drop(se2_gender.loc[df['SOC2A']== '(99) REFUSED'].index, inplace=True)\n",
    "se2_gender.drop(se2_gender.loc[df['GENDER']== '(98) SKIPPED ON WEB'].index, inplace=True)\n",
    "\n",
    "se2_gender['SOC2B']=se2_gender['SOC2B'].str[1:]\n",
    "se2_gender['SOC2B'] = se2_gender['SOC2B'].str.split(')').str[0].astype(int)\n",
    "se2_gender['SOC2A']=se2_gender['SOC2A'].str[1:]\n",
    "se2_gender['SOC2A'] = se2_gender['SOC2A'].str.split(')').str[0].astype(int)\n",
    "\n",
    "plt.figure(figsize=(14,12))\n",
    "se2_gender=se2_gender.sort_values('GENDER')\n",
    "df_plot = se2_gender.melt(id_vars='GENDER', value_vars=[\"SOC2B\", \"SOC2A\"])\n",
    "sns.boxplot(x='GENDER', y='value', hue='variable', data=df_plot,showmeans=True)"
   ],
   "metadata": {
    "collapsed": false,
    "pycharm": {
     "name": "#%%\n"
    }
   }
  },
  {
   "cell_type": "code",
   "execution_count": 122,
   "outputs": [
    {
     "data": {
      "text/plain": "array(['(2) Female', '(1) Male', '(98) SKIPPED ON WEB'], dtype=object)"
     },
     "execution_count": 122,
     "metadata": {},
     "output_type": "execute_result"
    }
   ],
   "source": [
    "se2_gender=df[['SOC2B','SOC2A','GENDER']]\n",
    "se2_gender['GENDER'].unique()"
   ],
   "metadata": {
    "collapsed": false,
    "pycharm": {
     "name": "#%%\n"
    }
   }
  },
  {
   "cell_type": "code",
   "execution_count": 109,
   "outputs": [
    {
     "ename": "TypeError",
     "evalue": "ufunc 'true_divide' not supported for the input types, and the inputs could not be safely coerced to any supported types according to the casting rule ''safe''",
     "output_type": "error",
     "traceback": [
      "\u001B[1;31m---------------------------------------------------------------------------\u001B[0m",
      "\u001B[1;31mTypeError\u001B[0m                                 Traceback (most recent call last)",
      "Input \u001B[1;32mIn [109]\u001B[0m, in \u001B[0;36m<cell line: 15>\u001B[1;34m()\u001B[0m\n\u001B[0;32m      8\u001B[0m ticks \u001B[38;5;241m=\u001B[39m [\u001B[38;5;124m'\u001B[39m\u001B[38;5;124m1\u001B[39m\u001B[38;5;124m'\u001B[39m, \u001B[38;5;124m'\u001B[39m\u001B[38;5;124m2\u001B[39m\u001B[38;5;124m'\u001B[39m, \u001B[38;5;124m'\u001B[39m\u001B[38;5;124m3\u001B[39m\u001B[38;5;124m'\u001B[39m,\u001B[38;5;124m'\u001B[39m\u001B[38;5;124m4\u001B[39m\u001B[38;5;124m'\u001B[39m, \u001B[38;5;124m'\u001B[39m\u001B[38;5;124m5\u001B[39m\u001B[38;5;124m'\u001B[39m,\u001B[38;5;124m'\u001B[39m\u001B[38;5;124m6\u001B[39m\u001B[38;5;124m'\u001B[39m, \u001B[38;5;124m'\u001B[39m\u001B[38;5;124m7\u001B[39m\u001B[38;5;124m'\u001B[39m]\n\u001B[0;32m     10\u001B[0m \u001B[38;5;66;03m# create a boxplot for two arrays separately,\u001B[39;00m\n\u001B[0;32m     11\u001B[0m \u001B[38;5;66;03m# the position specifies the location of the\u001B[39;00m\n\u001B[0;32m     12\u001B[0m \u001B[38;5;66;03m# particular box in the graph,\u001B[39;00m\n\u001B[0;32m     13\u001B[0m \u001B[38;5;66;03m# this can be changed as per your wish. Use width\u001B[39;00m\n\u001B[0;32m     14\u001B[0m \u001B[38;5;66;03m# to specify the width of the plot\u001B[39;00m\n\u001B[1;32m---> 15\u001B[0m summer_rain_plot \u001B[38;5;241m=\u001B[39m \u001B[43mplt\u001B[49m\u001B[38;5;241;43m.\u001B[39;49m\u001B[43mboxplot\u001B[49m\u001B[43m(\u001B[49m\u001B[43msummer_rain\u001B[49m\u001B[43m,\u001B[49m\n\u001B[0;32m     16\u001B[0m \u001B[43m                               \u001B[49m\u001B[43mpositions\u001B[49m\u001B[38;5;241;43m=\u001B[39;49m\u001B[43mnp\u001B[49m\u001B[38;5;241;43m.\u001B[39;49m\u001B[43marray\u001B[49m\u001B[43m(\u001B[49m\n\u001B[0;32m     17\u001B[0m \u001B[43m    \u001B[49m\u001B[43mnp\u001B[49m\u001B[38;5;241;43m.\u001B[39;49m\u001B[43marange\u001B[49m\u001B[43m(\u001B[49m\u001B[38;5;28;43mlen\u001B[39;49m\u001B[43m(\u001B[49m\u001B[43msummer_rain\u001B[49m\u001B[43m)\u001B[49m\u001B[43m)\u001B[49m\u001B[43m)\u001B[49m\u001B[38;5;241;43m*\u001B[39;49m\u001B[38;5;241;43m2.0\u001B[39;49m\u001B[38;5;241;43m-\u001B[39;49m\u001B[38;5;241;43m0.35\u001B[39;49m\u001B[43m,\u001B[49m\n\u001B[0;32m     18\u001B[0m \u001B[43m                               \u001B[49m\u001B[43mwidths\u001B[49m\u001B[38;5;241;43m=\u001B[39;49m\u001B[38;5;241;43m0.6\u001B[39;49m\u001B[43m)\u001B[49m\n\u001B[0;32m     19\u001B[0m winter_rain_plot \u001B[38;5;241m=\u001B[39m plt\u001B[38;5;241m.\u001B[39mboxplot(winter_rain,\n\u001B[0;32m     20\u001B[0m                                positions\u001B[38;5;241m=\u001B[39mnp\u001B[38;5;241m.\u001B[39marray(\n\u001B[0;32m     21\u001B[0m     np\u001B[38;5;241m.\u001B[39marange(\u001B[38;5;28mlen\u001B[39m(winter_rain)))\u001B[38;5;241m*\u001B[39m\u001B[38;5;241m2.0\u001B[39m\u001B[38;5;241m+\u001B[39m\u001B[38;5;241m0.35\u001B[39m,\n\u001B[0;32m     22\u001B[0m                                widths\u001B[38;5;241m=\u001B[39m\u001B[38;5;241m0.6\u001B[39m)\n\u001B[0;32m     24\u001B[0m \u001B[38;5;66;03m# each plot returns a dictionary, use plt.setp()\u001B[39;00m\n\u001B[0;32m     25\u001B[0m \u001B[38;5;66;03m# function to assign the color code\u001B[39;00m\n\u001B[0;32m     26\u001B[0m \u001B[38;5;66;03m# for all properties of the box plot of particular group\u001B[39;00m\n\u001B[0;32m     27\u001B[0m \u001B[38;5;66;03m# use the below function to set color for particular group,\u001B[39;00m\n\u001B[0;32m     28\u001B[0m \u001B[38;5;66;03m# by iterating over all properties of the box plot\u001B[39;00m\n",
      "File \u001B[1;32mc:\\users\\meisamasgri\\dropbox\\git\\covid19andmentalhealth\\venv\\lib\\site-packages\\matplotlib\\pyplot.py:2428\u001B[0m, in \u001B[0;36mboxplot\u001B[1;34m(x, notch, sym, vert, whis, positions, widths, patch_artist, bootstrap, usermedians, conf_intervals, meanline, showmeans, showcaps, showbox, showfliers, boxprops, labels, flierprops, medianprops, meanprops, capprops, whiskerprops, manage_ticks, autorange, zorder, data)\u001B[0m\n\u001B[0;32m   2418\u001B[0m \u001B[38;5;129m@_copy_docstring_and_deprecators\u001B[39m(Axes\u001B[38;5;241m.\u001B[39mboxplot)\n\u001B[0;32m   2419\u001B[0m \u001B[38;5;28;01mdef\u001B[39;00m \u001B[38;5;21mboxplot\u001B[39m(\n\u001B[0;32m   2420\u001B[0m         x, notch\u001B[38;5;241m=\u001B[39m\u001B[38;5;28;01mNone\u001B[39;00m, sym\u001B[38;5;241m=\u001B[39m\u001B[38;5;28;01mNone\u001B[39;00m, vert\u001B[38;5;241m=\u001B[39m\u001B[38;5;28;01mNone\u001B[39;00m, whis\u001B[38;5;241m=\u001B[39m\u001B[38;5;28;01mNone\u001B[39;00m,\n\u001B[1;32m   (...)\u001B[0m\n\u001B[0;32m   2426\u001B[0m         whiskerprops\u001B[38;5;241m=\u001B[39m\u001B[38;5;28;01mNone\u001B[39;00m, manage_ticks\u001B[38;5;241m=\u001B[39m\u001B[38;5;28;01mTrue\u001B[39;00m, autorange\u001B[38;5;241m=\u001B[39m\u001B[38;5;28;01mFalse\u001B[39;00m,\n\u001B[0;32m   2427\u001B[0m         zorder\u001B[38;5;241m=\u001B[39m\u001B[38;5;28;01mNone\u001B[39;00m, \u001B[38;5;241m*\u001B[39m, data\u001B[38;5;241m=\u001B[39m\u001B[38;5;28;01mNone\u001B[39;00m):\n\u001B[1;32m-> 2428\u001B[0m     \u001B[38;5;28;01mreturn\u001B[39;00m gca()\u001B[38;5;241m.\u001B[39mboxplot(\n\u001B[0;32m   2429\u001B[0m         x, notch\u001B[38;5;241m=\u001B[39mnotch, sym\u001B[38;5;241m=\u001B[39msym, vert\u001B[38;5;241m=\u001B[39mvert, whis\u001B[38;5;241m=\u001B[39mwhis,\n\u001B[0;32m   2430\u001B[0m         positions\u001B[38;5;241m=\u001B[39mpositions, widths\u001B[38;5;241m=\u001B[39mwidths, patch_artist\u001B[38;5;241m=\u001B[39mpatch_artist,\n\u001B[0;32m   2431\u001B[0m         bootstrap\u001B[38;5;241m=\u001B[39mbootstrap, usermedians\u001B[38;5;241m=\u001B[39musermedians,\n\u001B[0;32m   2432\u001B[0m         conf_intervals\u001B[38;5;241m=\u001B[39mconf_intervals, meanline\u001B[38;5;241m=\u001B[39mmeanline,\n\u001B[0;32m   2433\u001B[0m         showmeans\u001B[38;5;241m=\u001B[39mshowmeans, showcaps\u001B[38;5;241m=\u001B[39mshowcaps, showbox\u001B[38;5;241m=\u001B[39mshowbox,\n\u001B[0;32m   2434\u001B[0m         showfliers\u001B[38;5;241m=\u001B[39mshowfliers, boxprops\u001B[38;5;241m=\u001B[39mboxprops, labels\u001B[38;5;241m=\u001B[39mlabels,\n\u001B[0;32m   2435\u001B[0m         flierprops\u001B[38;5;241m=\u001B[39mflierprops, medianprops\u001B[38;5;241m=\u001B[39mmedianprops,\n\u001B[0;32m   2436\u001B[0m         meanprops\u001B[38;5;241m=\u001B[39mmeanprops, capprops\u001B[38;5;241m=\u001B[39mcapprops,\n\u001B[0;32m   2437\u001B[0m         whiskerprops\u001B[38;5;241m=\u001B[39mwhiskerprops, manage_ticks\u001B[38;5;241m=\u001B[39mmanage_ticks,\n\u001B[0;32m   2438\u001B[0m         autorange\u001B[38;5;241m=\u001B[39mautorange, zorder\u001B[38;5;241m=\u001B[39mzorder,\n\u001B[0;32m   2439\u001B[0m         \u001B[38;5;241m*\u001B[39m\u001B[38;5;241m*\u001B[39m({\u001B[38;5;124m\"\u001B[39m\u001B[38;5;124mdata\u001B[39m\u001B[38;5;124m\"\u001B[39m: data} \u001B[38;5;28;01mif\u001B[39;00m data \u001B[38;5;129;01mis\u001B[39;00m \u001B[38;5;129;01mnot\u001B[39;00m \u001B[38;5;28;01mNone\u001B[39;00m \u001B[38;5;28;01melse\u001B[39;00m {}))\n",
      "File \u001B[1;32mc:\\users\\meisamasgri\\dropbox\\git\\covid19andmentalhealth\\venv\\lib\\site-packages\\matplotlib\\__init__.py:1412\u001B[0m, in \u001B[0;36m_preprocess_data.<locals>.inner\u001B[1;34m(ax, data, *args, **kwargs)\u001B[0m\n\u001B[0;32m   1409\u001B[0m \u001B[38;5;129m@functools\u001B[39m\u001B[38;5;241m.\u001B[39mwraps(func)\n\u001B[0;32m   1410\u001B[0m \u001B[38;5;28;01mdef\u001B[39;00m \u001B[38;5;21minner\u001B[39m(ax, \u001B[38;5;241m*\u001B[39margs, data\u001B[38;5;241m=\u001B[39m\u001B[38;5;28;01mNone\u001B[39;00m, \u001B[38;5;241m*\u001B[39m\u001B[38;5;241m*\u001B[39mkwargs):\n\u001B[0;32m   1411\u001B[0m     \u001B[38;5;28;01mif\u001B[39;00m data \u001B[38;5;129;01mis\u001B[39;00m \u001B[38;5;28;01mNone\u001B[39;00m:\n\u001B[1;32m-> 1412\u001B[0m         \u001B[38;5;28;01mreturn\u001B[39;00m func(ax, \u001B[38;5;241m*\u001B[39m\u001B[38;5;28mmap\u001B[39m(sanitize_sequence, args), \u001B[38;5;241m*\u001B[39m\u001B[38;5;241m*\u001B[39mkwargs)\n\u001B[0;32m   1414\u001B[0m     bound \u001B[38;5;241m=\u001B[39m new_sig\u001B[38;5;241m.\u001B[39mbind(ax, \u001B[38;5;241m*\u001B[39margs, \u001B[38;5;241m*\u001B[39m\u001B[38;5;241m*\u001B[39mkwargs)\n\u001B[0;32m   1415\u001B[0m     auto_label \u001B[38;5;241m=\u001B[39m (bound\u001B[38;5;241m.\u001B[39marguments\u001B[38;5;241m.\u001B[39mget(label_namer)\n\u001B[0;32m   1416\u001B[0m                   \u001B[38;5;129;01mor\u001B[39;00m bound\u001B[38;5;241m.\u001B[39mkwargs\u001B[38;5;241m.\u001B[39mget(label_namer))\n",
      "File \u001B[1;32mc:\\users\\meisamasgri\\dropbox\\git\\covid19andmentalhealth\\venv\\lib\\site-packages\\matplotlib\\axes\\_axes.py:3711\u001B[0m, in \u001B[0;36mAxes.boxplot\u001B[1;34m(self, x, notch, sym, vert, whis, positions, widths, patch_artist, bootstrap, usermedians, conf_intervals, meanline, showmeans, showcaps, showbox, showfliers, boxprops, labels, flierprops, medianprops, meanprops, capprops, whiskerprops, manage_ticks, autorange, zorder)\u001B[0m\n\u001B[0;32m   3708\u001B[0m \u001B[38;5;28;01mif\u001B[39;00m bootstrap \u001B[38;5;129;01mis\u001B[39;00m \u001B[38;5;28;01mNone\u001B[39;00m:\n\u001B[0;32m   3709\u001B[0m     bootstrap \u001B[38;5;241m=\u001B[39m rcParams[\u001B[38;5;124m'\u001B[39m\u001B[38;5;124mboxplot.bootstrap\u001B[39m\u001B[38;5;124m'\u001B[39m]\n\u001B[1;32m-> 3711\u001B[0m bxpstats \u001B[38;5;241m=\u001B[39m \u001B[43mcbook\u001B[49m\u001B[38;5;241;43m.\u001B[39;49m\u001B[43mboxplot_stats\u001B[49m\u001B[43m(\u001B[49m\u001B[43mx\u001B[49m\u001B[43m,\u001B[49m\u001B[43m \u001B[49m\u001B[43mwhis\u001B[49m\u001B[38;5;241;43m=\u001B[39;49m\u001B[43mwhis\u001B[49m\u001B[43m,\u001B[49m\u001B[43m \u001B[49m\u001B[43mbootstrap\u001B[49m\u001B[38;5;241;43m=\u001B[39;49m\u001B[43mbootstrap\u001B[49m\u001B[43m,\u001B[49m\n\u001B[0;32m   3712\u001B[0m \u001B[43m                               \u001B[49m\u001B[43mlabels\u001B[49m\u001B[38;5;241;43m=\u001B[39;49m\u001B[43mlabels\u001B[49m\u001B[43m,\u001B[49m\u001B[43m \u001B[49m\u001B[43mautorange\u001B[49m\u001B[38;5;241;43m=\u001B[39;49m\u001B[43mautorange\u001B[49m\u001B[43m)\u001B[49m\n\u001B[0;32m   3713\u001B[0m \u001B[38;5;28;01mif\u001B[39;00m notch \u001B[38;5;129;01mis\u001B[39;00m \u001B[38;5;28;01mNone\u001B[39;00m:\n\u001B[0;32m   3714\u001B[0m     notch \u001B[38;5;241m=\u001B[39m rcParams[\u001B[38;5;124m'\u001B[39m\u001B[38;5;124mboxplot.notch\u001B[39m\u001B[38;5;124m'\u001B[39m]\n",
      "File \u001B[1;32mc:\\users\\meisamasgri\\dropbox\\git\\covid19andmentalhealth\\venv\\lib\\site-packages\\matplotlib\\cbook\\__init__.py:1195\u001B[0m, in \u001B[0;36mboxplot_stats\u001B[1;34m(X, whis, bootstrap, labels, autorange)\u001B[0m\n\u001B[0;32m   1192\u001B[0m x \u001B[38;5;241m=\u001B[39m np\u001B[38;5;241m.\u001B[39masarray(x)\n\u001B[0;32m   1194\u001B[0m \u001B[38;5;66;03m# arithmetic mean\u001B[39;00m\n\u001B[1;32m-> 1195\u001B[0m stats[\u001B[38;5;124m'\u001B[39m\u001B[38;5;124mmean\u001B[39m\u001B[38;5;124m'\u001B[39m] \u001B[38;5;241m=\u001B[39m \u001B[43mnp\u001B[49m\u001B[38;5;241;43m.\u001B[39;49m\u001B[43mmean\u001B[49m\u001B[43m(\u001B[49m\u001B[43mx\u001B[49m\u001B[43m)\u001B[49m\n\u001B[0;32m   1197\u001B[0m \u001B[38;5;66;03m# medians and quartiles\u001B[39;00m\n\u001B[0;32m   1198\u001B[0m q1, med, q3 \u001B[38;5;241m=\u001B[39m np\u001B[38;5;241m.\u001B[39mpercentile(x, [\u001B[38;5;241m25\u001B[39m, \u001B[38;5;241m50\u001B[39m, \u001B[38;5;241m75\u001B[39m])\n",
      "File \u001B[1;32m<__array_function__ internals>:180\u001B[0m, in \u001B[0;36mmean\u001B[1;34m(*args, **kwargs)\u001B[0m\n",
      "File \u001B[1;32mc:\\users\\meisamasgri\\dropbox\\git\\covid19andmentalhealth\\venv\\lib\\site-packages\\numpy\\core\\fromnumeric.py:3474\u001B[0m, in \u001B[0;36mmean\u001B[1;34m(a, axis, dtype, out, keepdims, where)\u001B[0m\n\u001B[0;32m   3471\u001B[0m     \u001B[38;5;28;01melse\u001B[39;00m:\n\u001B[0;32m   3472\u001B[0m         \u001B[38;5;28;01mreturn\u001B[39;00m mean(axis\u001B[38;5;241m=\u001B[39maxis, dtype\u001B[38;5;241m=\u001B[39mdtype, out\u001B[38;5;241m=\u001B[39mout, \u001B[38;5;241m*\u001B[39m\u001B[38;5;241m*\u001B[39mkwargs)\n\u001B[1;32m-> 3474\u001B[0m \u001B[38;5;28;01mreturn\u001B[39;00m _methods\u001B[38;5;241m.\u001B[39m_mean(a, axis\u001B[38;5;241m=\u001B[39maxis, dtype\u001B[38;5;241m=\u001B[39mdtype,\n\u001B[0;32m   3475\u001B[0m                       out\u001B[38;5;241m=\u001B[39mout, \u001B[38;5;241m*\u001B[39m\u001B[38;5;241m*\u001B[39mkwargs)\n",
      "File \u001B[1;32mc:\\users\\meisamasgri\\dropbox\\git\\covid19andmentalhealth\\venv\\lib\\site-packages\\numpy\\core\\_methods.py:191\u001B[0m, in \u001B[0;36m_mean\u001B[1;34m(a, axis, dtype, out, keepdims, where)\u001B[0m\n\u001B[0;32m    189\u001B[0m         ret \u001B[38;5;241m=\u001B[39m ret\u001B[38;5;241m.\u001B[39mdtype\u001B[38;5;241m.\u001B[39mtype(ret \u001B[38;5;241m/\u001B[39m rcount)\n\u001B[0;32m    190\u001B[0m \u001B[38;5;28;01melse\u001B[39;00m:\n\u001B[1;32m--> 191\u001B[0m     ret \u001B[38;5;241m=\u001B[39m \u001B[43mret\u001B[49m\u001B[43m \u001B[49m\u001B[38;5;241;43m/\u001B[39;49m\u001B[43m \u001B[49m\u001B[43mrcount\u001B[49m\n\u001B[0;32m    193\u001B[0m \u001B[38;5;28;01mreturn\u001B[39;00m ret\n",
      "\u001B[1;31mTypeError\u001B[0m: ufunc 'true_divide' not supported for the input types, and the inputs could not be safely coerced to any supported types according to the casting rule ''safe''"
     ]
    },
    {
     "data": {
      "text/plain": "<Figure size 432x288 with 1 Axes>",
      "image/png": "[encoded data removed]"
     },
     "metadata": {
      "needs_background": "light"
     },
     "output_type": "display_data"
    }
   ],
   "source": [
    "# the summer and winter rain fall amount\n",
    "summer_rain = se2_age[['SOC2B','AGE7']]\n",
    "winter_rain = se2_age[['SOC2A','AGE7']]\n",
    "\n",
    "# the list named ticks, summarizes or groups\n",
    "# the summer and winter rainfall as low, mid\n",
    "# and high\n",
    "ticks = ['1', '2', '3','4', '5','6', '7']\n",
    "\n",
    "# create a boxplot for two arrays separately,\n",
    "# the position specifies the location of the\n",
    "# particular box in the graph,\n",
    "# this can be changed as per your wish. Use width\n",
    "# to specify the width of the plot\n",
    "summer_rain_plot = plt.boxplot(summer_rain,\n",
    "                               positions=np.array(\n",
    "    np.arange(len(summer_rain)))*2.0-0.35,\n",
    "                               widths=0.6)\n",
    "winter_rain_plot = plt.boxplot(winter_rain,\n",
    "                               positions=np.array(\n",
    "    np.arange(len(winter_rain)))*2.0+0.35,\n",
    "                               widths=0.6)\n",
    "\n",
    "# each plot returns a dictionary, use plt.setp()\n",
    "# function to assign the color code\n",
    "# for all properties of the box plot of particular group\n",
    "# use the below function to set color for particular group,\n",
    "# by iterating over all properties of the box plot\n",
    "def define_box_properties(plot_name, color_code, label):\n",
    "    for k, v in plot_name.items():\n",
    "        plt.setp(plot_name.get(k), color=color_code)\n",
    "\n",
    "    # use plot function to draw a small line to name the legend.\n",
    "    plt.plot([], c=color_code, label=label)\n",
    "    plt.legend()\n",
    "\n",
    "\n",
    "# setting colors for each groups\n",
    "define_box_properties(summer_rain_plot, '#D7191C', 'Summer')\n",
    "define_box_properties(winter_rain_plot, '#2C7BB6', 'Winter')\n",
    "\n",
    "# set the x label values\n",
    "plt.xticks(np.arange(0, len(ticks) * 2, 2), ticks)\n",
    "\n",
    "# set the limit for x axis\n",
    "plt.xlim(-2, len(ticks)*2)\n",
    "\n",
    "# set the limit for y axis\n",
    "plt.ylim(0, 50)\n",
    "\n",
    "# set the title\n",
    "plt.title('Grouped boxplot using matplotlib')"
   ],
   "metadata": {
    "collapsed": false,
    "pycharm": {
     "name": "#%%\n"
    }
   }
  },
  {
   "cell_type": "code",
   "execution_count": null,
   "outputs": [],
   "source": [],
   "metadata": {
    "collapsed": false,
    "pycharm": {
     "name": "#%%\n"
    }
   }
  },
  {
   "cell_type": "code",
   "execution_count": 115,
   "outputs": [
    {
     "ename": "AttributeError",
     "evalue": "module 'alt' has no attribute 'Chart'",
     "output_type": "error",
     "traceback": [
      "\u001B[1;31m---------------------------------------------------------------------------\u001B[0m",
      "\u001B[1;31mAttributeError\u001B[0m                            Traceback (most recent call last)",
      "Input \u001B[1;32mIn [115]\u001B[0m, in \u001B[0;36m<cell line: 2>\u001B[1;34m()\u001B[0m\n\u001B[0;32m      1\u001B[0m \u001B[38;5;28;01mimport\u001B[39;00m \u001B[38;5;21;01malt\u001B[39;00m\n\u001B[1;32m----> 2\u001B[0m \u001B[43malt\u001B[49m\u001B[38;5;241;43m.\u001B[39;49m\u001B[43mChart\u001B[49m(\n\u001B[0;32m      3\u001B[0m     se2_age\u001B[38;5;241m.\u001B[39mreset_index()\u001B[38;5;241m.\u001B[39mmelt(id_vars \u001B[38;5;241m=\u001B[39m [\u001B[38;5;124m\"\u001B[39m\u001B[38;5;124mAGE7\u001B[39m\u001B[38;5;124m\"\u001B[39m], value_vars\u001B[38;5;241m=\u001B[39m[\u001B[38;5;124m\"\u001B[39m\u001B[38;5;124mSOC2B\u001B[39m\u001B[38;5;124m\"\u001B[39m, \u001B[38;5;124m\"\u001B[39m\u001B[38;5;124mSOC2A\u001B[39m\u001B[38;5;124m\"\u001B[39m])\u001B[38;5;241m.\u001B[39massign(age \u001B[38;5;241m=\u001B[39m \u001B[38;5;28;01mlambda\u001B[39;00m x: x[\u001B[38;5;124m\"\u001B[39m\u001B[38;5;124mAGE7\u001B[39m\u001B[38;5;124m\"\u001B[39m]\u001B[38;5;241m.\u001B[39mdt\u001B[38;5;241m.\u001B[39mage)\n\u001B[0;32m      4\u001B[0m )\u001B[38;5;241m.\u001B[39mmark_boxplot(\n\u001B[0;32m      5\u001B[0m     extent\u001B[38;5;241m=\u001B[39m\u001B[38;5;124m'\u001B[39m\u001B[38;5;124mmin-max\u001B[39m\u001B[38;5;124m'\u001B[39m\n\u001B[0;32m      6\u001B[0m )\u001B[38;5;241m.\u001B[39mencode(\n\u001B[0;32m      7\u001B[0m     alt\u001B[38;5;241m.\u001B[39mX(\u001B[38;5;124m'\u001B[39m\u001B[38;5;124mvariable:N\u001B[39m\u001B[38;5;124m'\u001B[39m, title\u001B[38;5;241m=\u001B[39m\u001B[38;5;124m'\u001B[39m\u001B[38;5;124m'\u001B[39m),\n\u001B[0;32m      8\u001B[0m     alt\u001B[38;5;241m.\u001B[39mY(\u001B[38;5;124m'\u001B[39m\u001B[38;5;124mvalue:Q\u001B[39m\u001B[38;5;124m'\u001B[39m),\n\u001B[0;32m      9\u001B[0m     column\u001B[38;5;241m=\u001B[39m\u001B[38;5;124m'\u001B[39m\u001B[38;5;124mage:N\u001B[39m\u001B[38;5;124m'\u001B[39m,\n\u001B[0;32m     10\u001B[0m     color\u001B[38;5;241m=\u001B[39m\u001B[38;5;124m'\u001B[39m\u001B[38;5;124mvariable:N\u001B[39m\u001B[38;5;124m'\u001B[39m\n\u001B[0;32m     11\u001B[0m )\n",
      "\u001B[1;31mAttributeError\u001B[0m: module 'alt' has no attribute 'Chart'"
     ]
    }
   ],
   "source": [
    "import alt\n",
    "alt.Chart(\n",
    "    se2_age.reset_index().melt(id_vars = [\"AGE7\"], value_vars=[\"SOC2B\", \"SOC2A\"]).assign(age = lambda x: x[\"AGE7\"].dt.age)\n",
    ").mark_boxplot(\n",
    "    extent='min-max'\n",
    ").encode(\n",
    "    alt.X('variable:N', title=''),\n",
    "    alt.Y('value:Q'),\n",
    "    column='age:N',\n",
    "    color='variable:N'\n",
    ")"
   ],
   "metadata": {
    "collapsed": false,
    "pycharm": {
     "name": "#%%\n"
    }
   }
  },
  {
   "cell_type": "code",
   "execution_count": null,
   "outputs": [],
   "source": [
    "\n",
    "SE1 = pd.get_dummies(df[['SOC2B','SOC2A']])\n",
    "plt.figure(figsize=(14,12))\n",
    "SE1_CORR = SE1.corr()\n",
    "matrix = np.triu(SE1_CORR)\n",
    "s=sns.heatmap(SE1_CORR,linewidths=.1,cmap=\"YlGnBu\", annot=True, mask=matrix)\n",
    "plt.yticks(rotation=0);\n",
    "plt.savefig(\"C:\\python\\SE01-CORR.png\",\n",
    "            bbox_inches =\"tight\",\n",
    "            pad_inches = 1,\n",
    "            transparent = True,\n",
    "            orientation ='landscape')"
   ],
   "metadata": {
    "collapsed": false,
    "pycharm": {
     "name": "#%%\n"
    }
   }
  },
  {
   "cell_type": "code",
   "execution_count": 106,
   "outputs": [
    {
     "data": {
      "text/plain": "       SOC2B  SOC2A       AGE7\n0          4      4  (3) 35-44\n1          3      3  (6) 65-74\n2          3      3  (6) 65-74\n3          2      2  (6) 65-74\n4          1      1  (6) 65-74\n...      ...    ...        ...\n25215      3      3  (5) 55-64\n25216      1      2    (7) 75+\n25217      2      2    (7) 75+\n25218      5      5  (6) 65-74\n25219      1      2  (1) 18-24\n\n[24670 rows x 3 columns]",
      "text/html": "<div>\n<style scoped>\n    .dataframe tbody tr th:only-of-type {\n        vertical-align: middle;\n    }\n\n    .dataframe tbody tr th {\n        vertical-align: top;\n    }\n\n    .dataframe thead th {\n        text-align: right;\n    }\n</style>\n<table border=\"1\" class=\"dataframe\">\n  <thead>\n    <tr style=\"text-align: right;\">\n      <th></th>\n      <th>SOC2B</th>\n      <th>SOC2A</th>\n      <th>AGE7</th>\n    </tr>\n  </thead>\n  <tbody>\n    <tr>\n      <th>0</th>\n      <td>4</td>\n      <td>4</td>\n      <td>(3) 35-44</td>\n    </tr>\n    <tr>\n      <th>1</th>\n      <td>3</td>\n      <td>3</td>\n      <td>(6) 65-74</td>\n    </tr>\n    <tr>\n      <th>2</th>\n      <td>3</td>\n      <td>3</td>\n      <td>(6) 65-74</td>\n    </tr>\n    <tr>\n      <th>3</th>\n      <td>2</td>\n      <td>2</td>\n      <td>(6) 65-74</td>\n    </tr>\n    <tr>\n      <th>4</th>\n      <td>1</td>\n      <td>1</td>\n      <td>(6) 65-74</td>\n    </tr>\n    <tr>\n      <th>...</th>\n      <td>...</td>\n      <td>...</td>\n      <td>...</td>\n    </tr>\n    <tr>\n      <th>25215</th>\n      <td>3</td>\n      <td>3</td>\n      <td>(5) 55-64</td>\n    </tr>\n    <tr>\n      <th>25216</th>\n      <td>1</td>\n      <td>2</td>\n      <td>(7) 75+</td>\n    </tr>\n    <tr>\n      <th>25217</th>\n      <td>2</td>\n      <td>2</td>\n      <td>(7) 75+</td>\n    </tr>\n    <tr>\n      <th>25218</th>\n      <td>5</td>\n      <td>5</td>\n      <td>(6) 65-74</td>\n    </tr>\n    <tr>\n      <th>25219</th>\n      <td>1</td>\n      <td>2</td>\n      <td>(1) 18-24</td>\n    </tr>\n  </tbody>\n</table>\n<p>24670 rows × 3 columns</p>\n</div>"
     },
     "execution_count": 106,
     "metadata": {},
     "output_type": "execute_result"
    }
   ],
   "source": [
    "se2_age"
   ],
   "metadata": {
    "collapsed": false,
    "pycharm": {
     "name": "#%%\n"
    }
   }
  },
  {
   "cell_type": "code",
   "execution_count": 58,
   "outputs": [
    {
     "data": {
      "text/plain": "   april_before  april_after  may_before  may_after  june_before  june_after\n0     13.259606    10.990765   13.153193  11.813310    13.305752   13.185640\n1     32.219815    31.581348   33.217954  33.050469    33.951688   34.832510\n2     28.172386    28.810854   27.679768  28.662349    26.865074   27.719205\n3     13.658648    14.376924   13.398839  12.539080    12.651808   12.131323\n4     11.332801    13.156995   11.076373  12.795891    11.584145   11.090351\n5      1.094516     0.889294    1.205895   0.926753     1.427999    0.880822\n6      0.262228     0.182419    0.267977   0.212148     0.213533    0.160149",
      "text/html": "<div>\n<style scoped>\n    .dataframe tbody tr th:only-of-type {\n        vertical-align: middle;\n    }\n\n    .dataframe tbody tr th {\n        vertical-align: top;\n    }\n\n    .dataframe thead th {\n        text-align: right;\n    }\n</style>\n<table border=\"1\" class=\"dataframe\">\n  <thead>\n    <tr style=\"text-align: right;\">\n      <th></th>\n      <th>april_before</th>\n      <th>april_after</th>\n      <th>may_before</th>\n      <th>may_after</th>\n      <th>june_before</th>\n      <th>june_after</th>\n    </tr>\n  </thead>\n  <tbody>\n    <tr>\n      <th>0</th>\n      <td>13.259606</td>\n      <td>10.990765</td>\n      <td>13.153193</td>\n      <td>11.813310</td>\n      <td>13.305752</td>\n      <td>13.185640</td>\n    </tr>\n    <tr>\n      <th>1</th>\n      <td>32.219815</td>\n      <td>31.581348</td>\n      <td>33.217954</td>\n      <td>33.050469</td>\n      <td>33.951688</td>\n      <td>34.832510</td>\n    </tr>\n    <tr>\n      <th>2</th>\n      <td>28.172386</td>\n      <td>28.810854</td>\n      <td>27.679768</td>\n      <td>28.662349</td>\n      <td>26.865074</td>\n      <td>27.719205</td>\n    </tr>\n    <tr>\n      <th>3</th>\n      <td>13.658648</td>\n      <td>14.376924</td>\n      <td>13.398839</td>\n      <td>12.539080</td>\n      <td>12.651808</td>\n      <td>12.131323</td>\n    </tr>\n    <tr>\n      <th>4</th>\n      <td>11.332801</td>\n      <td>13.156995</td>\n      <td>11.076373</td>\n      <td>12.795891</td>\n      <td>11.584145</td>\n      <td>11.090351</td>\n    </tr>\n    <tr>\n      <th>5</th>\n      <td>1.094516</td>\n      <td>0.889294</td>\n      <td>1.205895</td>\n      <td>0.926753</td>\n      <td>1.427999</td>\n      <td>0.880822</td>\n    </tr>\n    <tr>\n      <th>6</th>\n      <td>0.262228</td>\n      <td>0.182419</td>\n      <td>0.267977</td>\n      <td>0.212148</td>\n      <td>0.213533</td>\n      <td>0.160149</td>\n    </tr>\n  </tbody>\n</table>\n</div>"
     },
     "execution_count": 58,
     "metadata": {},
     "output_type": "execute_result"
    }
   ],
   "source": [
    "# SE1 : Changes in Social Relationships Before(SOC2B) and After(SOC2A) Covid Pandemic\n"
   ],
   "metadata": {
    "collapsed": false,
    "pycharm": {
     "name": "#%%\n"
    }
   }
  },
  {
   "cell_type": "code",
   "execution_count": 57,
   "outputs": [
    {
     "data": {
      "text/plain": "<Figure size 720x720 with 1 Axes>",
      "image/png": "[encoded data removed]"
     },
     "metadata": {
      "needs_background": "light"
     },
     "output_type": "display_data"
    }
   ],
   "source": [
    "import matplotlib.pyplot as plt\n",
    "\n",
    "plotdata = pd.DataFrame({\n",
    " \"april_before_pandemic\":data1['april_before'].values,\n",
    "    \"april_survey\":data1['april_after'].values,\n",
    "    \"may_before_pandemic\":data1['may_before'].values,\n",
    "    \"may_survey\":data1['may_after'].values,\n",
    "    \"june_before_pandemic\":data1['june_before'].values,\n",
    "    \"june_survey\":data1['june_after'].values\n",
    "    },\n",
    "    index=data1['unique_values']\n",
    ")\n",
    "color_dict = {'april_before_pandemic':'#90EE90',\n",
    "              'april_survey':'#228B22',\n",
    "              'may_before_pandemic': '#00CED1',\n",
    "              'may_survey': '#1E90FF',\n",
    "              'june_before_pandemic': '#FFB6C1',\n",
    "              'june_survey': '#FF1493',\n",
    "              }\n",
    "plotdata.plot(kind=\"bar\",figsize=(10,10) , color = color_dict)\n",
    "plt.title(\"Social Activity Changes\")\n",
    "plt.xlabel(\"Social Activity\")\n",
    "plt.ylabel(\"Percentage\")\n",
    "# plt.savefig(SE01.png)\n",
    "plt.savefig(\"C:\\python\\SE01-BAR.png\",\n",
    "            bbox_inches =\"tight\",\n",
    "            pad_inches = 1,\n",
    "            transparent = True,\n",
    "            orientation ='landscape')"
   ],
   "metadata": {
    "collapsed": false,
    "pycharm": {
     "name": "#%%\n"
    }
   }
  },
  {
   "cell_type": "code",
   "execution_count": 36,
   "outputs": [
    {
     "name": "stdout",
     "output_type": "stream",
     "text": [
      "Chi-sq Test Statistics = 32905.641 \n",
      "P-Value = 0.000 \n",
      "Degrees of Freedom = 42.000\n"
     ]
    }
   ],
   "source": [
    "\n",
    "import pandas as pd\n",
    "from scipy.stats import chi2_contingency\n",
    "\n",
    "\n",
    "table = pd.crosstab(df['SOC2B'],df['SOC2A'])\n",
    "# print(table)\n",
    "stat, pvalue, dof, expected = chi2_contingency(table)\n",
    "print('Chi-sq Test Statistics = %.3f \\nP-Value = %.3f \\nDegrees of Freedom = %.3f' % (stat, pvalue, dof))"
   ],
   "metadata": {
    "collapsed": false,
    "pycharm": {
     "name": "#%%\n"
    }
   }
  },
  {
   "cell_type": "code",
   "execution_count": null,
   "outputs": [],
   "source": [
    "data1['april_before'].values"
   ],
   "metadata": {
    "collapsed": false,
    "pycharm": {
     "name": "#%%\n",
     "is_executing": true
    }
   }
  },
  {
   "cell_type": "code",
   "execution_count": 35,
   "outputs": [
    {
     "data": {
      "text/plain": "SOC2A                    (1) Basically every day  (2) A few times a week  \\\nSOC2B                                                                      \n(1) Basically every day                     2030                    1011   \n(2) A few times a week                       781                    5678   \n(3) A few times a month                      131                    1166   \n(4) Once a month                              23                     276   \n(5) Not at all                                20                     152   \n(77) Not sure                                 14                      40   \n(98) SKIPPED ON WEB                           11                      17   \n\nSOC2A                    (3) A few times a month  (4) Once a month  \\\nSOC2B                                                                \n(1) Basically every day                      215                33   \n(2) A few times a week                      1445               260   \n(3) A few times a month                     4377               818   \n(4) Once a month                             727              1680   \n(5) Not at all                               329               453   \n(77) Not sure                                 58                44   \n(98) SKIPPED ON WEB                           20                 5   \n\nSOC2A                    (5) Not at all  (77) Not sure  (98) SKIPPED ON WEB  \\\nSOC2B                                                                         \n(1) Basically every day              39              5                    5   \n(2) A few times a week              150             19                   11   \n(3) A few times a month             425             32                   14   \n(4) Once a month                    601             30                    9   \n(5) Not at all                     1853             41                    6   \n(77) Not sure                        56             99                    0   \n(98) SKIPPED ON WEB                   7              1                    2   \n\nSOC2A                    (99) REFUSED  \nSOC2B                                  \n(1) Basically every day             0  \n(2) A few times a week              1  \n(3) A few times a month             0  \n(4) Once a month                    0  \n(5) Not at all                      0  \n(77) Not sure                       0  \n(98) SKIPPED ON WEB                 0  ",
      "text/html": "<div>\n<style scoped>\n    .dataframe tbody tr th:only-of-type {\n        vertical-align: middle;\n    }\n\n    .dataframe tbody tr th {\n        vertical-align: top;\n    }\n\n    .dataframe thead th {\n        text-align: right;\n    }\n</style>\n<table border=\"1\" class=\"dataframe\">\n  <thead>\n    <tr style=\"text-align: right;\">\n      <th>SOC2A</th>\n      <th>(1) Basically every day</th>\n      <th>(2) A few times a week</th>\n      <th>(3) A few times a month</th>\n      <th>(4) Once a month</th>\n      <th>(5) Not at all</th>\n      <th>(77) Not sure</th>\n      <th>(98) SKIPPED ON WEB</th>\n      <th>(99) REFUSED</th>\n    </tr>\n    <tr>\n      <th>SOC2B</th>\n      <th></th>\n      <th></th>\n      <th></th>\n      <th></th>\n      <th></th>\n      <th></th>\n      <th></th>\n      <th></th>\n    </tr>\n  </thead>\n  <tbody>\n    <tr>\n      <th>(1) Basically every day</th>\n      <td>2030</td>\n      <td>1011</td>\n      <td>215</td>\n      <td>33</td>\n      <td>39</td>\n      <td>5</td>\n      <td>5</td>\n      <td>0</td>\n    </tr>\n    <tr>\n      <th>(2) A few times a week</th>\n      <td>781</td>\n      <td>5678</td>\n      <td>1445</td>\n      <td>260</td>\n      <td>150</td>\n      <td>19</td>\n      <td>11</td>\n      <td>1</td>\n    </tr>\n    <tr>\n      <th>(3) A few times a month</th>\n      <td>131</td>\n      <td>1166</td>\n      <td>4377</td>\n      <td>818</td>\n      <td>425</td>\n      <td>32</td>\n      <td>14</td>\n      <td>0</td>\n    </tr>\n    <tr>\n      <th>(4) Once a month</th>\n      <td>23</td>\n      <td>276</td>\n      <td>727</td>\n      <td>1680</td>\n      <td>601</td>\n      <td>30</td>\n      <td>9</td>\n      <td>0</td>\n    </tr>\n    <tr>\n      <th>(5) Not at all</th>\n      <td>20</td>\n      <td>152</td>\n      <td>329</td>\n      <td>453</td>\n      <td>1853</td>\n      <td>41</td>\n      <td>6</td>\n      <td>0</td>\n    </tr>\n    <tr>\n      <th>(77) Not sure</th>\n      <td>14</td>\n      <td>40</td>\n      <td>58</td>\n      <td>44</td>\n      <td>56</td>\n      <td>99</td>\n      <td>0</td>\n      <td>0</td>\n    </tr>\n    <tr>\n      <th>(98) SKIPPED ON WEB</th>\n      <td>11</td>\n      <td>17</td>\n      <td>20</td>\n      <td>5</td>\n      <td>7</td>\n      <td>1</td>\n      <td>2</td>\n      <td>0</td>\n    </tr>\n  </tbody>\n</table>\n</div>"
     },
     "execution_count": 35,
     "metadata": {},
     "output_type": "execute_result"
    }
   ],
   "source": [
    "SE1"
   ],
   "metadata": {
    "collapsed": false,
    "pycharm": {
     "name": "#%%\n"
    }
   }
  },
  {
   "cell_type": "code",
   "execution_count": null,
   "outputs": [],
   "source": [],
   "metadata": {
    "collapsed": false,
    "pycharm": {
     "name": "#%%\n"
    }
   }
  }
 ],
 "metadata": {
  "kernelspec": {
   "display_name": "Python 3",
   "language": "python",
   "name": "python3"
  },
  "language_info": {
   "codemirror_mode": {
    "name": "ipython",
    "version": 2
   },
   "file_extension": ".py",
   "mimetype": "text/x-python",
   "name": "python",
   "nbconvert_exporter": "python",
   "pygments_lexer": "ipython2",
   "version": "2.7.6"
  }
 },
 "nbformat": 4,
 "nbformat_minor": 0
}