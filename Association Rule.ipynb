{
 "cells": [
  {
   "cell_type": "code",
   "execution_count": 104,
   "outputs": [],
   "source": [
    "#converting spss dataset(.sav) into pandas dataframe\n",
    "import pyreadstat\n",
    "df, meta = pyreadstat.read_sav(\"Slovenia_COVID-19&Mental_Health.sav\", apply_value_formats=True,\n",
    "                                formats_as_category=True, formats_as_ordered_category=False)\n",
    "# df\n"
   ],
   "metadata": {
    "collapsed": false,
    "pycharm": {
     "name": "#%%\n"
    }
   }
  },
  {
   "cell_type": "code",
   "execution_count": 105,
   "outputs": [
    {
     "data": {
      "text/plain": "              Sex         Age                          Education  \\\n0    Gender=Woman  Age=Adults                                NaN   \n1    Gender=Woman   Age=Young  Education_Degree=B.Sc. or College   \n2    Gender=Woman  Age=Adults             Education_Degree=M.Sc.   \n3    Gender=Woman   Age=Young             Education_Degree=M.Sc.   \n4    Gender=Woman  Age=Adults             Education_Degree=M.Sc.   \n..            ...         ...                                ...   \n306    Gender=Man  Age=Adults  Education_Degree=B.Sc. or College   \n307  Gender=Woman   Age=Young       Education_Degree=High School   \n308  Gender=Woman  Age=Adults             Education_Degree=M.Sc.   \n309  Gender=Woman  Age=Adults       Education_Degree=High School   \n310  Gender=Woman  Age=Adults       Education_Degree=High School   \n\n                       Income        Residence                   Region  \\\n0                         NaN              NaN                      NaN   \n1           Income_Low=0-365€  Residence=Rural             Region=Drava   \n2      Income_High=1460-1830€  Residence=Rural             Region=Drava   \n3         Income_Low=365-550€  Residence=Rural           Region=Gorizia   \n4     Income_High=above 2200€  Residence=Urban  Region=Central Slovenia   \n..                        ...              ...                      ...   \n306    Income_High=1830-2200€  Residence=Urban             Region=Drava   \n307       Income_Low=550-730€  Residence=Urban             Region=Drava   \n308       Income_Low=365-550€  Residence=Rural           Region=Gorizia   \n309       Income_Low=550-730€  Residence=Rural     Region=Coastal-Carst   \n310  Income_Medium=1100-1280€  Residence=Urban             Region=Drava   \n\n                        Household           Children  \\\n0                             NaN                NaN   \n1            Household=3-6 people  Children=no child   \n2            Household=3-6 people   Children=1 child   \n3    Household=more than 6 people  Children=no child   \n4              Household=1 person  Children=no child   \n..                            ...                ...   \n306            Household=1 person  Children=no child   \n307            Household=2 people  Children=no child   \n308          Household=3-6 people  Children=no child   \n309  Household=more than 6 people   Children=1 child   \n310          Household=3-6 people   Children=1 child   \n\n                    Employment                                   Changes_Work  \\\n0                          NaN                             Changes_Work=Other   \n1           Employment=student                Changes_Work=No Changes at work   \n2     Employment=public sector    Changes_Work=All Time Home & No Home Before   \n3           Employment=student                             Changes_Work=Other   \n4    Employment=private sector    Changes_Work=All Time Home & No Home Before   \n..                         ...                                            ...   \n306   Employment=Self-employed    Changes_Work=All Time Home & No Home Before   \n307      Employment=Unemployed          Changes_Work=Cannot Do Job & No Money   \n308      Employment=Unemployed                             Changes_Work=Other   \n309      Employment=Unemployed                Changes_Work=No Changes at work   \n310      Employment=Unemployed  Changes_Work=Cannot Do Job but received Money   \n\n     ...                                Increased_Risk  \\\n0    ...                                           NaN   \n1    ...  Work_Environment_Increased_Infection_Risk=No   \n2    ...  Work_Environment_Increased_Infection_Risk=No   \n3    ...  Work_Environment_Increased_Infection_Risk=No   \n4    ...                                           NaN   \n..   ...                                           ...   \n306  ...  Work_Environment_Increased_Infection_Risk=No   \n307  ...  Work_Environment_Increased_Infection_Risk=No   \n308  ...  Work_Environment_Increased_Infection_Risk=No   \n309  ...  Work_Environment_Increased_Infection_Risk=No   \n310  ...  Work_Environment_Increased_Infection_Risk=No   \n\n                              Increased_Risk_Household  \\\n0                                                  NaN   \n1                                                  NaN   \n2                                                  NaN   \n3                                                  NaN   \n4    Household_Work_Environment_Increased_Infection...   \n..                                                 ...   \n306  Household_Work_Environment_Increased_Infection...   \n307  Household_Work_Environment_Increased_Infection...   \n308  Household_Work_Environment_Increased_Infection...   \n309  Household_Work_Environment_Increased_Infection...   \n310  Household_Work_Environment_Increased_Infection...   \n\n                        Job_Loss                     Job_Loss_Risk  \\\n0                            NaN                               NaN   \n1     Job_Loss_Due_to_Covid19=No   Job_Loss_Risk_Due_to_Covid19=No   \n2     Job_Loss_Due_to_Covid19=No   Job_Loss_Risk_Due_to_Covid19=No   \n3     Job_Loss_Due_to_Covid19=No   Job_Loss_Risk_Due_to_Covid19=No   \n4     Job_Loss_Due_to_Covid19=No   Job_Loss_Risk_Due_to_Covid19=No   \n..                           ...                               ...   \n306   Job_Loss_Due_to_Covid19=No   Job_Loss_Risk_Due_to_Covid19=No   \n307   Job_Loss_Due_to_Covid19=No  Job_Loss_Risk_Due_to_Covid19=Yes   \n308   Job_Loss_Due_to_Covid19=No   Job_Loss_Risk_Due_to_Covid19=No   \n309   Job_Loss_Due_to_Covid19=No  Job_Loss_Risk_Due_to_Covid19=Yes   \n310  Job_Loss_Due_to_Covid19=Yes  Job_Loss_Risk_Due_to_Covid19=Yes   \n\n                    Vulnerable                 Vulnerable_Closeones  \\\n0    Vulnerable_to_Covid19=Yes  Vulnerable_Closeones_to_Covid19=Yes   \n1    Vulnerable_to_Covid19=Yes  Vulnerable_Closeones_to_Covid19=Yes   \n2     Vulnerable_to_Covid19=No  Vulnerable_Closeones_to_Covid19=Yes   \n3     Vulnerable_to_Covid19=No  Vulnerable_Closeones_to_Covid19=Yes   \n4     Vulnerable_to_Covid19=No  Vulnerable_Closeones_to_Covid19=Yes   \n..                         ...                                  ...   \n306   Vulnerable_to_Covid19=No   Vulnerable_Closeones_to_Covid19=No   \n307   Vulnerable_to_Covid19=No   Vulnerable_Closeones_to_Covid19=No   \n308   Vulnerable_to_Covid19=No   Vulnerable_Closeones_to_Covid19=No   \n309   Vulnerable_to_Covid19=No  Vulnerable_Closeones_to_Covid19=Yes   \n310   Vulnerable_to_Covid19=No   Vulnerable_Closeones_to_Covid19=No   \n\n                          Infection     Infection_Signs  \\\n0    Confirmed_Covid19_Infection=No  Infection_Signs=No   \n1    Confirmed_Covid19_Infection=No  Infection_Signs=No   \n2    Confirmed_Covid19_Infection=No  Infection_Signs=No   \n3    Confirmed_Covid19_Infection=No  Infection_Signs=No   \n4    Confirmed_Covid19_Infection=No  Infection_Signs=No   \n..                              ...                 ...   \n306  Confirmed_Covid19_Infection=No  Infection_Signs=No   \n307  Confirmed_Covid19_Infection=No  Infection_Signs=No   \n308  Confirmed_Covid19_Infection=No  Infection_Signs=No   \n309  Confirmed_Covid19_Infection=No  Infection_Signs=No   \n310  Confirmed_Covid19_Infection=No  Infection_Signs=No   \n\n         Infection_Probability             Fear_Level  \n0     Infection_Probability=No  Fear_Level=Low(0-20%)  \n1     Infection_Probability=No  Fear_Level=Low(0-20%)  \n2     Infection_Probability=No  Fear_Level=Low(0-20%)  \n3     Infection_Probability=No  Fear_Level=Low(0-20%)  \n4    Infection_Probability=Yes  Fear_Level=Low(0-20%)  \n..                         ...                    ...  \n306   Infection_Probability=No  Fear_Level=Low(0-20%)  \n307   Infection_Probability=No  Fear_Level=Low(0-20%)  \n308   Infection_Probability=No  Fear_Level=Low(0-20%)  \n309   Infection_Probability=No  Fear_Level=Low(0-20%)  \n310   Infection_Probability=No  Fear_Level=Low(0-20%)  \n\n[311 rows x 22 columns]",
      "text/html": "<div>\n<style scoped>\n    .dataframe tbody tr th:only-of-type {\n        vertical-align: middle;\n    }\n\n    .dataframe tbody tr th {\n        vertical-align: top;\n    }\n\n    .dataframe thead th {\n        text-align: right;\n    }\n</style>\n<table border=\"1\" class=\"dataframe\">\n  <thead>\n    <tr style=\"text-align: right;\">\n      <th></th>\n      <th>Sex</th>\n      <th>Age</th>\n      <th>Education</th>\n      <th>Income</th>\n      <th>Residence</th>\n      <th>Region</th>\n      <th>Household</th>\n      <th>Children</th>\n      <th>Employment</th>\n      <th>Changes_Work</th>\n      <th>...</th>\n      <th>Increased_Risk</th>\n      <th>Increased_Risk_Household</th>\n      <th>Job_Loss</th>\n      <th>Job_Loss_Risk</th>\n      <th>Vulnerable</th>\n      <th>Vulnerable_Closeones</th>\n      <th>Infection</th>\n      <th>Infection_Signs</th>\n      <th>Infection_Probability</th>\n      <th>Fear_Level</th>\n    </tr>\n  </thead>\n  <tbody>\n    <tr>\n      <th>0</th>\n      <td>Gender=Woman</td>\n      <td>Age=Adults</td>\n      <td>NaN</td>\n      <td>NaN</td>\n      <td>NaN</td>\n      <td>NaN</td>\n      <td>NaN</td>\n      <td>NaN</td>\n      <td>NaN</td>\n      <td>Changes_Work=Other</td>\n      <td>...</td>\n      <td>NaN</td>\n      <td>NaN</td>\n      <td>NaN</td>\n      <td>NaN</td>\n      <td>Vulnerable_to_Covid19=Yes</td>\n      <td>Vulnerable_Closeones_to_Covid19=Yes</td>\n      <td>Confirmed_Covid19_Infection=No</td>\n      <td>Infection_Signs=No</td>\n      <td>Infection_Probability=No</td>\n      <td>Fear_Level=Low(0-20%)</td>\n    </tr>\n    <tr>\n      <th>1</th>\n      <td>Gender=Woman</td>\n      <td>Age=Young</td>\n      <td>Education_Degree=B.Sc. or College</td>\n      <td>Income_Low=0-365€</td>\n      <td>Residence=Rural</td>\n      <td>Region=Drava</td>\n      <td>Household=3-6 people</td>\n      <td>Children=no child</td>\n      <td>Employment=student</td>\n      <td>Changes_Work=No Changes at work</td>\n      <td>...</td>\n      <td>Work_Environment_Increased_Infection_Risk=No</td>\n      <td>NaN</td>\n      <td>Job_Loss_Due_to_Covid19=No</td>\n      <td>Job_Loss_Risk_Due_to_Covid19=No</td>\n      <td>Vulnerable_to_Covid19=Yes</td>\n      <td>Vulnerable_Closeones_to_Covid19=Yes</td>\n      <td>Confirmed_Covid19_Infection=No</td>\n      <td>Infection_Signs=No</td>\n      <td>Infection_Probability=No</td>\n      <td>Fear_Level=Low(0-20%)</td>\n    </tr>\n    <tr>\n      <th>2</th>\n      <td>Gender=Woman</td>\n      <td>Age=Adults</td>\n      <td>Education_Degree=M.Sc.</td>\n      <td>Income_High=1460-1830€</td>\n      <td>Residence=Rural</td>\n      <td>Region=Drava</td>\n      <td>Household=3-6 people</td>\n      <td>Children=1 child</td>\n      <td>Employment=public sector</td>\n      <td>Changes_Work=All Time Home &amp; No Home Before</td>\n      <td>...</td>\n      <td>Work_Environment_Increased_Infection_Risk=No</td>\n      <td>NaN</td>\n      <td>Job_Loss_Due_to_Covid19=No</td>\n      <td>Job_Loss_Risk_Due_to_Covid19=No</td>\n      <td>Vulnerable_to_Covid19=No</td>\n      <td>Vulnerable_Closeones_to_Covid19=Yes</td>\n      <td>Confirmed_Covid19_Infection=No</td>\n      <td>Infection_Signs=No</td>\n      <td>Infection_Probability=No</td>\n      <td>Fear_Level=Low(0-20%)</td>\n    </tr>\n    <tr>\n      <th>3</th>\n      <td>Gender=Woman</td>\n      <td>Age=Young</td>\n      <td>Education_Degree=M.Sc.</td>\n      <td>Income_Low=365-550€</td>\n      <td>Residence=Rural</td>\n      <td>Region=Gorizia</td>\n      <td>Household=more than 6 people</td>\n      <td>Children=no child</td>\n      <td>Employment=student</td>\n      <td>Changes_Work=Other</td>\n      <td>...</td>\n      <td>Work_Environment_Increased_Infection_Risk=No</td>\n      <td>NaN</td>\n      <td>Job_Loss_Due_to_Covid19=No</td>\n      <td>Job_Loss_Risk_Due_to_Covid19=No</td>\n      <td>Vulnerable_to_Covid19=No</td>\n      <td>Vulnerable_Closeones_to_Covid19=Yes</td>\n      <td>Confirmed_Covid19_Infection=No</td>\n      <td>Infection_Signs=No</td>\n      <td>Infection_Probability=No</td>\n      <td>Fear_Level=Low(0-20%)</td>\n    </tr>\n    <tr>\n      <th>4</th>\n      <td>Gender=Woman</td>\n      <td>Age=Adults</td>\n      <td>Education_Degree=M.Sc.</td>\n      <td>Income_High=above 2200€</td>\n      <td>Residence=Urban</td>\n      <td>Region=Central Slovenia</td>\n      <td>Household=1 person</td>\n      <td>Children=no child</td>\n      <td>Employment=private sector</td>\n      <td>Changes_Work=All Time Home &amp; No Home Before</td>\n      <td>...</td>\n      <td>NaN</td>\n      <td>Household_Work_Environment_Increased_Infection...</td>\n      <td>Job_Loss_Due_to_Covid19=No</td>\n      <td>Job_Loss_Risk_Due_to_Covid19=No</td>\n      <td>Vulnerable_to_Covid19=No</td>\n      <td>Vulnerable_Closeones_to_Covid19=Yes</td>\n      <td>Confirmed_Covid19_Infection=No</td>\n      <td>Infection_Signs=No</td>\n      <td>Infection_Probability=Yes</td>\n      <td>Fear_Level=Low(0-20%)</td>\n    </tr>\n    <tr>\n      <th>...</th>\n      <td>...</td>\n      <td>...</td>\n      <td>...</td>\n      <td>...</td>\n      <td>...</td>\n      <td>...</td>\n      <td>...</td>\n      <td>...</td>\n      <td>...</td>\n      <td>...</td>\n      <td>...</td>\n      <td>...</td>\n      <td>...</td>\n      <td>...</td>\n      <td>...</td>\n      <td>...</td>\n      <td>...</td>\n      <td>...</td>\n      <td>...</td>\n      <td>...</td>\n      <td>...</td>\n    </tr>\n    <tr>\n      <th>306</th>\n      <td>Gender=Man</td>\n      <td>Age=Adults</td>\n      <td>Education_Degree=B.Sc. or College</td>\n      <td>Income_High=1830-2200€</td>\n      <td>Residence=Urban</td>\n      <td>Region=Drava</td>\n      <td>Household=1 person</td>\n      <td>Children=no child</td>\n      <td>Employment=Self-employed</td>\n      <td>Changes_Work=All Time Home &amp; No Home Before</td>\n      <td>...</td>\n      <td>Work_Environment_Increased_Infection_Risk=No</td>\n      <td>Household_Work_Environment_Increased_Infection...</td>\n      <td>Job_Loss_Due_to_Covid19=No</td>\n      <td>Job_Loss_Risk_Due_to_Covid19=No</td>\n      <td>Vulnerable_to_Covid19=No</td>\n      <td>Vulnerable_Closeones_to_Covid19=No</td>\n      <td>Confirmed_Covid19_Infection=No</td>\n      <td>Infection_Signs=No</td>\n      <td>Infection_Probability=No</td>\n      <td>Fear_Level=Low(0-20%)</td>\n    </tr>\n    <tr>\n      <th>307</th>\n      <td>Gender=Woman</td>\n      <td>Age=Young</td>\n      <td>Education_Degree=High School</td>\n      <td>Income_Low=550-730€</td>\n      <td>Residence=Urban</td>\n      <td>Region=Drava</td>\n      <td>Household=2 people</td>\n      <td>Children=no child</td>\n      <td>Employment=Unemployed</td>\n      <td>Changes_Work=Cannot Do Job &amp; No Money</td>\n      <td>...</td>\n      <td>Work_Environment_Increased_Infection_Risk=No</td>\n      <td>Household_Work_Environment_Increased_Infection...</td>\n      <td>Job_Loss_Due_to_Covid19=No</td>\n      <td>Job_Loss_Risk_Due_to_Covid19=Yes</td>\n      <td>Vulnerable_to_Covid19=No</td>\n      <td>Vulnerable_Closeones_to_Covid19=No</td>\n      <td>Confirmed_Covid19_Infection=No</td>\n      <td>Infection_Signs=No</td>\n      <td>Infection_Probability=No</td>\n      <td>Fear_Level=Low(0-20%)</td>\n    </tr>\n    <tr>\n      <th>308</th>\n      <td>Gender=Woman</td>\n      <td>Age=Adults</td>\n      <td>Education_Degree=M.Sc.</td>\n      <td>Income_Low=365-550€</td>\n      <td>Residence=Rural</td>\n      <td>Region=Gorizia</td>\n      <td>Household=3-6 people</td>\n      <td>Children=no child</td>\n      <td>Employment=Unemployed</td>\n      <td>Changes_Work=Other</td>\n      <td>...</td>\n      <td>Work_Environment_Increased_Infection_Risk=No</td>\n      <td>Household_Work_Environment_Increased_Infection...</td>\n      <td>Job_Loss_Due_to_Covid19=No</td>\n      <td>Job_Loss_Risk_Due_to_Covid19=No</td>\n      <td>Vulnerable_to_Covid19=No</td>\n      <td>Vulnerable_Closeones_to_Covid19=No</td>\n      <td>Confirmed_Covid19_Infection=No</td>\n      <td>Infection_Signs=No</td>\n      <td>Infection_Probability=No</td>\n      <td>Fear_Level=Low(0-20%)</td>\n    </tr>\n    <tr>\n      <th>309</th>\n      <td>Gender=Woman</td>\n      <td>Age=Adults</td>\n      <td>Education_Degree=High School</td>\n      <td>Income_Low=550-730€</td>\n      <td>Residence=Rural</td>\n      <td>Region=Coastal-Carst</td>\n      <td>Household=more than 6 people</td>\n      <td>Children=1 child</td>\n      <td>Employment=Unemployed</td>\n      <td>Changes_Work=No Changes at work</td>\n      <td>...</td>\n      <td>Work_Environment_Increased_Infection_Risk=No</td>\n      <td>Household_Work_Environment_Increased_Infection...</td>\n      <td>Job_Loss_Due_to_Covid19=No</td>\n      <td>Job_Loss_Risk_Due_to_Covid19=Yes</td>\n      <td>Vulnerable_to_Covid19=No</td>\n      <td>Vulnerable_Closeones_to_Covid19=Yes</td>\n      <td>Confirmed_Covid19_Infection=No</td>\n      <td>Infection_Signs=No</td>\n      <td>Infection_Probability=No</td>\n      <td>Fear_Level=Low(0-20%)</td>\n    </tr>\n    <tr>\n      <th>310</th>\n      <td>Gender=Woman</td>\n      <td>Age=Adults</td>\n      <td>Education_Degree=High School</td>\n      <td>Income_Medium=1100-1280€</td>\n      <td>Residence=Urban</td>\n      <td>Region=Drava</td>\n      <td>Household=3-6 people</td>\n      <td>Children=1 child</td>\n      <td>Employment=Unemployed</td>\n      <td>Changes_Work=Cannot Do Job but received Money</td>\n      <td>...</td>\n      <td>Work_Environment_Increased_Infection_Risk=No</td>\n      <td>Household_Work_Environment_Increased_Infection...</td>\n      <td>Job_Loss_Due_to_Covid19=Yes</td>\n      <td>Job_Loss_Risk_Due_to_Covid19=Yes</td>\n      <td>Vulnerable_to_Covid19=No</td>\n      <td>Vulnerable_Closeones_to_Covid19=No</td>\n      <td>Confirmed_Covid19_Infection=No</td>\n      <td>Infection_Signs=No</td>\n      <td>Infection_Probability=No</td>\n      <td>Fear_Level=Low(0-20%)</td>\n    </tr>\n  </tbody>\n</table>\n<p>311 rows × 22 columns</p>\n</div>"
     },
     "execution_count": 105,
     "metadata": {},
     "output_type": "execute_result"
    }
   ],
   "source": [
    "#preparing Sex\n",
    "df['Sex'].replace(to_replace=['Woman', 'Man' , 'Other'],\n",
    "           value= ['Gender=Woman', 'Gender=Man' , 'Gender=Other'],\n",
    "           inplace=True)\n",
    "df['Sex'].value_counts()\n",
    "# df.loc[df['Sex'] == 'Other']\n",
    "\n",
    "\n",
    "#preparing Sex_Other\n",
    "del df['Sex_Other']\n",
    "\n",
    "#preparing Age\n",
    "#discretizing continuous numeric variable of Age into 4 categories\n",
    "#new labels are: 0-14 as Child , 14-24 as Young , 24-64 as Adults , 64-100 as Senior\n",
    "import pandas as pd\n",
    "# df[df.columns[2:]].map({0:False, 1:True})\n",
    "# # # # sex_to_boolean = {'True' : 0 , 'False' : 1 }\n",
    "# # # # df['Sex'] = df['Sex'].map(sex_to_boolean)\n",
    "df['binned']=pd.cut(x=df['Age'], bins=[0,14,24,64,100])\n",
    "age_category = ['Age=Child', 'Age=Young', 'Age=Adults', 'Age=Senior']\n",
    "df['Age']=pd.cut(x=df['Age'], bins=[0,14,24,64,100],labels=age_category)\n",
    "\n",
    "\n",
    "#preparing education\n",
    "df['Education'].replace(to_replace=['Masters degree', 'Technical, vocational or high school degree' , 'College or bachelors degree' , 'Doctoral degree' , 'Masters degree (pre-Bolognia Process Resolution)' , 'Elementary school'],\n",
    "           value= ['Education_Degree=M.Sc.', 'Education_Degree=High School' , 'Education_Degree=B.Sc. or College' , 'Education_Degree=Ph.D', 'Education_Degree=M.Sc. pre-Bolognia' , 'Education_Degree=Elementary School'],\n",
    "           inplace=True)\n",
    "# df['Education'].value_counts()\n",
    "\n",
    "#preparing Income\n",
    "df['Income'].replace(to_replace=['0 - 365 €', '920 - 1100 €' , '1100 - 1280 €' , '1280 - 1460 €' , '1460 - 1830 €' , '365 - 550 €' , '730 - 920 €' , '550 - 730 €' , '1830 - 2200 €' , 'nad 2200 €'],\n",
    "           value= ['Income_Low=0-365€', 'Income_Medium=920-1100€' , 'Income_Medium=1100-1280€' , 'Income_High=1280-1460€', 'Income_High=1460-1830€' , 'Income_Low=365-550€' , 'Income_Medium=730-920€' , 'Income_Low=550-730€' , 'Income_High=1830-2200€' , 'Income_High=above 2200€' ],\n",
    "           inplace=True)\n",
    "df['Income'].value_counts()\n",
    "\n",
    "#preparing Residence\n",
    "df['Residence'].replace(to_replace=['Urban', 'Rural'],\n",
    "           value= ['Residence=Urban', 'Residence=Rural'],\n",
    "           inplace=True)\n",
    "# df['Residence'].value_counts()\n",
    "\n",
    "#preparing Region\n",
    "df['Region'].replace(to_replace=['Central Slovenia', 'Coastal-Carst' , 'Drava' , 'Littoral–Inner Carniola' , 'Lower Sava' , 'Gorizia' , 'Savinja' , 'Mura' , 'Carinthia' , 'Southeast Slovenia' , 'Central Sava'],\n",
    "           value= ['Region=Central Slovenia', 'Region=Coastal-Carst' , 'Region=Drava' , 'Region=Littoral–Inner Carniola' , 'Region=Lower Sava' , 'Region=Gorizia' , 'Region=Savinja' , 'Region=Mura' , 'Region=Carinthia' , 'Region=Southeast Slovenia' , 'Region=Central Sava'],\n",
    "           inplace=True)\n",
    "# df['Region'].value_counts()\n",
    "\n",
    "\n",
    "#preparing Household\n",
    "Household_category = ['Household=1 person', 'Household=2 people', 'Household=3-6 people', 'Household=more than 6 people']\n",
    "df['Household']=pd.cut(x=df['Household'], bins=[0, 1, 2, 6, 100],labels=Household_category)\n",
    "\n",
    "#preparing Children\n",
    "Children_category = ['Children=no child', 'Children=1 child', 'Children=2 or 3 childs', 'Children=more than 3 childs']\n",
    "df['Children']=pd.cut(x=df['Children'], bins=[-1,0, 1, 3, 100],labels=Children_category)\n",
    "# df['Children'].value_counts()\n",
    "\n",
    "#preparing Employment\n",
    "df['Employment'].replace(to_replace=['Emplyed in public sector', 'Working student' , 'Employed in private sector' , 'Self-employed' , 'Unemployed' , 'Retired'],\n",
    "           value= ['Employment=public sector', 'Employment=student' , 'Employment=private sector' , 'Employment=Self-employed' , 'Employment=Unemployed' , 'Employment=Retired'],\n",
    "           inplace=True)\n",
    "# df['Employment'].value_counts()\n",
    "\n",
    "#preparing Employment_Other\n",
    "del df['Employment_Other']\n",
    "\n",
    "#preparing Changes_Work\n",
    "df['Changes_Work'].replace(to_replace=['I work from home all the time and I (almost) never worked from home before', 'I partialy worked from home before, now I work from home all the time' , 'I cannot do my job due to Covid-19 and I am not recieving any monetary compensation' , 'I did not undergo any substantial changes regarding my work' , 'Other' , 'I cannot do my job due to Covid-19 and I am recieving monetary compensation' , 'I partially work from home and I (almost) never worked from home before' , 'I work in the spaces of my organisation, but in a different location'],\n",
    "           value= ['Changes_Work=All Time Home & No Home Before', 'Changes_Work=All Time Home & Partialy Home Before' , 'Changes_Work=Cannot Do Job & No Money' , 'Changes_Work=No Changes at work' , 'Changes_Work=Other' , 'Changes_Work=Cannot Do Job but received Money' , 'Changes_Work=Partialy Home & No Home Before','Changes_Work=Change the place of work'],\n",
    "           inplace=True)\n",
    "\n",
    "# df['Changes_Work'].value_counts()\n",
    "\n",
    "#preparing Changes_Work_Other\n",
    "del df['Changes_Work_Other']\n",
    "\n",
    "#preparing Share_Wage\n",
    "Share_Wage_category = ['Share_Wage=Low(0-20%)', 'Share_Wage=Medium(20-50%)', 'Share_Wage=High(50-100%']\n",
    "df['Share_Wage']=pd.cut(x=df['Share_Wage'], bins=[-1,20, 50, 100],labels=Share_Wage_category)\n",
    "# df['Share_Wage'].value_counts()\n",
    "\n",
    "#preparing Work_Quantity\n",
    "df['Work_Quantity'].replace(to_replace=['I am working less than before', 'I did not notice any changes regarding the quantity of my work' , 'I am working more than before'],\n",
    "           value= ['Work_Quantity=Work less than before', 'Work_Quantity=Work same as before' , 'Work_Quantity=Work more than before'],\n",
    "           inplace=True)\n",
    "# df['Work_Quantity'].value_counts()\n",
    "\n",
    "#preparing Yes No\n",
    "df['Increased_Risk'].replace(to_replace=['Yes' , 'No'],\n",
    "           value= ['Work_Environment_Increased_Infection_Risk=Yes', 'Work_Environment_Increased_Infection_Risk=No'],\n",
    "           inplace=True)\n",
    "\n",
    "df['Increased_Risk_Household'].replace(to_replace=['Yes' , 'No'],\n",
    "           value= ['Household_Work_Environment_Increased_Infection_Risk=Yes', 'Household_Work_Environment_Increased_Infection_Risk=No'],\n",
    "           inplace=True)\n",
    "\n",
    "df['Job_Loss'].replace(to_replace=['Yes' , 'No'],\n",
    "           value= ['Job_Loss_Due_to_Covid19=Yes', 'Job_Loss_Due_to_Covid19=No'],\n",
    "           inplace=True)\n",
    "\n",
    "df['Job_Loss_Risk'].replace(to_replace=['Yes' , 'No'],\n",
    "           value= ['Job_Loss_Risk_Due_to_Covid19=Yes', 'Job_Loss_Risk_Due_to_Covid19=No'],\n",
    "           inplace=True)\n",
    "\n",
    "df['Vulnerable'].replace(to_replace=['Yes' , 'No'],\n",
    "           value= ['Vulnerable_to_Covid19=Yes', 'Vulnerable_to_Covid19=No'],\n",
    "           inplace=True)\n",
    "\n",
    "df['Vulnerable_Closeones'].replace(to_replace=['Yes' , 'No'],\n",
    "           value= ['Vulnerable_Closeones_to_Covid19=Yes', 'Vulnerable_Closeones_to_Covid19=No'],\n",
    "           inplace=True)\n",
    "\n",
    "df['Infection'].replace(to_replace=['Yes' , 'No'],\n",
    "           value= ['Confirmed_Covid19_Infection=Yes', 'Confirmed_Covid19_Infection=No'],\n",
    "           inplace=True)\n",
    "\n",
    "df['Infection_Signs'].replace(to_replace=['Yes' , 'No'],\n",
    "           value= ['Infection_Signs=Yes', 'Infection_Signs=No'],\n",
    "           inplace=True)\n",
    "\n",
    "df['Infection_Probability'].replace(to_replace=['Yes' , 'No'],\n",
    "           value= ['Infection_Probability=Yes', 'Infection_Probability=No'],\n",
    "           inplace=True)\n",
    "\n",
    "#preparing Fear_Level\n",
    "Fear_Level_category = ['Fear_Level=Low(0-20%)', 'Fear_Level=Medium(20-50%)', 'Fear_Level=High(50-100%']\n",
    "df['Fear_Level']=pd.cut(x=df['Fear_Level'], bins=[-1,20, 50, 100],labels=Fear_Level_category)\n",
    "# df['Share_Wage'].value_counts()\n",
    "\n",
    "# df.drop(columns=['News_Following', 'Media_channel_Other'], inplace=True)\n",
    "# df.drop(df.columns['News_Following':'Media_channel_Other'], axis=1, inplace=True)\n",
    "df.drop(columns=df.columns[22:], inplace=True)\n",
    "\n",
    "df\n"
   ],
   "metadata": {
    "collapsed": false,
    "pycharm": {
     "name": "#%%\n"
    }
   }
  },
  {
   "cell_type": "code",
   "execution_count": 108,
   "outputs": [],
   "source": [
    "from mlxtend.preprocessing import TransactionEncoder\n",
    "\n",
    "dataset =  df.T.apply(lambda x: x.dropna().tolist()).tolist()\n",
    "te = TransactionEncoder()\n",
    "te_ary=te.fit(dataset).transform(dataset)\n",
    "df = pd.DataFrame(te_ary, columns=te.columns_)\n",
    "# df"
   ],
   "metadata": {
    "collapsed": false,
    "pycharm": {
     "name": "#%%\n"
    }
   }
  },
  {
   "cell_type": "code",
   "execution_count": 109,
   "outputs": [
    {
     "data": {
      "text/plain": "      support                                           itemsets\n0    0.733119                                       (Age=Adults)\n1    0.601286                                (Children=no child)\n2    0.993569                   (Confirmed_Covid19_Infection=No)\n3    0.864952                            (Fear_Level=Low(0-20%))\n4    0.832797                                     (Gender=Woman)\n..        ...                                                ...\n129  0.623794  (Confirmed_Covid19_Infection=No, Fear_Level=Lo...\n130  0.649518  (Confirmed_Covid19_Infection=No, Fear_Level=Lo...\n131  0.639871  (Confirmed_Covid19_Infection=No, Fear_Level=Lo...\n132  0.601286  (Confirmed_Covid19_Infection=No, Gender=Woman,...\n133  0.662379  (Confirmed_Covid19_Infection=No, Vulnerable_to...\n\n[134 rows x 2 columns]",
      "text/html": "<div>\n<style scoped>\n    .dataframe tbody tr th:only-of-type {\n        vertical-align: middle;\n    }\n\n    .dataframe tbody tr th {\n        vertical-align: top;\n    }\n\n    .dataframe thead th {\n        text-align: right;\n    }\n</style>\n<table border=\"1\" class=\"dataframe\">\n  <thead>\n    <tr style=\"text-align: right;\">\n      <th></th>\n      <th>support</th>\n      <th>itemsets</th>\n    </tr>\n  </thead>\n  <tbody>\n    <tr>\n      <th>0</th>\n      <td>0.733119</td>\n      <td>(Age=Adults)</td>\n    </tr>\n    <tr>\n      <th>1</th>\n      <td>0.601286</td>\n      <td>(Children=no child)</td>\n    </tr>\n    <tr>\n      <th>2</th>\n      <td>0.993569</td>\n      <td>(Confirmed_Covid19_Infection=No)</td>\n    </tr>\n    <tr>\n      <th>3</th>\n      <td>0.864952</td>\n      <td>(Fear_Level=Low(0-20%))</td>\n    </tr>\n    <tr>\n      <th>4</th>\n      <td>0.832797</td>\n      <td>(Gender=Woman)</td>\n    </tr>\n    <tr>\n      <th>...</th>\n      <td>...</td>\n      <td>...</td>\n    </tr>\n    <tr>\n      <th>129</th>\n      <td>0.623794</td>\n      <td>(Confirmed_Covid19_Infection=No, Fear_Level=Lo...</td>\n    </tr>\n    <tr>\n      <th>130</th>\n      <td>0.649518</td>\n      <td>(Confirmed_Covid19_Infection=No, Fear_Level=Lo...</td>\n    </tr>\n    <tr>\n      <th>131</th>\n      <td>0.639871</td>\n      <td>(Confirmed_Covid19_Infection=No, Fear_Level=Lo...</td>\n    </tr>\n    <tr>\n      <th>132</th>\n      <td>0.601286</td>\n      <td>(Confirmed_Covid19_Infection=No, Gender=Woman,...</td>\n    </tr>\n    <tr>\n      <th>133</th>\n      <td>0.662379</td>\n      <td>(Confirmed_Covid19_Infection=No, Vulnerable_to...</td>\n    </tr>\n  </tbody>\n</table>\n<p>134 rows × 2 columns</p>\n</div>"
     },
     "execution_count": 109,
     "metadata": {},
     "output_type": "execute_result"
    }
   ],
   "source": [
    "#finding frequent itemsets using apriori\n",
    "from mlxtend.frequent_patterns import apriori\n",
    "\n",
    "frequent_itemsets = apriori(df , min_support=0.6 , use_colnames=True)\n",
    "frequent_itemsets"
   ],
   "metadata": {
    "collapsed": false,
    "pycharm": {
     "name": "#%%\n"
    }
   }
  },
  {
   "cell_type": "code",
   "execution_count": 112,
   "outputs": [
    {
     "ename": "ValueError",
     "evalue": "The system \"%s\" is not supported.",
     "output_type": "error",
     "traceback": [
      "\u001B[1;31m---------------------------------------------------------------------------\u001B[0m",
      "\u001B[1;31mValueError\u001B[0m                                Traceback (most recent call last)",
      "Input \u001B[1;32mIn [112]\u001B[0m, in \u001B[0;36m<cell line: 1>\u001B[1;34m()\u001B[0m\n\u001B[1;32m----> 1\u001B[0m \u001B[38;5;28;01mfrom\u001B[39;00m \u001B[38;5;21;01mrpy2\u001B[39;00m\u001B[38;5;21;01m.\u001B[39;00m\u001B[38;5;21;01mrobjects\u001B[39;00m \u001B[38;5;28;01mimport\u001B[39;00m pandas2ri\n\u001B[0;32m      2\u001B[0m pandas2ri\u001B[38;5;241m.\u001B[39mactivate()\n\u001B[0;32m      4\u001B[0m \u001B[38;5;28;01mimport\u001B[39;00m \u001B[38;5;21;01mrpy2\u001B[39;00m\u001B[38;5;21;01m.\u001B[39;00m\u001B[38;5;21;01mrobjects\u001B[39;00m \u001B[38;5;28;01mas\u001B[39;00m \u001B[38;5;21;01mro\u001B[39;00m\n",
      "File \u001B[1;32mc:\\users\\meisamasgri\\dropbox\\git\\covid19andmentalhealth\\venv\\lib\\site-packages\\rpy2\\robjects\\__init__.py:14\u001B[0m, in \u001B[0;36m<module>\u001B[1;34m\u001B[0m\n\u001B[0;32m     12\u001B[0m \u001B[38;5;28;01mimport\u001B[39;00m \u001B[38;5;21;01mtypes\u001B[39;00m\n\u001B[0;32m     13\u001B[0m \u001B[38;5;28;01mimport\u001B[39;00m \u001B[38;5;21;01marray\u001B[39;00m\n\u001B[1;32m---> 14\u001B[0m \u001B[38;5;28;01mimport\u001B[39;00m \u001B[38;5;21;01mrpy2\u001B[39;00m\u001B[38;5;21;01m.\u001B[39;00m\u001B[38;5;21;01mrinterface\u001B[39;00m \u001B[38;5;28;01mas\u001B[39;00m \u001B[38;5;21;01mrinterface\u001B[39;00m\n\u001B[0;32m     15\u001B[0m \u001B[38;5;28;01mimport\u001B[39;00m \u001B[38;5;21;01mrpy2\u001B[39;00m\u001B[38;5;21;01m.\u001B[39;00m\u001B[38;5;21;01mrlike\u001B[39;00m\u001B[38;5;21;01m.\u001B[39;00m\u001B[38;5;21;01mcontainer\u001B[39;00m \u001B[38;5;28;01mas\u001B[39;00m \u001B[38;5;21;01mrlc\u001B[39;00m\n\u001B[0;32m     17\u001B[0m \u001B[38;5;28;01mfrom\u001B[39;00m \u001B[38;5;21;01mrpy2\u001B[39;00m\u001B[38;5;21;01m.\u001B[39;00m\u001B[38;5;21;01mrobjects\u001B[39;00m\u001B[38;5;21;01m.\u001B[39;00m\u001B[38;5;21;01mrobject\u001B[39;00m \u001B[38;5;28;01mimport\u001B[39;00m RObjectMixin, RObject\n",
      "File \u001B[1;32mc:\\users\\meisamasgri\\dropbox\\git\\covid19andmentalhealth\\venv\\lib\\site-packages\\rpy2\\rinterface.py:6\u001B[0m, in \u001B[0;36m<module>\u001B[1;34m\u001B[0m\n\u001B[0;32m      4\u001B[0m \u001B[38;5;28;01mimport\u001B[39;00m \u001B[38;5;21;01mmath\u001B[39;00m\n\u001B[0;32m      5\u001B[0m \u001B[38;5;28;01mimport\u001B[39;00m \u001B[38;5;21;01mtyping\u001B[39;00m\n\u001B[1;32m----> 6\u001B[0m \u001B[38;5;28;01mfrom\u001B[39;00m \u001B[38;5;21;01mrpy2\u001B[39;00m\u001B[38;5;21;01m.\u001B[39;00m\u001B[38;5;21;01mrinterface_lib\u001B[39;00m \u001B[38;5;28;01mimport\u001B[39;00m openrlib\n\u001B[0;32m      7\u001B[0m \u001B[38;5;28;01mimport\u001B[39;00m \u001B[38;5;21;01mrpy2\u001B[39;00m\u001B[38;5;21;01m.\u001B[39;00m\u001B[38;5;21;01mrinterface_lib\u001B[39;00m\u001B[38;5;21;01m.\u001B[39;00m\u001B[38;5;21;01m_rinterface_capi\u001B[39;00m \u001B[38;5;28;01mas\u001B[39;00m \u001B[38;5;21;01m_rinterface\u001B[39;00m\n\u001B[0;32m      8\u001B[0m \u001B[38;5;28;01mimport\u001B[39;00m \u001B[38;5;21;01mrpy2\u001B[39;00m\u001B[38;5;21;01m.\u001B[39;00m\u001B[38;5;21;01mrinterface_lib\u001B[39;00m\u001B[38;5;21;01m.\u001B[39;00m\u001B[38;5;21;01membedded\u001B[39;00m \u001B[38;5;28;01mas\u001B[39;00m \u001B[38;5;21;01membedded\u001B[39;00m\n",
      "File \u001B[1;32mc:\\users\\meisamasgri\\dropbox\\git\\covid19andmentalhealth\\venv\\lib\\site-packages\\rpy2\\rinterface_lib\\openrlib.py:23\u001B[0m, in \u001B[0;36m<module>\u001B[1;34m\u001B[0m\n\u001B[0;32m     19\u001B[0m     rlib \u001B[38;5;241m=\u001B[39m ffi\u001B[38;5;241m.\u001B[39mdlopen(lib_path)\n\u001B[0;32m     20\u001B[0m     \u001B[38;5;28;01mreturn\u001B[39;00m rlib\n\u001B[1;32m---> 23\u001B[0m rlib \u001B[38;5;241m=\u001B[39m \u001B[43m_dlopen_rlib\u001B[49m\u001B[43m(\u001B[49m\u001B[43mR_HOME\u001B[49m\u001B[43m)\u001B[49m\n\u001B[0;32m     26\u001B[0m \u001B[38;5;66;03m# R macros and functions\u001B[39;00m\n\u001B[0;32m     27\u001B[0m \u001B[38;5;28;01mdef\u001B[39;00m \u001B[38;5;21m_get_symbol_or_fallback\u001B[39m(symbol: \u001B[38;5;28mstr\u001B[39m, fallback):\n",
      "File \u001B[1;32mc:\\users\\meisamasgri\\dropbox\\git\\covid19andmentalhealth\\venv\\lib\\site-packages\\rpy2\\rinterface_lib\\openrlib.py:18\u001B[0m, in \u001B[0;36m_dlopen_rlib\u001B[1;34m(r_home)\u001B[0m\n\u001B[0;32m     15\u001B[0m \u001B[38;5;28;01mif\u001B[39;00m r_home \u001B[38;5;129;01mis\u001B[39;00m \u001B[38;5;28;01mNone\u001B[39;00m:\n\u001B[0;32m     16\u001B[0m     \u001B[38;5;28;01mraise\u001B[39;00m \u001B[38;5;167;01mValueError\u001B[39;00m(\u001B[38;5;124m'\u001B[39m\u001B[38;5;124mr_home is None. \u001B[39m\u001B[38;5;124m'\u001B[39m\n\u001B[0;32m     17\u001B[0m                      \u001B[38;5;124m'\u001B[39m\u001B[38;5;124mTry python -m rpy2.situation\u001B[39m\u001B[38;5;124m'\u001B[39m)\n\u001B[1;32m---> 18\u001B[0m lib_path \u001B[38;5;241m=\u001B[39m \u001B[43mrpy2\u001B[49m\u001B[38;5;241;43m.\u001B[39;49m\u001B[43msituation\u001B[49m\u001B[38;5;241;43m.\u001B[39;49m\u001B[43mget_rlib_path\u001B[49m\u001B[43m(\u001B[49m\u001B[43mr_home\u001B[49m\u001B[43m,\u001B[49m\u001B[43m \u001B[49m\u001B[43mplatform\u001B[49m\u001B[38;5;241;43m.\u001B[39;49m\u001B[43msystem\u001B[49m\u001B[43m(\u001B[49m\u001B[43m)\u001B[49m\u001B[43m)\u001B[49m\n\u001B[0;32m     19\u001B[0m rlib \u001B[38;5;241m=\u001B[39m ffi\u001B[38;5;241m.\u001B[39mdlopen(lib_path)\n\u001B[0;32m     20\u001B[0m \u001B[38;5;28;01mreturn\u001B[39;00m rlib\n",
      "File \u001B[1;32mc:\\users\\meisamasgri\\dropbox\\git\\covid19andmentalhealth\\venv\\lib\\site-packages\\rpy2\\situation.py:72\u001B[0m, in \u001B[0;36mget_rlib_path\u001B[1;34m(r_home, system)\u001B[0m\n\u001B[0;32m     70\u001B[0m     lib_path \u001B[38;5;241m=\u001B[39m os\u001B[38;5;241m.\u001B[39mpath\u001B[38;5;241m.\u001B[39mjoin(r_home, \u001B[38;5;124m'\u001B[39m\u001B[38;5;124mlib\u001B[39m\u001B[38;5;124m'\u001B[39m, \u001B[38;5;124m'\u001B[39m\u001B[38;5;124mlibR.dylib\u001B[39m\u001B[38;5;124m'\u001B[39m)\n\u001B[0;32m     71\u001B[0m \u001B[38;5;28;01melse\u001B[39;00m:\n\u001B[1;32m---> 72\u001B[0m     \u001B[38;5;28;01mraise\u001B[39;00m \u001B[38;5;167;01mValueError\u001B[39;00m(\u001B[38;5;124m'\u001B[39m\u001B[38;5;124mThe system \u001B[39m\u001B[38;5;124m\"\u001B[39m\u001B[38;5;132;01m%s\u001B[39;00m\u001B[38;5;124m\"\u001B[39m\u001B[38;5;124m is not supported.\u001B[39m\u001B[38;5;124m'\u001B[39m)\n\u001B[0;32m     73\u001B[0m \u001B[38;5;28;01mreturn\u001B[39;00m lib_path\n",
      "\u001B[1;31mValueError\u001B[0m: The system \"%s\" is not supported."
     ]
    }
   ],
   "source": [
    "from rpy2.robjects import pandas2ri\n",
    "pandas2ri.activate()\n",
    "\n",
    "import rpy2.robjects as ro\n",
    "from rpy2.robjects.packages import importr\n",
    "\n",
    "arules = importr(\"arules\")\n",
    "\n",
    "# some helper functions\n",
    "# def arules_as_matrix(x, what = \"items\"):\n",
    "#     return ro.r('function(x) as(' + what + '(x), \"matrix\")')(x)\n",
    "#\n",
    "# def arules_as_dict(x, what = \"items\"):\n",
    "#     l = ro.r('function(x) as(' + what + '(x), \"list\")')(x)\n",
    "#     l.names = [*range(0, len(l))]\n",
    "#     return dict(zip(l.names, map(list,list(l))))\n",
    "#\n",
    "# def arules_quality(x):\n",
    "#     return x.slots[\"quality\"]\n",
    "\n",
    "\n",
    "rules = arules.apriori(df,\n",
    "   parameter = ro.ListVector({\"supp\": 0.1, \"conf\": 0.8}))"
   ],
   "metadata": {
    "collapsed": false,
    "pycharm": {
     "name": "#%%\n"
    }
   }
  },
  {
   "cell_type": "code",
   "execution_count": null,
   "outputs": [],
   "source": [
    "# #finding association rules\n",
    "# from mlxtend.frequent_patterns import association_rules\n",
    "# res = association_rules(frequent_itemsets , metric=\"confidence\" , min_threshold=0.7)"
   ],
   "metadata": {
    "collapsed": false,
    "pycharm": {
     "name": "#%%\n"
    }
   }
  }
 ],
 "metadata": {
  "kernelspec": {
   "display_name": "Python 3",
   "language": "python",
   "name": "python3"
  },
  "language_info": {
   "codemirror_mode": {
    "name": "ipython",
    "version": 2
   },
   "file_extension": ".py",
   "mimetype": "text/x-python",
   "name": "python",
   "nbconvert_exporter": "python",
   "pygments_lexer": "ipython2",
   "version": "2.7.6"
  }
 },
 "nbformat": 4,
 "nbformat_minor": 0
}