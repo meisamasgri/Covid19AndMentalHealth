{
 "cells": [
  {
   "cell_type": "code",
   "execution_count": 59,
   "outputs": [
    {
     "data": {
      "text/plain": "       Sex Sex_Other   Age                                    Education  \\\n0    Woman       NaN  56.0                                          NaN   \n1    Woman       NaN  24.0                  College or bachelors degree   \n2    Woman       NaN  46.0                               Masters degree   \n3    Woman       NaN  23.0                               Masters degree   \n4    Woman       NaN  32.0                               Masters degree   \n..     ...       ...   ...                                          ...   \n306    Man       NaN  28.0                  College or bachelors degree   \n307  Woman       NaN  21.0  Technical, vocational or high school degree   \n308  Woman       NaN  26.0                               Masters degree   \n309  Woman       NaN  28.0  Technical, vocational or high school degree   \n310  Woman       NaN  32.0  Technical, vocational or high school degree   \n\n            Income Residence            Region  Household  Children  \\\n0              NaN       NaN               NaN        NaN       NaN   \n1        0 - 365 €     Rural             Drava        5.0       0.0   \n2    1460 - 1830 €     Rural             Drava        4.0       1.0   \n3      365 - 550 €     Rural           Gorizia        7.0       0.0   \n4       nad 2200 €     Urban  Central Slovenia        1.0       0.0   \n..             ...       ...               ...        ...       ...   \n306  1830 - 2200 €     Urban             Drava        1.0       0.0   \n307    550 - 730 €     Urban             Drava        2.0       0.0   \n308    365 - 550 €     Rural           Gorizia        4.0       0.0   \n309    550 - 730 €     Rural     Coastal-Carst       10.0       1.0   \n310  1100 - 1280 €     Urban             Drava        3.0       1.0   \n\n                     Employment  ...               Execution_hanging_out  \\\n0                           NaN  ...                    I do not execute   \n1               Working student  ...                    I do not execute   \n2      Emplyed in public sector  ...           I execute, it helps a lot   \n3               Working student  ...           I execute, it helps a lot   \n4    Employed in private sector  ...  I execute, but it does not help me   \n..                          ...  ...                                 ...   \n306               Self-employed  ...           I execute, it helps a lot   \n307                  Unemployed  ...    I execute, it helps a little bit   \n308                  Unemployed  ...    I execute, it helps a little bit   \n309                  Unemployed  ...           I execute, it helps a lot   \n310                  Unemployed  ...    I execute, it helps a little bit   \n\n                     Execution_health                     Execution_humor  \\\n0                    I do not execute           I execute, it helps a lot   \n1    I execute, it helps a little bit    I execute, it helps a little bit   \n2    I execute, it helps a little bit    I execute, it helps a little bit   \n3    I execute, it helps a little bit    I execute, it helps a little bit   \n4    I execute, it helps a little bit  I execute, but it does not help me   \n..                                ...                                 ...   \n306         I execute, it helps a lot    I execute, it helps a little bit   \n307                  I do not execute    I execute, it helps a little bit   \n308                  I do not execute    I execute, it helps a little bit   \n309                  I do not execute                    I do not execute   \n310  I execute, it helps a little bit    I execute, it helps a little bit   \n\n                      Execution_mindful                  Execution_activity  \\\n0             I execute, it helps a lot           I execute, it helps a lot   \n1                      I do not execute                    I do not execute   \n2      I execute, it helps a little bit    I execute, it helps a little bit   \n3      I execute, it helps a little bit    I execute, it helps a little bit   \n4    I execute, but it does not help me           I execute, it helps a lot   \n..                                  ...                                 ...   \n306                    I do not execute           I execute, it helps a lot   \n307    I execute, it helps a little bit    I execute, it helps a little bit   \n308           I execute, it helps a lot    I execute, it helps a little bit   \n309                    I do not execute                    I do not execute   \n310  I execute, but it does not help me  I execute, but it does not help me   \n\n                         Execution_info                   Execution_media  \\\n0                      I do not execute  I execute, it helps a little bit   \n1      I execute, it helps a little bit  I execute, it helps a little bit   \n2      I execute, it helps a little bit  I execute, it helps a little bit   \n3      I execute, it helps a little bit  I execute, it helps a little bit   \n4      I execute, it helps a little bit         I execute, it helps a lot   \n..                                  ...                               ...   \n306  I execute, but it does not help me  I execute, it helps a little bit   \n307    I execute, it helps a little bit  I execute, it helps a little bit   \n308           I execute, it helps a lot         I execute, it helps a lot   \n309           I execute, it helps a lot         I execute, it helps a lot   \n310                    I do not execute         I execute, it helps a lot   \n\n    Execution_total     Media_channel Media_channel_Other  \n0              14.0  Websites/portals                 NaN  \n1               8.0  Websites/portals                 NaN  \n2              17.0        Television                 NaN  \n3              18.0  Websites/portals                 NaN  \n4              15.0  Websites/portals                 NaN  \n..              ...               ...                 ...  \n306            16.0  Websites/portals                 NaN  \n307            14.0      Social media                 NaN  \n308            17.0      Social media                 NaN  \n309            11.0  Websites/portals                 NaN  \n310            12.0      Social media                 NaN  \n\n[311 rows x 86 columns]",
      "text/html": "<div>\n<style scoped>\n    .dataframe tbody tr th:only-of-type {\n        vertical-align: middle;\n    }\n\n    .dataframe tbody tr th {\n        vertical-align: top;\n    }\n\n    .dataframe thead th {\n        text-align: right;\n    }\n</style>\n<table border=\"1\" class=\"dataframe\">\n  <thead>\n    <tr style=\"text-align: right;\">\n      <th></th>\n      <th>Sex</th>\n      <th>Sex_Other</th>\n      <th>Age</th>\n      <th>Education</th>\n      <th>Income</th>\n      <th>Residence</th>\n      <th>Region</th>\n      <th>Household</th>\n      <th>Children</th>\n      <th>Employment</th>\n      <th>...</th>\n      <th>Execution_hanging_out</th>\n      <th>Execution_health</th>\n      <th>Execution_humor</th>\n      <th>Execution_mindful</th>\n      <th>Execution_activity</th>\n      <th>Execution_info</th>\n      <th>Execution_media</th>\n      <th>Execution_total</th>\n      <th>Media_channel</th>\n      <th>Media_channel_Other</th>\n    </tr>\n  </thead>\n  <tbody>\n    <tr>\n      <th>0</th>\n      <td>Woman</td>\n      <td>NaN</td>\n      <td>56.0</td>\n      <td>NaN</td>\n      <td>NaN</td>\n      <td>NaN</td>\n      <td>NaN</td>\n      <td>NaN</td>\n      <td>NaN</td>\n      <td>NaN</td>\n      <td>...</td>\n      <td>I do not execute</td>\n      <td>I do not execute</td>\n      <td>I execute, it helps a lot</td>\n      <td>I execute, it helps a lot</td>\n      <td>I execute, it helps a lot</td>\n      <td>I do not execute</td>\n      <td>I execute, it helps a little bit</td>\n      <td>14.0</td>\n      <td>Websites/portals</td>\n      <td>NaN</td>\n    </tr>\n    <tr>\n      <th>1</th>\n      <td>Woman</td>\n      <td>NaN</td>\n      <td>24.0</td>\n      <td>College or bachelors degree</td>\n      <td>0 - 365 €</td>\n      <td>Rural</td>\n      <td>Drava</td>\n      <td>5.0</td>\n      <td>0.0</td>\n      <td>Working student</td>\n      <td>...</td>\n      <td>I do not execute</td>\n      <td>I execute, it helps a little bit</td>\n      <td>I execute, it helps a little bit</td>\n      <td>I do not execute</td>\n      <td>I do not execute</td>\n      <td>I execute, it helps a little bit</td>\n      <td>I execute, it helps a little bit</td>\n      <td>8.0</td>\n      <td>Websites/portals</td>\n      <td>NaN</td>\n    </tr>\n    <tr>\n      <th>2</th>\n      <td>Woman</td>\n      <td>NaN</td>\n      <td>46.0</td>\n      <td>Masters degree</td>\n      <td>1460 - 1830 €</td>\n      <td>Rural</td>\n      <td>Drava</td>\n      <td>4.0</td>\n      <td>1.0</td>\n      <td>Emplyed in public sector</td>\n      <td>...</td>\n      <td>I execute, it helps a lot</td>\n      <td>I execute, it helps a little bit</td>\n      <td>I execute, it helps a little bit</td>\n      <td>I execute, it helps a little bit</td>\n      <td>I execute, it helps a little bit</td>\n      <td>I execute, it helps a little bit</td>\n      <td>I execute, it helps a little bit</td>\n      <td>17.0</td>\n      <td>Television</td>\n      <td>NaN</td>\n    </tr>\n    <tr>\n      <th>3</th>\n      <td>Woman</td>\n      <td>NaN</td>\n      <td>23.0</td>\n      <td>Masters degree</td>\n      <td>365 - 550 €</td>\n      <td>Rural</td>\n      <td>Gorizia</td>\n      <td>7.0</td>\n      <td>0.0</td>\n      <td>Working student</td>\n      <td>...</td>\n      <td>I execute, it helps a lot</td>\n      <td>I execute, it helps a little bit</td>\n      <td>I execute, it helps a little bit</td>\n      <td>I execute, it helps a little bit</td>\n      <td>I execute, it helps a little bit</td>\n      <td>I execute, it helps a little bit</td>\n      <td>I execute, it helps a little bit</td>\n      <td>18.0</td>\n      <td>Websites/portals</td>\n      <td>NaN</td>\n    </tr>\n    <tr>\n      <th>4</th>\n      <td>Woman</td>\n      <td>NaN</td>\n      <td>32.0</td>\n      <td>Masters degree</td>\n      <td>nad 2200 €</td>\n      <td>Urban</td>\n      <td>Central Slovenia</td>\n      <td>1.0</td>\n      <td>0.0</td>\n      <td>Employed in private sector</td>\n      <td>...</td>\n      <td>I execute, but it does not help me</td>\n      <td>I execute, it helps a little bit</td>\n      <td>I execute, but it does not help me</td>\n      <td>I execute, but it does not help me</td>\n      <td>I execute, it helps a lot</td>\n      <td>I execute, it helps a little bit</td>\n      <td>I execute, it helps a lot</td>\n      <td>15.0</td>\n      <td>Websites/portals</td>\n      <td>NaN</td>\n    </tr>\n    <tr>\n      <th>...</th>\n      <td>...</td>\n      <td>...</td>\n      <td>...</td>\n      <td>...</td>\n      <td>...</td>\n      <td>...</td>\n      <td>...</td>\n      <td>...</td>\n      <td>...</td>\n      <td>...</td>\n      <td>...</td>\n      <td>...</td>\n      <td>...</td>\n      <td>...</td>\n      <td>...</td>\n      <td>...</td>\n      <td>...</td>\n      <td>...</td>\n      <td>...</td>\n      <td>...</td>\n      <td>...</td>\n    </tr>\n    <tr>\n      <th>306</th>\n      <td>Man</td>\n      <td>NaN</td>\n      <td>28.0</td>\n      <td>College or bachelors degree</td>\n      <td>1830 - 2200 €</td>\n      <td>Urban</td>\n      <td>Drava</td>\n      <td>1.0</td>\n      <td>0.0</td>\n      <td>Self-employed</td>\n      <td>...</td>\n      <td>I execute, it helps a lot</td>\n      <td>I execute, it helps a lot</td>\n      <td>I execute, it helps a little bit</td>\n      <td>I do not execute</td>\n      <td>I execute, it helps a lot</td>\n      <td>I execute, but it does not help me</td>\n      <td>I execute, it helps a little bit</td>\n      <td>16.0</td>\n      <td>Websites/portals</td>\n      <td>NaN</td>\n    </tr>\n    <tr>\n      <th>307</th>\n      <td>Woman</td>\n      <td>NaN</td>\n      <td>21.0</td>\n      <td>Technical, vocational or high school degree</td>\n      <td>550 - 730 €</td>\n      <td>Urban</td>\n      <td>Drava</td>\n      <td>2.0</td>\n      <td>0.0</td>\n      <td>Unemployed</td>\n      <td>...</td>\n      <td>I execute, it helps a little bit</td>\n      <td>I do not execute</td>\n      <td>I execute, it helps a little bit</td>\n      <td>I execute, it helps a little bit</td>\n      <td>I execute, it helps a little bit</td>\n      <td>I execute, it helps a little bit</td>\n      <td>I execute, it helps a little bit</td>\n      <td>14.0</td>\n      <td>Social media</td>\n      <td>NaN</td>\n    </tr>\n    <tr>\n      <th>308</th>\n      <td>Woman</td>\n      <td>NaN</td>\n      <td>26.0</td>\n      <td>Masters degree</td>\n      <td>365 - 550 €</td>\n      <td>Rural</td>\n      <td>Gorizia</td>\n      <td>4.0</td>\n      <td>0.0</td>\n      <td>Unemployed</td>\n      <td>...</td>\n      <td>I execute, it helps a little bit</td>\n      <td>I do not execute</td>\n      <td>I execute, it helps a little bit</td>\n      <td>I execute, it helps a lot</td>\n      <td>I execute, it helps a little bit</td>\n      <td>I execute, it helps a lot</td>\n      <td>I execute, it helps a lot</td>\n      <td>17.0</td>\n      <td>Social media</td>\n      <td>NaN</td>\n    </tr>\n    <tr>\n      <th>309</th>\n      <td>Woman</td>\n      <td>NaN</td>\n      <td>28.0</td>\n      <td>Technical, vocational or high school degree</td>\n      <td>550 - 730 €</td>\n      <td>Rural</td>\n      <td>Coastal-Carst</td>\n      <td>10.0</td>\n      <td>1.0</td>\n      <td>Unemployed</td>\n      <td>...</td>\n      <td>I execute, it helps a lot</td>\n      <td>I do not execute</td>\n      <td>I do not execute</td>\n      <td>I do not execute</td>\n      <td>I do not execute</td>\n      <td>I execute, it helps a lot</td>\n      <td>I execute, it helps a lot</td>\n      <td>11.0</td>\n      <td>Websites/portals</td>\n      <td>NaN</td>\n    </tr>\n    <tr>\n      <th>310</th>\n      <td>Woman</td>\n      <td>NaN</td>\n      <td>32.0</td>\n      <td>Technical, vocational or high school degree</td>\n      <td>1100 - 1280 €</td>\n      <td>Urban</td>\n      <td>Drava</td>\n      <td>3.0</td>\n      <td>1.0</td>\n      <td>Unemployed</td>\n      <td>...</td>\n      <td>I execute, it helps a little bit</td>\n      <td>I execute, it helps a little bit</td>\n      <td>I execute, it helps a little bit</td>\n      <td>I execute, but it does not help me</td>\n      <td>I execute, but it does not help me</td>\n      <td>I do not execute</td>\n      <td>I execute, it helps a lot</td>\n      <td>12.0</td>\n      <td>Social media</td>\n      <td>NaN</td>\n    </tr>\n  </tbody>\n</table>\n<p>311 rows × 86 columns</p>\n</div>"
     },
     "execution_count": 59,
     "metadata": {},
     "output_type": "execute_result"
    }
   ],
   "source": [
    "#converting spss dataset(.sav) into pandas dataframe\n",
    "import pyreadstat\n",
    "df, meta = pyreadstat.read_sav(\"Slovenia_COVID-19&Mental_Health.sav\", apply_value_formats=True,\n",
    "                                formats_as_category=True, formats_as_ordered_category=False)\n",
    "df\n"
   ],
   "metadata": {
    "collapsed": false,
    "pycharm": {
     "name": "#%%\n"
    }
   }
  },
  {
   "cell_type": "code",
   "execution_count": 31,
   "outputs": [
    {
     "data": {
      "text/plain": "Gender=Woman    259\nGender=Man       51\nGender=Other      1\nName: Sex, dtype: int64"
     },
     "execution_count": 31,
     "metadata": {},
     "output_type": "execute_result"
    }
   ],
   "source": [
    "#preparing Sex\n",
    "df['Sex'].replace(to_replace=['Woman', 'Man' , 'Other'],\n",
    "           value= ['Gender=Woman', 'Gender=Man' , 'Gender=Other'],\n",
    "           inplace=True)\n",
    "df['Sex'].value_counts()\n",
    "# df.loc[df['Sex'] == 'Other']\n",
    "\n",
    "#preparing Sex_Other\n",
    "del df['Sex_Other']\n",
    "\n",
    "#preparing Age\n",
    "#discretizing continuous numeric variable of Age into 4 categories\n",
    "#new labels are: 0-14 as Child , 14-24 as Young , 24-64 as Adults , 64-100 as Senior\n",
    "import pandas as pd\n",
    "df['binned']=pd.cut(x=df['Age'], bins=[0,14,24,64,100])\n",
    "age_category = ['Age=Child', 'Age=Young', 'Age=Adults', 'Age=Senior']\n",
    "df['Age']=pd.cut(x=df['Age'], bins=[0,14,24,64,100],labels=age_category)\n",
    "\n",
    "\n",
    "#preparing education\n",
    "df['Education'].replace(to_replace=['Masters degree', 'Technical, vocational or high school degree' , 'College or bachelors degree' , 'Doctoral degree' , 'Masters degree (pre-Bolognia Process Resolution)' , 'Elementary school'],\n",
    "           value= ['Education_Degree=M.Sc.', 'Education_Degree=High School' , 'Education_Degree=B.Sc. or College' , 'Education_Degree=Ph.D', 'Education_Degree=M.Sc. pre-Bolognia' , 'Education_Degree=Elementary School'],\n",
    "           inplace=True)\n",
    "# df['Education'].value_counts()\n",
    "\n",
    "#preparing Income\n",
    "df['Income'].replace(to_replace=['0 - 365 €', '920 - 1100 €' , '1100 - 1280 €' , '1280 - 1460 €' , '1460 - 1830 €' , '365 - 550 €' , '730 - 920 €'],\n",
    "           value= ['Income_Low=0-365€', 'Income_Lower_Middle=920-1100€' , 'Income_Middle=1100-1280€' , 'Income_Higher_Middle=1280-1460€', 'Income_High=1460-1830€' , 'Income_Low=365-550€' , 'Income_Lower_Middle=730-920€' ],\n",
    "           inplace=True)\n",
    "# df['Income'].value_counts()\n",
    "\n",
    "#preparing Residence\n",
    "df['Residence'].replace(to_replace=['Urban', 'Rural'],\n",
    "           value= ['Residence=Urban', 'Residence=Rural'],\n",
    "           inplace=True)\n",
    "# df['Residence'].value_counts()\n",
    "\n",
    "#preparing Region\n",
    "df['Region'].replace(to_replace=['Central Slovenia', 'Coastal-Carst' , 'Drava' , 'Littoral–Inner Carniola' , 'Lower Sava' , 'Gorizia' , 'Savinja'],\n",
    "           value= ['Region=Central Slovenia', 'Region=Coastal-Carst' , 'Region=Drava' , 'Region=Littoral–Inner Carniola' , 'Region=Lower Sava' , 'Region=Gorizia' , 'Region=Savinja'],\n",
    "           inplace=True)\n",
    "# df['Region'].value_counts()\n",
    "\n",
    "\n",
    "#preparing Household\n",
    "Household_category = ['Household=1 person', 'Household=2 people', 'Household=3-6 people', 'Household=more than 6 people']\n",
    "df['Household']=pd.cut(x=df['Household'], bins=[0, 1, 2, 6, 100],labels=Household_category)\n",
    "\n",
    "#preparing Children\n",
    "Children_category = ['Children=no child', 'Children=1 child', 'Children=2 or 3 childs', 'Children=more than 3 childs']\n",
    "df['Children']=pd.cut(x=df['Children'], bins=[-1,0, 1, 3, 100],labels=Children_category)\n",
    "# df['Children'].value_counts()\n",
    "\n",
    "#preparing Employment\n",
    "df['Employment'].replace(to_replace=['Emplyed in public sector', 'Working student' , 'Employed in private sector' , 'Self-employed' , 'Unemployed' , 'Retired'],\n",
    "           value= ['Employment=public sector', 'Employment=student' , 'Employment=private sector' , 'Employment=Self-employed' , 'Employment=Unemployed' , 'Employment=Retired'],\n",
    "           inplace=True)\n",
    "# df['Employment'].value_counts()\n",
    "\n",
    "#preparing Employment_Other\n",
    "del df['Employment_Other']\n",
    "\n",
    "#preparing Changes_Work\n",
    "df['Changes_Work'].replace(to_replace=['I work from home all the time and I (almost) never worked from home before', 'I partialy worked from home before, now I work from home all the time' , 'I cannot do my job due to Covid-19 and I am not recieving any monetary compensation' , 'I did not undergo any substantial changes regarding my work' , 'Other' , 'I cannot do my job due to Covid-19 and I am recieving monetary compensation' , 'I partially work from home and I (almost) never worked from home before' , 'I work in the spaces of my organisation, but in a different location'],\n",
    "           value= ['Changes_Work=All Time Home & No Home Before', 'Changes_Work=All Time Home & Partialy Home Before' , 'Changes_Work=Cannot Do Job & No Money' , 'Changes_Work=No Changes at work' , 'Changes_Work=Other' , 'Changes_Work=Cannot Do Job but received Money' , 'Changes_Work=Partialy Home & No Home Before','Changes_Work=Change the place of work'],\n",
    "           inplace=True)\n",
    "\n",
    "# df['Changes_Work'].value_counts()\n",
    "\n",
    "#preparing Changes_Work_Other\n",
    "del df['Changes_Work_Other']\n",
    "\n",
    "#preparing Share_Wage\n",
    "Share_Wage_category = ['Share_Wage=Low(0-20%)', 'Share_Wage=Medium(20-50%)', 'Share_Wage=High(50-100%']\n",
    "df['Share_Wage']=pd.cut(x=df['Share_Wage'], bins=[-1,20, 50, 100],labels=Share_Wage_category)\n",
    "# df['Share_Wage'].value_counts()\n",
    "\n",
    "#preparing Work_Quantity\n",
    "df['Work_Quantity'].replace(to_replace=['I am working less than before', 'I did not notice any changes regarding the quantity of my work' , 'I am working more than before'],\n",
    "           value= ['Work_Quantity=Work less than before', 'Work_Quantity=Work same as before' , 'Work_Quantity=Work more than before'],\n",
    "           inplace=True)\n",
    "# df['Work_Quantity'].value_counts()\n",
    "\n",
    "\n"
   ],
   "metadata": {
    "collapsed": false,
    "pycharm": {
     "name": "#%%\n"
    }
   }
  },
  {
   "cell_type": "code",
   "execution_count": 60,
   "outputs": [
    {
     "data": {
      "text/plain": "0                               NaN\n1              Household=3-6 people\n2              Household=3-6 people\n3      Household=more than 6 people\n4                Household=1 person\n                   ...             \n306              Household=1 person\n307              Household=2 people\n308            Household=3-6 people\n309    Household=more than 6 people\n310            Household=3-6 people\nName: Household, Length: 311, dtype: category\nCategories (4, object): ['Household=1 person' < 'Household=2 people' < 'Household=3-6 people' < 'Household=more than 6 people']"
     },
     "execution_count": 60,
     "metadata": {},
     "output_type": "execute_result"
    }
   ],
   "source": [
    "import numpy as np\n",
    "\n",
    "# bins = [1, 2, 3, 6, np.inf]\n",
    "# df['binned']=pd.cut(x=df['Household'], bins=[0,14,24,64,100])\n",
    "Household_category = ['Household=1 person', 'Household=2 people', 'Household=3-6 people', 'Household=more than 6 people']\n",
    "\n",
    "df['Household']=pd.cut(x=df['Household'], bins=[0, 1, 2, 6, 100],labels=Household_category)\n",
    "# df['Household'] = pd.cut(df['Household'], bins, labels=names)\n",
    "df['Household']\n",
    "\n",
    "# df[df.columns[2:]].map({0:False, 1:True})"
   ],
   "metadata": {
    "collapsed": false,
    "pycharm": {
     "name": "#%%\n"
    }
   }
  },
  {
   "cell_type": "code",
   "execution_count": 71,
   "outputs": [
    {
     "data": {
      "text/plain": "Work_Quantity=Work less than before    125\nWork_Quantity=Work same as before       95\nWork_Quantity=Work more than before     82\nName: Work_Quantity, dtype: int64"
     },
     "execution_count": 71,
     "metadata": {},
     "output_type": "execute_result"
    }
   ],
   "source": [],
   "metadata": {
    "collapsed": false,
    "pycharm": {
     "name": "#%%\n"
    }
   }
  },
  {
   "cell_type": "code",
   "execution_count": 61,
   "outputs": [
    {
     "data": {
      "text/plain": "0.0    187\n1.0     64\n2.0     42\n3.0      5\n8.0      1\n5.0      1\nName: Children, dtype: int64"
     },
     "execution_count": 61,
     "metadata": {},
     "output_type": "execute_result"
    }
   ],
   "source": [],
   "metadata": {
    "collapsed": false,
    "pycharm": {
     "name": "#%%\n"
    }
   }
  },
  {
   "cell_type": "code",
   "execution_count": 63,
   "outputs": [
    {
     "data": {
      "text/plain": "Emplyed in public sector      124\nWorking student                90\nEmployed in private sector     39\nSelf-employed                  25\nUnemployed                     21\nRetired                         8\nName: Employment, dtype: int64"
     },
     "execution_count": 63,
     "metadata": {},
     "output_type": "execute_result"
    }
   ],
   "source": [
    "df['Employment'].value_counts()"
   ],
   "metadata": {
    "collapsed": false,
    "pycharm": {
     "name": "#%%\n"
    }
   }
  },
  {
   "cell_type": "code",
   "execution_count": 5,
   "outputs": [
    {
     "data": {
      "text/plain": "       1      2      3      4      5      6      A      B      C      D  ...  \\\n0  False  False  False  False  False  False  False  False  False  False  ...   \n1  False  False  False  False  False  False  False  False  False  False  ...   \n2  False  False  False  False  False  False   True  False  False  False  ...   \n3  False  False  False  False  False  False  False  False  False  False  ...   \n4  False  False  False  False  False  False  False  False  False  False  ...   \n\n       o      p      r      s      t      u      v      w      x      y  \n0  False  False  False  False  False  False  False  False   True  False  \n1  False  False   True  False   True  False  False  False   True  False  \n2  False  False  False  False  False  False  False  False  False  False  \n3   True  False  False  False   True   True  False  False  False  False  \n4   True  False  False  False  False  False  False  False  False  False  \n\n[5 rows x 52 columns]",
      "text/html": "<div>\n<style scoped>\n    .dataframe tbody tr th:only-of-type {\n        vertical-align: middle;\n    }\n\n    .dataframe tbody tr th {\n        vertical-align: top;\n    }\n\n    .dataframe thead th {\n        text-align: right;\n    }\n</style>\n<table border=\"1\" class=\"dataframe\">\n  <thead>\n    <tr style=\"text-align: right;\">\n      <th></th>\n      <th>1</th>\n      <th>2</th>\n      <th>3</th>\n      <th>4</th>\n      <th>5</th>\n      <th>6</th>\n      <th>A</th>\n      <th>B</th>\n      <th>C</th>\n      <th>D</th>\n      <th>...</th>\n      <th>o</th>\n      <th>p</th>\n      <th>r</th>\n      <th>s</th>\n      <th>t</th>\n      <th>u</th>\n      <th>v</th>\n      <th>w</th>\n      <th>x</th>\n      <th>y</th>\n    </tr>\n  </thead>\n  <tbody>\n    <tr>\n      <th>0</th>\n      <td>False</td>\n      <td>False</td>\n      <td>False</td>\n      <td>False</td>\n      <td>False</td>\n      <td>False</td>\n      <td>False</td>\n      <td>False</td>\n      <td>False</td>\n      <td>False</td>\n      <td>...</td>\n      <td>False</td>\n      <td>False</td>\n      <td>False</td>\n      <td>False</td>\n      <td>False</td>\n      <td>False</td>\n      <td>False</td>\n      <td>False</td>\n      <td>True</td>\n      <td>False</td>\n    </tr>\n    <tr>\n      <th>1</th>\n      <td>False</td>\n      <td>False</td>\n      <td>False</td>\n      <td>False</td>\n      <td>False</td>\n      <td>False</td>\n      <td>False</td>\n      <td>False</td>\n      <td>False</td>\n      <td>False</td>\n      <td>...</td>\n      <td>False</td>\n      <td>False</td>\n      <td>True</td>\n      <td>False</td>\n      <td>True</td>\n      <td>False</td>\n      <td>False</td>\n      <td>False</td>\n      <td>True</td>\n      <td>False</td>\n    </tr>\n    <tr>\n      <th>2</th>\n      <td>False</td>\n      <td>False</td>\n      <td>False</td>\n      <td>False</td>\n      <td>False</td>\n      <td>False</td>\n      <td>True</td>\n      <td>False</td>\n      <td>False</td>\n      <td>False</td>\n      <td>...</td>\n      <td>False</td>\n      <td>False</td>\n      <td>False</td>\n      <td>False</td>\n      <td>False</td>\n      <td>False</td>\n      <td>False</td>\n      <td>False</td>\n      <td>False</td>\n      <td>False</td>\n    </tr>\n    <tr>\n      <th>3</th>\n      <td>False</td>\n      <td>False</td>\n      <td>False</td>\n      <td>False</td>\n      <td>False</td>\n      <td>False</td>\n      <td>False</td>\n      <td>False</td>\n      <td>False</td>\n      <td>False</td>\n      <td>...</td>\n      <td>True</td>\n      <td>False</td>\n      <td>False</td>\n      <td>False</td>\n      <td>True</td>\n      <td>True</td>\n      <td>False</td>\n      <td>False</td>\n      <td>False</td>\n      <td>False</td>\n    </tr>\n    <tr>\n      <th>4</th>\n      <td>False</td>\n      <td>False</td>\n      <td>False</td>\n      <td>False</td>\n      <td>False</td>\n      <td>False</td>\n      <td>False</td>\n      <td>False</td>\n      <td>False</td>\n      <td>False</td>\n      <td>...</td>\n      <td>True</td>\n      <td>False</td>\n      <td>False</td>\n      <td>False</td>\n      <td>False</td>\n      <td>False</td>\n      <td>False</td>\n      <td>False</td>\n      <td>False</td>\n      <td>False</td>\n    </tr>\n  </tbody>\n</table>\n<p>5 rows × 52 columns</p>\n</div>"
     },
     "execution_count": 5,
     "metadata": {},
     "output_type": "execute_result"
    }
   ],
   "source": [
    "import pandas as pd\n",
    "from mlxtend.preprocessing import TransactionEncoder\n",
    "\n",
    "te = TransactionEncoder()\n",
    "te_ary = te.fit(dataset).transform(dataset)\n",
    "df = pd.DataFrame(te_ary, columns=te.columns_)\n",
    "df.head()"
   ],
   "metadata": {
    "collapsed": false,
    "pycharm": {
     "name": "#%%\n"
    }
   }
  },
  {
   "cell_type": "code",
   "execution_count": 7,
   "outputs": [
    {
     "data": {
      "text/plain": "Empty DataFrame\nColumns: [support, itemsets]\nIndex: []",
      "text/html": "<div>\n<style scoped>\n    .dataframe tbody tr th:only-of-type {\n        vertical-align: middle;\n    }\n\n    .dataframe tbody tr th {\n        vertical-align: top;\n    }\n\n    .dataframe thead th {\n        text-align: right;\n    }\n</style>\n<table border=\"1\" class=\"dataframe\">\n  <thead>\n    <tr style=\"text-align: right;\">\n      <th></th>\n      <th>support</th>\n      <th>itemsets</th>\n    </tr>\n  </thead>\n  <tbody>\n  </tbody>\n</table>\n</div>"
     },
     "execution_count": 7,
     "metadata": {},
     "output_type": "execute_result"
    }
   ],
   "source": [
    "#finding frequent itemsets using apriori\n",
    "from mlxtend.frequent_patterns import apriori\n",
    "# sex_to_boolean = {'True' : 0 , 'False' : 1 }\n",
    "# df['Sex'] = df['Sex'].map(sex_to_boolean)\n",
    "frequent_itemsets = apriori(df , min_support=0.6 , use_colnames=True)\n",
    "frequent_itemsets"
   ],
   "metadata": {
    "collapsed": false,
    "pycharm": {
     "name": "#%%\n"
    }
   }
  },
  {
   "cell_type": "code",
   "execution_count": null,
   "outputs": [],
   "source": [
    "#finding association rules\n",
    "from mlxtend.frequent_patterns import association_rules\n",
    "res = association_rules(frequent_itemsets , metric=\"confidence\" , min_threshold=0.7)"
   ],
   "metadata": {
    "collapsed": false,
    "pycharm": {
     "name": "#%%\n"
    }
   }
  }
 ],
 "metadata": {
  "kernelspec": {
   "display_name": "Python 3",
   "language": "python",
   "name": "python3"
  },
  "language_info": {
   "codemirror_mode": {
    "name": "ipython",
    "version": 2
   },
   "file_extension": ".py",
   "mimetype": "text/x-python",
   "name": "python",
   "nbconvert_exporter": "python",
   "pygments_lexer": "ipython2",
   "version": "2.7.6"
  }
 },
 "nbformat": 4,
 "nbformat_minor": 0
}