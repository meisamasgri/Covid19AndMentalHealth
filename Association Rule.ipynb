{
 "cells": [
  {
   "cell_type": "code",
   "execution_count": null,
   "outputs": [],
   "source": [
    "#converting spss dataset(.sav) to pandas dataframe\n",
    "import pyreadstat\n",
    "df, meta = pyreadstat.read_sav(\"Slovenia_COVID-19&Mental_Health.sav\", apply_value_formats=True,\n",
    "                                formats_as_category=True, formats_as_ordered_category=False)\n",
    "df.head()"
   ],
   "metadata": {
    "collapsed": false,
    "pycharm": {
     "name": "#%%\n",
     "is_executing": true
    }
   }
  },
  {
   "cell_type": "code",
   "execution_count": null,
   "outputs": [],
   "source": [
    "#finding frequent itemsets using apriori\n",
    "from mlxtend.frequent_patterns import apriori\n",
    "frequent_itemsets = apriori(df , min_support=0.6 , use_colnames=True)\n",
    "frequent_itemsets"
   ],
   "metadata": {
    "collapsed": false,
    "pycharm": {
     "name": "#%%\n",
     "is_executing": true
    }
   }
  },
  {
   "cell_type": "code",
   "execution_count": null,
   "outputs": [],
   "source": [
    "#finding association rules\n",
    "from mlxtend.frequent_patterns import association_rules\n",
    "res = association_rules(frequent_itemsets , metric=\"confidence\" , min_threshold=0.7)"
   ],
   "metadata": {
    "collapsed": false,
    "pycharm": {
     "name": "#%%\n"
    }
   }
  }
 ],
 "metadata": {
  "kernelspec": {
   "display_name": "Python 3",
   "language": "python",
   "name": "python3"
  },
  "language_info": {
   "codemirror_mode": {
    "name": "ipython",
    "version": 2
   },
   "file_extension": ".py",
   "mimetype": "text/x-python",
   "name": "python",
   "nbconvert_exporter": "python",
   "pygments_lexer": "ipython2",
   "version": "2.7.6"
  }
 },
 "nbformat": 4,
 "nbformat_minor": 0
}